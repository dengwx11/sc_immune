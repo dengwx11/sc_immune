{
 "cells": [
  {
   "cell_type": "code",
   "execution_count": 19,
   "metadata": {},
   "outputs": [],
   "source": [
    "setwd(\"~/zhao-data/sc_immune/sc_immune/\")\n",
    "source('SAME/run_same.v2.R')\n",
    "#source('Batch_Correction/platform_batch_correction_combat.R')"
   ]
  },
  {
   "cell_type": "code",
   "execution_count": 17,
   "metadata": {},
   "outputs": [],
   "source": [
    "taget_tissue <- 'PBMC'\n",
    "files = list.files(path = '/gpfs/ysm/home/bl666/HCL/Pseudo_Bulk',pattern = \"*_updated.rds\", full.names = TRUE)\n",
    "tissue_list <- c(\"BM\",\"CB\",\"Kidney\",\"Liver\",\"Lung\",\"PBMC\")\n",
    "celltype_used_list <- c(\"B\", \"Neutrophil\", \"NK cell\", \"T\")\n",
    "YSG <- readRDS(\"/gpfs/ysm/pi/zhao-data/wd262/sc_immune/sc_immune/data/NSCLC/sg.list.rds\")\n",
    "output_path = \"/gpfs/ysm/pi/zhao-data/wd262/sc_immune/write/pipeline_on_HCL\"\n",
    "mcmc_samples_theta1=5"
   ]
  },
  {
   "cell_type": "code",
   "execution_count": 20,
   "metadata": {
    "scrolled": true
   },
   "outputs": [
    {
     "name": "stderr",
     "output_type": "stream",
     "text": [
      "Finished averaging RNA for cluster Plasmocyte\n",
      "\n",
      "Finished averaging RNA for cluster T\n",
      "\n",
      "Finished averaging RNA for cluster B\n",
      "\n",
      "Finished averaging RNA for cluster Macrophage\n",
      "\n",
      "Finished averaging RNA for cluster Monocyte\n",
      "\n",
      "Finished averaging RNA for cluster Neutrophil\n",
      "\n",
      "Finished averaging RNA for cluster NK cell\n",
      "\n",
      "Finished averaging RNA for cluster Dendritic cell\n",
      "\n",
      "Finished averaging RNA for cluster Neutrophil\n",
      "\n",
      "Finished averaging RNA for cluster Monocyte\n",
      "\n",
      "Finished averaging RNA for cluster NK cell\n",
      "\n",
      "Finished averaging RNA for cluster Dendritic cell\n",
      "\n",
      "Finished averaging RNA for cluster T\n",
      "\n",
      "Finished averaging RNA for cluster B\n",
      "\n",
      "Finished averaging RNA for cluster Plasmocyte\n",
      "\n",
      "Finished averaging RNA for cluster Macrophage\n",
      "\n",
      "Finished averaging RNA for cluster T\n",
      "\n",
      "Finished averaging RNA for cluster Dendritic cell\n",
      "\n",
      "Finished averaging RNA for cluster B\n",
      "\n",
      "Finished averaging RNA for cluster Plasmocyte\n",
      "\n",
      "Finished averaging RNA for cluster Neutrophil\n",
      "\n",
      "Finished averaging RNA for cluster Plasmocyte\n",
      "\n",
      "Finished averaging RNA for cluster T\n",
      "\n",
      "Finished averaging RNA for cluster Neutrophil\n",
      "\n",
      "Finished averaging RNA for cluster Macrophage\n",
      "\n",
      "Finished averaging RNA for cluster Dendritic cell\n",
      "\n",
      "Finished averaging RNA for cluster Plasmocyte\n",
      "\n",
      "Finished averaging RNA for cluster Macrophage\n",
      "\n",
      "Finished averaging RNA for cluster T\n",
      "\n",
      "Finished averaging RNA for cluster Neutrophil\n",
      "\n",
      "Finished averaging RNA for cluster Dendritic cell\n",
      "\n",
      "Finished averaging RNA for cluster B\n",
      "\n",
      "Finished averaging RNA for cluster NK cell\n",
      "\n",
      "Finished averaging RNA for cluster B\n",
      "\n",
      "Finished averaging RNA for cluster T\n",
      "\n",
      "Finished averaging RNA for cluster Monocyte\n",
      "\n",
      "Finished averaging RNA for cluster Macrophage\n",
      "\n",
      "Finished averaging RNA for cluster Dendritic cell\n",
      "\n",
      "Finished averaging RNA for cluster Neutrophil\n",
      "\n",
      "Finished averaging RNA for cluster NK cell\n",
      "\n",
      "Finished averaging RNA for cluster Plasmocyte\n",
      "\n"
     ]
    },
    {
     "name": "stdout",
     "output_type": "stream",
     "text": [
      "[1] 0 1\n",
      "[1] 1 1 1\n",
      "\n",
      "   0    1 \n",
      "3030  654 \n",
      "[1] 0 1 2\n",
      "[1] 2 3 2\n",
      "\n",
      "   0    1 \n",
      "3069  615 \n",
      "[1] 0 1 2 3\n",
      "[1] 4 6 3\n",
      "\n",
      "   0    1 \n",
      "3054  630 \n",
      "[1] 0 1 2 3 4\n",
      "[1]  7 10  4\n",
      "\n",
      "   0    1 \n",
      "3046  638 \n",
      "[1] 0 1 2 3 4 5\n",
      "[1] 11 15  5\n",
      "\n",
      "   0    1 \n",
      "3047  637 \n",
      "   user  system elapsed \n",
      "  5.177   0.202   5.382 \n"
     ]
    }
   ],
   "source": [
    "rst <- run_SAME(target_tissue,tissue_list,celltype_used_list,files,YSG,empirical_pi=0.3,mcmc_samples_theta1,\n",
    "                liger.turnon=FALSE,output_path)"
   ]
  },
  {
   "cell_type": "code",
   "execution_count": 21,
   "metadata": {},
   "outputs": [
    {
     "name": "stdout",
     "output_type": "stream",
     "text": [
      "List of 5\n",
      " $ theta1            :List of 1\n",
      "  ..$ w:List of 6\n",
      "  .. ..$ : num [1:921, 1:4] 1.5223 1.9845 0.0917 0.3105 0.39 ...\n",
      "  .. ..$ : num [1:921, 1:4] 0.9522 0.8314 0.0741 0.6592 0.413 ...\n",
      "  .. ..$ : num [1:921, 1:4] 0.211 0.26075 0.00106 0.19141 0.1288 ...\n",
      "  .. ..$ : num [1:921, 1:4] 0 0 0.000436 0.000607 0.007727 ...\n",
      "  .. ..$ : num [1:921, 1:4] 0.414 0.9056 0.0219 0.1464 0.3789 ...\n",
      "  .. ..$ : num [1:921, 1:4] 0.7531 0.485 0.0475 0.2491 0.2331 ...\n",
      " $ theta2            :List of 5\n",
      "  ..$ gamma :List of 5\n",
      "  .. ..$ : num [1:921, 1:4] 0 0 0 0 0 0 0 0 0 1 ...\n",
      "  .. ..$ : num [1:921, 1:4] 1 1 0 0 0 1 0 0 0 1 ...\n",
      "  .. ..$ : num [1:921, 1:4] 0 0 0 0 0 1 0 0 0 1 ...\n",
      "  .. ..$ : num [1:921, 1:4] 1 0 0 0 0 0 0 0 0 1 ...\n",
      "  .. ..$ : num [1:921, 1:4] 1 0 0 0 0 0 0 0 0 1 ...\n",
      "  ..$ v     :List of 5\n",
      "  .. ..$ : num [1:921, 1:4] 1.132 1.148 -0.276 2.279 -1.521 ...\n",
      "  .. ..$ : num [1:921, 1:4] 2.155 2.472 -0.323 0.753 0.475 ...\n",
      "  .. ..$ : num [1:921, 1:4] 0.355 -0.572 1.908 0.728 -0.552 ...\n",
      "  .. ..$ : num [1:921, 1:4] 1.322 -1.353 0.345 1.695 1.048 ...\n",
      "  .. ..$ : num [1:921, 1:4] 1.856 -2.235 -0.724 -1.914 1.224 ...\n",
      "  ..$ pi_ber: num [1:16, 1] 0.3 0.3 0.3 0.3 0.3 0.3 0.3 0.3 0.3 0.3 ...\n",
      "  ..$ tau_x : num [1:16, 1:921] 1 0.577 0.704 0.701 0.699 ...\n",
      "  ..$ tau_w : num [1:16, 1] 10 3.37 2.77 2.85 2.68 ...\n",
      " $ vg                : num [1:921, 1:4] 1.067 0.494 0 0 0 ...\n",
      " $ averg_gamma       : num [1:921, 1:4] 0.6 0.2 0 0 0 0.4 0 0 0 1 ...\n",
      " $ w_tissue_indicator:List of 6\n",
      "  ..$ BM    : num [1:921, 1:4] 1 1 1 1 1 0 1 1 0 1 ...\n",
      "  .. ..- attr(*, \"dimnames\")=List of 2\n",
      "  .. .. ..$ : chr [1:921] \"ACTB\" \"ACTG1\" \"AGTRAP\" \"AIF1\" ...\n",
      "  .. .. ..$ : chr [1:4] \"B\" \"Neutrophil\" \"NK cell\" \"T\"\n",
      "  ..$ CB    : num [1:921, 1:4] 1 1 1 1 1 0 1 1 1 1 ...\n",
      "  .. ..- attr(*, \"dimnames\")=List of 2\n",
      "  .. .. ..$ : chr [1:921] \"ACTB\" \"ACTG1\" \"AGTRAP\" \"AIF1\" ...\n",
      "  .. .. ..$ : chr [1:4] \"B\" \"Neutrophil\" \"NK cell\" \"T\"\n",
      "  ..$ Kidney: num [1:921, 1:4] 1 1 1 1 1 1 1 1 1 1 ...\n",
      "  .. ..- attr(*, \"dimnames\")=List of 2\n",
      "  .. .. ..$ : chr [1:921] \"ACTB\" \"ACTG1\" \"AGTRAP\" \"AIF1\" ...\n",
      "  .. .. ..$ : chr [1:4] \"B\" \"Neutrophil\" \"NK cell\" \"T\"\n",
      "  ..$ Liver : num [1:921, 1:4] 0 0 0 0 0 0 0 0 0 0 ...\n",
      "  .. ..- attr(*, \"dimnames\")=List of 2\n",
      "  .. .. ..$ : chr [1:921] \"ACTB\" \"ACTG1\" \"AGTRAP\" \"AIF1\" ...\n",
      "  .. .. ..$ : chr [1:4] \"B\" \"Neutrophil\" \"NK cell\" \"T\"\n",
      "  ..$ Lung  : num [1:921, 1:4] 1 1 1 1 1 0 1 0 0 0 ...\n",
      "  .. ..- attr(*, \"dimnames\")=List of 2\n",
      "  .. .. ..$ : chr [1:921] \"ACTB\" \"ACTG1\" \"AGTRAP\" \"AIF1\" ...\n",
      "  .. .. ..$ : chr [1:4] \"B\" \"Neutrophil\" \"NK cell\" \"T\"\n",
      "  ..$ PBMC  : num [1:921, 1:4] 1 1 1 1 1 1 1 1 1 1 ...\n",
      "  .. ..- attr(*, \"dimnames\")=List of 2\n",
      "  .. .. ..$ : chr [1:921] \"ACTB\" \"ACTG1\" \"AGTRAP\" \"AIF1\" ...\n",
      "  .. .. ..$ : chr [1:4] \"B\" \"Neutrophil\" \"NK cell\" \"T\"\n"
     ]
    }
   ],
   "source": [
    "str(rst)"
   ]
  },
  {
   "cell_type": "code",
   "execution_count": 108,
   "metadata": {},
   "outputs": [],
   "source": [
    "Y0 <- read.table(\"data/NSCLC/Fig2b-WholeBlood_RNAseq.txt\", row.names = 1, header = T, sep = \"\\t\")"
   ]
  },
  {
   "cell_type": "code",
   "execution_count": 109,
   "metadata": {},
   "outputs": [
    {
     "name": "stdout",
     "output_type": "stream",
     "text": [
      "'data.frame':\t58581 obs. of  12 variables:\n",
      " $ W070517001156: num  0 0 0 1.52 0.21 ...\n",
      " $ W070517001157: num  0 0 0 1.198 0.263 ...\n",
      " $ W070517001159: num  0 0 0 2.281 0.411 ...\n",
      " $ W070517001160: num  0 0 0 2.511 0.571 ...\n",
      " $ W070517001161: num  0 0 0 1.75 0.14 ...\n",
      " $ W070517001162: num  0 0 0 3.467 0.142 ...\n",
      " $ W070517102034: num  0 0 0 2.524 0.348 ...\n",
      " $ W070517102035: num  0 2.305 0 1.635 0.294 ...\n",
      " $ W070517102036: num  0 0 0 2.687 0.732 ...\n",
      " $ W070517102037: num  0 0 0.182 3.385 0.595 ...\n",
      " $ W070517102038: num  0 0.753 0 2.195 0.425 ...\n",
      " $ W070517102051: num  0 0 0 1.913 0.272 ...\n"
     ]
    }
   ],
   "source": [
    "str(Y0)"
   ]
  },
  {
   "cell_type": "code",
   "execution_count": null,
   "metadata": {},
   "outputs": [],
   "source": [
    "rst_bulk <- Y_batch_correct(Y0, rst$X[[1]], rst$YSG)"
   ]
  },
  {
   "cell_type": "code",
   "execution_count": 4,
   "metadata": {},
   "outputs": [
    {
     "ename": "ERROR",
     "evalue": "Error in parse(text = x, srcfile = src): <text>:1:2: unexpected ','\n1: a,\n     ^\n",
     "output_type": "error",
     "traceback": [
      "Error in parse(text = x, srcfile = src): <text>:1:2: unexpected ','\n1: a,\n     ^\nTraceback:\n"
     ]
    }
   ],
   "source": [
    "Y0_sc <- rst_bulk$bulk_to_sc\n",
    "YSG <- intersect(rownames(Y0_sc),rst$YSG)\n",
    "Y0_sc <- Y0_sc[YSG,]"
   ]
  },
  {
   "cell_type": "code",
   "execution_count": null,
   "metadata": {},
   "outputs": [],
   "source": []
  }
 ],
 "metadata": {
  "kernelspec": {
   "display_name": "R",
   "language": "R",
   "name": "ir"
  },
  "language_info": {
   "codemirror_mode": "r",
   "file_extension": ".r",
   "mimetype": "text/x-r-source",
   "name": "R",
   "pygments_lexer": "r",
   "version": "3.6.1"
  }
 },
 "nbformat": 4,
 "nbformat_minor": 4
}
