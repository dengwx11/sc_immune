{
 "cells": [
  {
   "cell_type": "code",
   "execution_count": 36,
   "metadata": {},
   "outputs": [],
   "source": [
    "## writing dsq files\n",
    "corrupt_pi <- c(1:100)/100\n",
    "writefunc <-\"  \"\n",
    "for(i in seq(length(corrupt_pi))){\n",
    " writefunc <- rbind(writefunc, paste0('module load R/3.6.1; cd /gpfs/ysm/pi/zhao-data/wd262/sc_immune/sc_immune; Rscript --vanilla ./Simulation_Results/get_simu_rst.v2.R 5 500 8 ',corrupt_pi[i],' 1 1 100 ',100+i,\" corrupt\"))\n",
    "}\n",
    "\n",
    "write.table(writefunc, file ='/gpfs/loomis/scratch60/zhao/wd262/sc_immune/simulation/corrupt_dsq_jobs.sh', row.names = FALSE, col.names = FALSE, quote=FALSE)"
   ]
  },
  {
   "cell_type": "code",
   "execution_count": 37,
   "metadata": {},
   "outputs": [],
   "source": [
    "## writing dsq files\n",
    "tissue_number <- c(3:40)\n",
    "writefunc <-\"  \"\n",
    "for(i in seq(length(tissue_number))){\n",
    " writefunc <- rbind(writefunc, paste0('module load R/3.6.1; cd /gpfs/ysm/pi/zhao-data/wd262/sc_immune/sc_immune; Rscript --vanilla ./Simulation_Results/get_simu_rst.v2.R 5 500 ', tissue_number[i],' 0.6 1 1 100 ',100+i,\" tissue_number\"))\n",
    "}\n",
    "\n",
    "write.table(writefunc, file ='/gpfs/loomis/scratch60/zhao/wd262/sc_immune/simulation/tissue_number_dsq_jobs.sh', row.names = FALSE, col.names = FALSE, quote=FALSE)"
   ]
  },
  {
   "cell_type": "code",
   "execution_count": 38,
   "metadata": {},
   "outputs": [],
   "source": [
    "gene_number <- c(5:200)*10\n",
    "writefunc <-\"  \"\n",
    "for(i in seq(length(gene_number))){\n",
    " writefunc <- rbind(writefunc, paste0('module load R/3.6.1; cd /gpfs/ysm/pi/zhao-data/wd262/sc_immune/sc_immune; Rscript --vanilla ./Simulation_Results/get_simu_rst.v2.R 5 ',gene_number[i],' 8 0.6 1 1 100 ',100+i,\" gene_number\"))\n",
    "}\n",
    "\n",
    "write.table(writefunc, file ='/gpfs/loomis/scratch60/zhao/wd262/sc_immune/simulation/gene_number_dsq_jobs.sh', row.names = FALSE, col.names = FALSE, quote=FALSE)"
   ]
  },
  {
   "cell_type": "code",
   "execution_count": null,
   "metadata": {},
   "outputs": [],
   "source": [
    "## writing dsq files\n",
    "corrupt_pi <- c(1:100)/100\n",
    "writefunc <-\"  \"\n",
    "for(i in seq(length(corrupt_pi))){\n",
    " writefunc <- rbind(writefunc, paste0('module load R/3.6.1; cd /gpfs/ysm/pi/zhao-data/wd262/sc_immune/sc_immune; Rscript --vanilla ./Simulation_Results/get_simu_rst.v2.R 5 500 8 ',corrupt_pi[i],' 1 1 100 ',100+i,\" corrupt\"))\n",
    "}\n",
    "\n",
    "write.table(writefunc, file ='/gpfs/loomis/scratch60/zhao/wd262/sc_immune/simulation/corrupt_dsq_jobs.sh', row.names = FALSE, col.names = FALSE, quote=FALSE)"
   ]
  },
  {
   "cell_type": "code",
   "execution_count": 29,
   "metadata": {
    "scrolled": false
   },
   "outputs": [],
   "source": [
    "source(\"benchmarking/benchmarking.R\")\n",
    "source('Batch_Correction/platform_batch_correction_combat.R')"
   ]
  },
  {
   "cell_type": "code",
   "execution_count": null,
   "metadata": {},
   "outputs": [],
   "source": [
    "fraction_est <- function(Y0, SAME_rst, \n",
    "                        target_tissue, celltype_used_list,Celltype_used = \"Celltype_used\",\n",
    "                        method = c(\"tranSig\",\"music\",\"w_empirical\",\"cibersortx\"), adj.to.sc = TRUE\n",
    "){\n",
    "  YSG <- SAME_rst$YSG\n",
    "  vg <- SAME_rst$vg\n",
    "  rownames(vg) <- YSG\n",
    "  X <- SAME_rst$X[[target_tissue]]\n",
    "  N <- ncol(Y0)\n",
    "  if(adj.to.sc){\n",
    "    rst_bulk <- Y_batch_correct(Y0, X, YSG)\n",
    "    YSG <- rst_bulk$YSG\n",
    "    Y0_adj <- rst_bulk$bulk_to_sc\n",
    "    Y0_adj <- Y0_adj[YSG,] #TPM space\n",
    "  }else{\n",
    "    YSG <- intersect(YSG, rownames(Y0))\n",
    "    Y0_adj <- Y0[YSG,]\n",
    "  }\n",
    "    \n",
    "  rst <- list()  \n",
    "  if(\"tranSig\" %in% method){\n",
    "    z_est_tranSig <- t(sapply(c(1:N), function(n) nnls(vg[YSG,],(Y0_sc[YSG,n]))$x))\n",
    "    colnames(z_est_tranSig) <- celltype_used_list\n",
    "    rst$z_est_tranSig <- z_est_tranSig                          \n",
    "  }\n",
    "  if(\"music\" %in% method){\n",
    "    z_est_music <- run_music(X,Y0,method=\"music\")\n",
    "    colnames(z_est_music) <- celltype_used_list  \n",
    "    rst$z_est_music <- z_est_music   \n",
    "  }\n",
    "  if(\"w_empirical\" %in% method){\n",
    "    z_est_empirical <- run_music(X,Y0,method=\"nnls\")\n",
    "    colnames(z_empirical) <- celltype_used_list  \n",
    "    rst$z_est_empirical <- z_est_empirical  \n",
    "  }\n",
    "  if(\"cibersortx\" %in% method){\n",
    "      \n",
    "  }\n",
    "  \n",
    "  \n",
    "                         \n",
    "  rst$YSG <- YSG\n",
    "  return(rst)\n",
    "}"
   ]
  },
  {
   "cell_type": "code",
   "execution_count": 20,
   "metadata": {},
   "outputs": [],
   "source": [
    "output_directory <- paste0(\"/gpfs/loomis/scratch60/zhao/wd262/sc_immune/simulation/corrupt/\",60)\n",
    "X_target <- readRDS(paste0(output_directory,\"/X_1.rds\"))\n",
    "Y0 <- read.table(paste0(output_directory, \"/Y0.txt\"), sep = \" \")"
   ]
  },
  {
   "cell_type": "code",
   "execution_count": null,
   "metadata": {},
   "outputs": [],
   "source": []
  }
 ],
 "metadata": {
  "kernelspec": {
   "display_name": "R",
   "language": "R",
   "name": "ir"
  },
  "language_info": {
   "codemirror_mode": "r",
   "file_extension": ".r",
   "mimetype": "text/x-r-source",
   "name": "R",
   "pygments_lexer": "r",
   "version": "3.6.1"
  }
 },
 "nbformat": 4,
 "nbformat_minor": 4
}
