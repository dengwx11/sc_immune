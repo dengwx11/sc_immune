{
 "cells": [
  {
   "cell_type": "code",
   "execution_count": 36,
   "metadata": {},
   "outputs": [],
   "source": [
    "## writing dsq files: corrupt\n",
    "corrupt_pi <- c(1:100)/100\n",
    "writefunc <-\"  \"\n",
    "for(i in seq(length(corrupt_pi))){\n",
    " writefunc <- rbind(writefunc, paste0('module load R/3.6.1; cd /gpfs/ysm/pi/zhao-data/wd262/sc_immune/sc_immune; Rscript --vanilla ./Simulation_Results/get_simu_rst.v2.R 5 500 8 ',corrupt_pi[i],' 1 1 100 ',100+i,\" corrupt\"))\n",
    "}\n",
    "\n",
    "write.table(writefunc, file ='/gpfs/loomis/scratch60/zhao/wd262/sc_immune/simulation/corrupt_dsq_jobs.sh', row.names = FALSE, col.names = FALSE, quote=FALSE)"
   ]
  },
  {
   "cell_type": "code",
   "execution_count": 19,
   "metadata": {},
   "outputs": [],
   "source": [
    "## writing dsq files: corrupt rescue\n",
    "corrupt_pi <- c(1:100)/100\n",
    "writefunc <-\"  \"\n",
    "for(i in seq(length(corrupt_pi))){\n",
    " writefunc <- rbind(writefunc, paste0('module load R/3.6.1; cd /gpfs/ysm/pi/zhao-data/wd262/sc_immune/sc_immune; Rscript --vanilla ./Simulation_Results/rescue.R 5 500 8 ',corrupt_pi[i],' 1 1 100 ',100+i,\" corrupt\"))\n",
    "}\n",
    "\n",
    "write.table(writefunc, file ='/gpfs/loomis/scratch60/zhao/wd262/sc_immune/simulation/corrupt_rescue_dsq_jobs.sh', row.names = FALSE, col.names = FALSE, quote=FALSE)"
   ]
  },
  {
   "cell_type": "code",
   "execution_count": 1,
   "metadata": {},
   "outputs": [],
   "source": [
    "## writing dsq files: tissue_number\n",
    "tissue_number <- c(3:40)\n",
    "writefunc <-\"  \"\n",
    "for(i in seq(length(tissue_number))){\n",
    " writefunc <- rbind(writefunc, paste0('module load R/3.6.1; cd /gpfs/ysm/pi/zhao-data/wd262/sc_immune/sc_immune; Rscript --vanilla ./Simulation_Results/get_simu_rst.v2.R ', tissue_number[i],' 500 8 0.6 1 1 100 ',100+i,\" tissue_number\"))\n",
    "}\n",
    "\n",
    "write.table(writefunc, file ='/gpfs/loomis/scratch60/zhao/wd262/sc_immune/simulation/tissue_number_dsq_jobs.sh', row.names = FALSE, col.names = FALSE, quote=FALSE)"
   ]
  },
  {
   "cell_type": "code",
   "execution_count": 20,
   "metadata": {},
   "outputs": [],
   "source": [
    "## writing dsq files: tissue_number rescue\n",
    "tissue_number <- c(3:40)\n",
    "writefunc <-\"  \"\n",
    "for(i in seq(length(tissue_number))){\n",
    " writefunc <- rbind(writefunc, paste0('module load R/3.6.1; cd /gpfs/ysm/pi/zhao-data/wd262/sc_immune/sc_immune; Rscript --vanilla ./Simulation_Results/rescue.R ', tissue_number[i],' 500 8 0.6 1 1 100 ',100+i,\" tissue_number\"))\n",
    "}\n",
    "\n",
    "write.table(writefunc, file ='/gpfs/loomis/scratch60/zhao/wd262/sc_immune/simulation/tissue_number_rescue_dsq_jobs.sh', row.names = FALSE, col.names = FALSE, quote=FALSE)"
   ]
  },
  {
   "cell_type": "code",
   "execution_count": 38,
   "metadata": {},
   "outputs": [],
   "source": [
    "## writing dsq files: gene_number\n",
    "gene_number <- c(5:200)*10\n",
    "writefunc <-\"  \"\n",
    "for(i in seq(length(gene_number))){\n",
    " writefunc <- rbind(writefunc, paste0('module load R/3.6.1; cd /gpfs/ysm/pi/zhao-data/wd262/sc_immune/sc_immune; Rscript --vanilla ./Simulation_Results/get_simu_rst.v2.R 5 ',gene_number[i],' 8 0.6 1 1 100 ',100+i,\" gene_number\"))\n",
    "}\n",
    "\n",
    "write.table(writefunc, file ='/gpfs/loomis/scratch60/zhao/wd262/sc_immune/simulation/gene_number_dsq_jobs.sh', row.names = FALSE, col.names = FALSE, quote=FALSE)"
   ]
  },
  {
   "cell_type": "code",
   "execution_count": 21,
   "metadata": {},
   "outputs": [],
   "source": [
    "## writing dsq files: gene_number rescue\n",
    "gene_number <- c(5:200)*10\n",
    "writefunc <-\"  \"\n",
    "for(i in seq(length(gene_number))){\n",
    " writefunc <- rbind(writefunc, paste0('module load R/3.6.1; cd /gpfs/ysm/pi/zhao-data/wd262/sc_immune/sc_immune; Rscript --vanilla ./Simulation_Results/rescue.R 5 ',gene_number[i],' 8 0.6 1 1 100 ',100+i,\" gene_number\"))\n",
    "}\n",
    "\n",
    "write.table(writefunc, file ='/gpfs/loomis/scratch60/zhao/wd262/sc_immune/simulation/gene_number_rescue_dsq_jobs.sh', row.names = FALSE, col.names = FALSE, quote=FALSE)"
   ]
  },
  {
   "cell_type": "code",
   "execution_count": 6,
   "metadata": {},
   "outputs": [],
   "source": [
    "## writing dsq files: pi\n",
    "empirical_pi <- c(1:100)/100\n",
    "update.pi <- c(TRUE, FALSE)\n",
    "writefunc <-\"  \"\n",
    "for(i in seq(length(empirical_pi))){\n",
    "    for(j in c(1:2)){\n",
    "        writefunc <- rbind(writefunc, paste0('module load R/3.6.1; cd /gpfs/ysm/pi/zhao-data/wd262/sc_immune/sc_immune; Rscript --vanilla ./Simulation_Results/get_simu_rst.v3.R 5 500 8 0.6 1 1 100 ',100+i,\" pi 0.6 \",update.pi[j],\" \",empirical_pi[i]))\n",
    "    }\n",
    " \n",
    "}\n",
    "\n",
    "write.table(writefunc, file ='/gpfs/loomis/scratch60/zhao/wd262/sc_immune/simulation/pi_dsq_jobs.sh', row.names = FALSE, col.names = FALSE, quote=FALSE)"
   ]
  },
  {
   "cell_type": "code",
   "execution_count": 18,
   "metadata": {},
   "outputs": [],
   "source": [
    "## writing dsq files: tau_v\n",
    "tau_v = c(0.01,0.1,1,4,20,100)\n",
    "writefunc <-\"  \"\n",
    "for(i in seq(length(tau_v))){\n",
    "\n",
    "        writefunc <- rbind(writefunc, paste0('module load R/3.6.1; cd /gpfs/ysm/pi/zhao-data/wd262/sc_immune/sc_immune; Rscript --vanilla ./Simulation_Results/get_simu_rst.v3.R 5 500 8 0.6 1 1 100 ',100+i,\" tau_v \",tau_v[i],\" TRUE 0.3\"))\n",
    "\n",
    " \n",
    "}\n",
    "\n",
    "write.table(writefunc, file ='/gpfs/loomis/scratch60/zhao/wd262/sc_immune/simulation/tau_v_dsq_jobs.sh', row.names = FALSE, col.names = FALSE, quote=FALSE)"
   ]
  },
  {
   "cell_type": "code",
   "execution_count": null,
   "metadata": {},
   "outputs": [],
   "source": [
    "## writing dsq files\n",
    "corrupt_pi <- c(1:100)/100\n",
    "writefunc <-\"  \"\n",
    "for(i in seq(length(corrupt_pi))){\n",
    " writefunc <- rbind(writefunc, paste0('module load R/3.6.1; cd /gpfs/ysm/pi/zhao-data/wd262/sc_immune/sc_immune; Rscript --vanilla ./Simulation_Results/get_simu_rst.v2.R 5 500 8 ',corrupt_pi[i],' 1 1 100 ',100+i,\" corrupt\"))\n",
    "}\n",
    "\n",
    "write.table(writefunc, file ='/gpfs/loomis/scratch60/zhao/wd262/sc_immune/simulation/corrupt_dsq_jobs.sh', row.names = FALSE, col.names = FALSE, quote=FALSE)"
   ]
  },
  {
   "cell_type": "code",
   "execution_count": 2,
   "metadata": {},
   "outputs": [],
   "source": [
    "set.seed(2021)\n",
    "library(nnls)\n",
    "library(ggplot2)\n",
    "library(plotROC)\n",
    "library(Seurat)\n",
    "options(repr.plot.width=14, repr.plot.height=10)"
   ]
  },
  {
   "cell_type": "code",
   "execution_count": 22,
   "metadata": {},
   "outputs": [],
   "source": [
    "T <- 5\n",
    "D <- 500\n",
    "K <- 8\n",
    "corrupt_pi <- 0.01\n",
    "tau_w_para <- 1\n",
    "tau_xd_beta_para <- 1\n",
    "mcmc_samples_theta1 <- 5\n",
    "seed <- 101\n",
    "parameter <- \"pi\"\n",
    "tau_v <- 0.01\n",
    "update.pi <- TRUE\n",
    "empirical_pi <- 0.3"
   ]
  },
  {
   "cell_type": "code",
   "execution_count": 13,
   "metadata": {
    "scrolled": true
   },
   "outputs": [],
   "source": [
    "set.seed(seed)\n",
    "setwd('/gpfs/ysm/pi/zhao-data/wd262/sc_immune/sc_immune')\n",
    "source('SAME/run_same.v3.R')\n",
    "source('SAME/run_Simulation.R')\n",
    "source('Simulation_Results/prepare_simulation.R')\n",
    "#source('Batch_Correction/platform_batch_correction_combat.R')"
   ]
  },
  {
   "cell_type": "code",
   "execution_count": 10,
   "metadata": {},
   "outputs": [],
   "source": [
    "pi_ber = 0.3\n",
    "N = 200 # bulk Y sample size\n",
    "Iteration = 500 ## iteration number to get the largest angle between the vectors\n",
    "str_para = paste0(\"T=\",T,\".D=\",D,\".K=\",K,\".corrupt=\",corrupt_pi,\".tauW=\",tau_w_para,\".tauXdBeta=\",tau_xd_beta_para,\".tau_v=\",tau_v,\".update.pi=\",update.pi,\".empirical_pi=\",empirical_pi)"
   ]
  },
  {
   "cell_type": "code",
   "execution_count": 14,
   "metadata": {},
   "outputs": [
    {
     "name": "stdout",
     "output_type": "stream",
     "text": [
      "[1] 0.4304184\n"
     ]
    }
   ],
   "source": [
    "same_input <- generate_same_input(T,D,K,pi_ber,N,Iteration,corrupt_pi=corrupt_pi)\n",
    "if(parameter == \"pi\"){\n",
    "    output_directory <- paste0(\"/gpfs/loomis/scratch60/zhao/wd262/sc_immune/simulation/\",parameter,\"/\",empirical_pi)\n",
    "}else if(parameter == \"tau_v\"){\n",
    "    output_directory <- paste0(\"/gpfs/loomis/scratch60/zhao/wd262/sc_immune/simulation/\",parameter,\"/\",tau_v)\n",
    "}"
   ]
  },
  {
   "cell_type": "code",
   "execution_count": 15,
   "metadata": {},
   "outputs": [],
   "source": [
    "dir.create(output_directory)\n",
    "prepare_same_input_in_simulation(same_input, output_directory)"
   ]
  },
  {
   "cell_type": "code",
   "execution_count": 16,
   "metadata": {},
   "outputs": [],
   "source": [
    "target_tissue <- '1'\n",
    "files = list.files(path = output_directory,pattern = \"X_*\", full.names = TRUE)\n",
    "tissue_list <- as.character(c(1:T))\n",
    "celltype_used_list <- paste0(\"celltype \",c(1:K))\n",
    "YSG <- as.character(c(1:D))\n",
    "output_path = \"\"\n",
    "Y0 <- read.table(paste0(output_directory, \"/Y0.txt\"), sep = \" \")\n",
    "rownames(Y0) <- c(1:D)"
   ]
  },
  {
   "cell_type": "code",
   "execution_count": 17,
   "metadata": {},
   "outputs": [
    {
     "name": "stdout",
     "output_type": "stream",
     "text": [
      "[1] 0 1\n",
      "[1] 1 1 1\n",
      "\n",
      "   0    1 \n",
      "3334  666 \n",
      "[1] 0 1 2\n",
      "[1] 2 3 2\n",
      "\n",
      "   0    1 \n",
      "2731 1269 \n",
      "[1] 0 1 2 3\n",
      "[1] 4 6 3\n",
      "\n",
      "   0    1 \n",
      "2806 1194 \n",
      "[1] 0 1 2 3 4\n",
      "[1]  7 10  4\n",
      "\n",
      "   0    1 \n",
      "2954 1046 \n",
      "[1] 0 1 2 3 4 5\n",
      "[1] 11 15  5\n",
      "\n",
      "   0    1 \n",
      "3045  955 \n",
      "   user  system elapsed \n",
      " 20.837   0.389  21.236 \n"
     ]
    }
   ],
   "source": [
    "rst <- run_SAME(target_tissue,tissue_list,celltype_used_list,files,YSG,empirical_pi=empirical_pi,mcmc_samples_theta1,\n",
    "                liger.turnon=FALSE,output_path,update.pi=update.pi,tau_v=tau_v)"
   ]
  },
  {
   "cell_type": "code",
   "execution_count": 25,
   "metadata": {},
   "outputs": [],
   "source": [
    "parameter = \"corrupt\"\n",
    "mydir <- paste0(\"/gpfs/ysm/pi/zhao-data/wd262/sc_immune/write/simulation_rst/\",parameter)\n",
    "str_para = paste0(\"T=\",T,\".D=\",D,\".K=\",K,\".corrupt=\",corrupt_pi,\".tauW=\",tau_w_para,\".tauXdBeta=\",tau_xd_beta_para)\n",
    "rst_frac <- readRDS(paste0(mydir,\"/rst_frac.\",str_para,'.rds'))"
   ]
  },
  {
   "cell_type": "code",
   "execution_count": 26,
   "metadata": {},
   "outputs": [
    {
     "name": "stdout",
     "output_type": "stream",
     "text": [
      "List of 4\n",
      " $ z_est_tranSig  : num [1:200, 1:8] 0.5435 0.0587 0 0 0.2852 ...\n",
      "  ..- attr(*, \"dimnames\")=List of 2\n",
      "  .. ..$ : NULL\n",
      "  .. ..$ : chr [1:8] \"celltype 1\" \"celltype 2\" \"celltype 3\" \"celltype 4\" ...\n",
      " $ z_est_music    : num [1:200, 1:8] 1 0.0738 0 0 0.6804 ...\n",
      "  ..- attr(*, \"dimnames\")=List of 2\n",
      "  .. ..$ : chr [1:200] \"ID1\" \"ID2\" \"ID3\" \"ID4\" ...\n",
      "  .. ..$ : chr [1:8] \"celltype 1\" \"celltype 2\" \"celltype 3\" \"celltype 4\" ...\n",
      " $ z_est_empirical: num [1:200, 1:8] 1 0.138 0 0 0.655 ...\n",
      "  ..- attr(*, \"dimnames\")=List of 2\n",
      "  .. ..$ : chr [1:200] \"ID1\" \"ID2\" \"ID3\" \"ID4\" ...\n",
      "  .. ..$ : chr [1:8] \"celltype 1\" \"celltype 2\" \"celltype 3\" \"celltype 4\" ...\n",
      " $ YSG            : chr [1:500] \"1\" \"2\" \"3\" \"4\" ...\n"
     ]
    }
   ],
   "source": [
    "str(rst_frac)"
   ]
  },
  {
   "cell_type": "code",
   "execution_count": null,
   "metadata": {},
   "outputs": [],
   "source": [
    "files = list.files(path = '/gpfs/ysm/pi/zhao-data/wd262/sc_immune/write/simulation_rst/corrupt',pattern = \"*\", full.names = TRUE)"
   ]
  }
 ],
 "metadata": {
  "kernelspec": {
   "display_name": "R",
   "language": "R",
   "name": "ir"
  },
  "language_info": {
   "codemirror_mode": "r",
   "file_extension": ".r",
   "mimetype": "text/x-r-source",
   "name": "R",
   "pygments_lexer": "r",
   "version": "3.6.1"
  }
 },
 "nbformat": 4,
 "nbformat_minor": 4
}
