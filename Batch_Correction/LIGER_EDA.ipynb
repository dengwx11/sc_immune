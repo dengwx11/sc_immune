{
 "cells": [
  {
   "cell_type": "code",
   "execution_count": 4,
   "metadata": {},
   "outputs": [
    {
     "name": "stderr",
     "output_type": "stream",
     "text": [
      "Loading required package: usethis\n",
      "\n",
      "Downloading GitHub repo MacoskoLab/liger@master\n",
      "\n"
     ]
    },
    {
     "name": "stdout",
     "output_type": "stream",
     "text": [
      "cowplot      (1.0.0       -> 1.1.1     ) [CRAN]\n",
      "patchwork    (1.0.0       -> 1.1.1     ) [CRAN]\n",
      "Rcpp         (1.0.4       -> 1.0.6     ) [CRAN]\n",
      "dplyr        (0.8.5       -> 1.0.3     ) [CRAN]\n",
      "ggrepel      (0.8.2       -> 0.9.1     ) [CRAN]\n",
      "ggplot2      (3.3.0       -> 3.3.3     ) [CRAN]\n",
      "foreach      (1.4.8       -> 1.5.1     ) [CRAN]\n",
      "doSNOW       (NA          -> 1.0.19    ) [CRAN]\n",
      "RcppEigen    (0.3.3.7.0   -> 0.3.3.9.1 ) [CRAN]\n",
      "uwot         (0.1.8       -> 0.1.10    ) [CRAN]\n",
      "rlang        (0.4.5       -> 0.4.10    ) [CRAN]\n",
      "hdf5r        (1.3.1       -> 1.3.3     ) [CRAN]\n",
      "RcppArmad... (0.9.850.1.0 -> 0.10.1.2.2) [CRAN]\n",
      "digest       (0.6.25      -> 0.6.27    ) [CRAN]\n",
      "glue         (1.3.2       -> 1.4.2     ) [CRAN]\n",
      "isoband      (0.2.0       -> 0.2.3     ) [CRAN]\n",
      "scales       (1.1.0       -> 1.1.1     ) [CRAN]\n",
      "tibble       (2.1.3       -> 3.0.6     ) [CRAN]\n",
      "withr        (2.1.2       -> 2.4.1     ) [CRAN]\n",
      "testthat     (2.3.2       -> 3.0.1     ) [CRAN]\n",
      "labeling     (0.3         -> 0.4.2     ) [CRAN]\n",
      "R6           (2.4.1       -> 2.5.0     ) [CRAN]\n",
      "cli          (2.0.2       -> 2.2.0     ) [CRAN]\n",
      "ellipsis     (0.3.0       -> 0.3.1     ) [CRAN]\n",
      "fansi        (0.4.1       -> 0.4.2     ) [CRAN]\n",
      "magrittr     (1.5         -> 2.0.1     ) [CRAN]\n",
      "pillar       (1.4.3       -> 1.4.7     ) [CRAN]\n",
      "vctrs        (0.2.4       -> 0.3.6     ) [CRAN]\n",
      "colorspace   (1.4-1       -> 2.0-0     ) [CRAN]\n",
      "brio         (NA          -> 1.1.1     ) [CRAN]\n",
      "callr        (3.4.2       -> 3.5.1     ) [CRAN]\n",
      "jsonlite     (1.6.1       -> 1.7.2     ) [CRAN]\n",
      "pkgload      (1.0.2       -> 1.1.0     ) [CRAN]\n",
      "processx     (3.4.2       -> 3.4.5     ) [CRAN]\n",
      "ps           (1.3.2       -> 1.5.0     ) [CRAN]\n",
      "waldo        (NA          -> 0.2.3     ) [CRAN]\n",
      "rprojroot    (1.3-2       -> 2.0.2     ) [CRAN]\n",
      "pkgbuild     (1.0.6       -> 1.2.0     ) [CRAN]\n",
      "rstudioapi   (0.11        -> 0.13      ) [CRAN]\n",
      "diffobj      (NA          -> 0.3.3     ) [CRAN]\n",
      "rematch2     (NA          -> 2.1.2     ) [CRAN]\n",
      "purrr        (0.3.3       -> 0.3.4     ) [CRAN]\n",
      "knitr        (1.28        -> 1.31      ) [CRAN]\n",
      "htmlwidgets  (1.5.1       -> 1.5.3     ) [CRAN]\n",
      "htmltools    (0.4.0       -> 0.5.1.1   ) [CRAN]\n",
      "backports    (1.1.5       -> 1.2.1     ) [CRAN]\n",
      "xfun         (0.12        -> 0.20      ) [CRAN]\n",
      "stringi      (1.4.6       -> 1.5.3     ) [CRAN]\n",
      "iterators    (1.0.12      -> 1.0.13    ) [CRAN]\n",
      "tmvnsim      (NA          -> 1.0-2     ) [CRAN]\n",
      "BH           (1.72.0-3    -> 1.75.0-0  ) [CRAN]\n",
      "bit          (1.1-15.2    -> 4.0.4     ) [CRAN]\n",
      "generics     (0.0.2       -> 0.1.0     ) [CRAN]\n",
      "tidyselect   (1.0.0       -> 1.1.0     ) [CRAN]\n",
      "data.table   (1.12.8      -> 1.13.6    ) [CRAN]\n",
      "mnormt       (1.5-6       -> 2.0.2     ) [CRAN]\n",
      "RcppAnnoy    (0.0.16      -> 0.0.18    ) [CRAN]\n",
      "bit64        (0.9-7       -> 4.0.5     ) [CRAN]\n"
     ]
    },
    {
     "name": "stderr",
     "output_type": "stream",
     "text": [
      "Installing 58 packages: cowplot, patchwork, Rcpp, dplyr, ggrepel, ggplot2, foreach, doSNOW, RcppEigen, uwot, rlang, hdf5r, RcppArmadillo, digest, glue, isoband, scales, tibble, withr, testthat, labeling, R6, cli, ellipsis, fansi, magrittr, pillar, vctrs, colorspace, brio, callr, jsonlite, pkgload, processx, ps, waldo, rprojroot, pkgbuild, rstudioapi, diffobj, rematch2, purrr, knitr, htmlwidgets, htmltools, backports, xfun, stringi, iterators, tmvnsim, BH, bit, generics, tidyselect, data.table, mnormt, RcppAnnoy, bit64\n",
      "\n"
     ]
    },
    {
     "ename": "ERROR",
     "evalue": "Error: Failed to install 'liger' from GitHub:\n  (converted from warning) installation of package ‘stringi’ had non-zero exit status\n",
     "output_type": "error",
     "traceback": [
      "Error: Failed to install 'liger' from GitHub:\n  (converted from warning) installation of package ‘stringi’ had non-zero exit status\nTraceback:\n",
      "1. install_github(\"MacoskoLab/liger\")",
      "2. pkgbuild::with_build_tools({\n .     ellipsis::check_dots_used(action = getOption(\"devtools.ellipsis_action\", \n .         rlang::warn))\n .     {\n .         remotes <- lapply(repo, github_remote, ref = ref, subdir = subdir, \n .             auth_token = auth_token, host = host)\n .         install_remotes(remotes, auth_token = auth_token, host = host, \n .             dependencies = dependencies, upgrade = upgrade, force = force, \n .             quiet = quiet, build = build, build_opts = build_opts, \n .             build_manual = build_manual, build_vignettes = build_vignettes, \n .             repos = repos, type = type, ...)\n .     }\n . }, required = FALSE)",
      "3. install_remotes(remotes, auth_token = auth_token, host = host, \n .     dependencies = dependencies, upgrade = upgrade, force = force, \n .     quiet = quiet, build = build, build_opts = build_opts, build_manual = build_manual, \n .     build_vignettes = build_vignettes, repos = repos, type = type, \n .     ...)",
      "4. tryCatch(res[[i]] <- install_remote(remotes[[i]], ...), error = function(e) {\n .     stop(remote_install_error(remotes[[i]], e))\n . })",
      "5. tryCatchList(expr, classes, parentenv, handlers)",
      "6. tryCatchOne(expr, names, parentenv, handlers[[1L]])",
      "7. value[[3L]](cond)"
     ]
    }
   ],
   "source": [
    "library(devtools) \n",
    "install_github('MacoskoLab/liger')"
   ]
  },
  {
   "cell_type": "code",
   "execution_count": null,
   "metadata": {},
   "outputs": [],
   "source": []
  }
 ],
 "metadata": {
  "kernelspec": {
   "display_name": "R",
   "language": "R",
   "name": "ir"
  },
  "language_info": {
   "codemirror_mode": "r",
   "file_extension": ".r",
   "mimetype": "text/x-r-source",
   "name": "R",
   "pygments_lexer": "r",
   "version": "3.6.2"
  }
 },
 "nbformat": 4,
 "nbformat_minor": 4
}
