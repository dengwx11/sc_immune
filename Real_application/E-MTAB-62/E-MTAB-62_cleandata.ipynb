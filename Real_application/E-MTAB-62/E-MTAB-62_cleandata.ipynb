{
 "cells": [
  {
   "cell_type": "code",
   "execution_count": 6,
   "metadata": {},
   "outputs": [],
   "source": [
    "expr <- read.csv('/gpfs/loomis/pi/zhao2/wd262/shared_data/bulk/E-MTAB-62/hgu133a_rma_okFiles_080619_MAGETAB.csv',\n",
    "                 sep='\\t',header=T)"
   ]
  },
  {
   "cell_type": "code",
   "execution_count": 16,
   "metadata": {},
   "outputs": [],
   "source": [
    "Affy <- read.table('/gpfs/loomis/pi/zhao2/wd262/shared_data/bulk/E-MTAB-62/A-AFFY-33.adf.txt', \n",
    "                   header=T, sep=\"\\t\",na.strings = \"NA\",fill=TRUE,quote='')"
   ]
  },
  {
   "cell_type": "code",
   "execution_count": 19,
   "metadata": {},
   "outputs": [],
   "source": [
    "Affy$Composite_Element_Name <- as.character(Affy$Composite_Element_Name)\n",
    "Affy$Composite_Element_Database_Entry_ensembl <- as.character(Affy$Composite_Element_Database_Entry_ensembl)"
   ]
  },
  {
   "cell_type": "code",
   "execution_count": 20,
   "metadata": {},
   "outputs": [
    {
     "data": {
      "text/html": [
       "<table>\n",
       "<caption>A data.frame: 6 × 19</caption>\n",
       "<thead>\n",
       "\t<tr><th></th><th scope=col>Composite_Element_Name</th><th scope=col>Composite_Element_Database_Entry_embl</th><th scope=col>Composite_Element_Database_Entry_affymetrix_netaffx</th><th scope=col>Composite_Element_Database_Entry_blocks</th><th scope=col>Composite_Element_Database_Entry_interpro</th><th scope=col>Composite_Element_Database_Entry_locus</th><th scope=col>Composite_Element_Database_Entry_ensembl</th><th scope=col>Composite_Element_Database_Entry_swall</th><th scope=col>Composite_Element_Database_Entry_unigene</th><th scope=col>Composite_Element_Database_Entry_genbank</th><th scope=col>Composite_Element_Database_Entry_omim</th><th scope=col>Composite_Element_Database_Entry_pfam</th><th scope=col>Composite_Element_Database_Entry_refseq</th><th scope=col>Composite_Element_Database_Entry_scop</th><th scope=col>Composite_Element_Database_Entry_ec</th><th scope=col>Composite_Element_Database_Entry_kegg</th><th scope=col>Composite_Element_Database_Entry_pkr_hanks</th><th scope=col>Composite_Element_Database_Entry_cp450</th><th scope=col>Composite_Element_Database_Entry_gpcrdb</th></tr>\n",
       "\t<tr><th></th><th scope=col>&lt;chr&gt;</th><th scope=col>&lt;fct&gt;</th><th scope=col>&lt;fct&gt;</th><th scope=col>&lt;fct&gt;</th><th scope=col>&lt;fct&gt;</th><th scope=col>&lt;int&gt;</th><th scope=col>&lt;chr&gt;</th><th scope=col>&lt;fct&gt;</th><th scope=col>&lt;fct&gt;</th><th scope=col>&lt;int&gt;</th><th scope=col>&lt;int&gt;</th><th scope=col>&lt;fct&gt;</th><th scope=col>&lt;fct&gt;</th><th scope=col>&lt;fct&gt;</th><th scope=col>&lt;fct&gt;</th><th scope=col>&lt;fct&gt;</th><th scope=col>&lt;fct&gt;</th><th scope=col>&lt;fct&gt;</th><th scope=col>&lt;fct&gt;</th></tr>\n",
       "</thead>\n",
       "<tbody>\n",
       "\t<tr><th scope=row>100</th><td>200031_s_at</td><td></td><td>rc_AA851381_at </td><td>IPB000266</td><td>IPR000266</td><td> 6205</td><td>ENSG00000142534</td><td>Q9V679    </td><td>Hs.182740</td><td>13516490</td><td>NA</td><td>Ribosomal_S17</td><td>NM_001015</td><td>d1rip__</td><td></td><td></td><td></td><td></td><td></td></tr>\n",
       "\t<tr><th scope=row>101</th><td>200032_s_at</td><td></td><td>164935_r_at    </td><td>IPB002358</td><td>IPR002359</td><td> 6133</td><td>ENSG00000169653</td><td>RL9B_YEAST</td><td>Hs.157850</td><td>14720157</td><td>NA</td><td>Ribosomal_L6 </td><td>NM_000661</td><td>d1rl6a1</td><td></td><td></td><td></td><td></td><td></td></tr>\n",
       "\t<tr><th scope=row>102</th><td>200033_at  </td><td></td><td>X65627_f_at    </td><td>IPB000330</td><td>IPR001650</td><td> 1655</td><td>ENSG00000108654</td><td>O35662    </td><td>Hs.76053 </td><td> 4758138</td><td>NA</td><td>DEAD         </td><td>NM_004396</td><td>d1hv8a1</td><td></td><td></td><td></td><td></td><td></td></tr>\n",
       "\t<tr><th scope=row>103</th><td>200034_s_at</td><td></td><td>Msa.2713.0_f_at</td><td>IPB000915</td><td>IPR005568</td><td> 6128</td><td>ENSG00000089009</td><td>Q8WW97    </td><td>Hs.349961</td><td>16753227</td><td>NA</td><td>Ribosomal_L6e</td><td>NM_000970</td><td>       </td><td></td><td></td><td></td><td></td><td></td></tr>\n",
       "\t<tr><th scope=row>104</th><td>200035_at  </td><td></td><td>200035_at      </td><td>         </td><td>IPR004274</td><td>23399</td><td>ENSG00000169963</td><td>Q8VEL4    </td><td>Hs.84359 </td><td>22064567</td><td>NA</td><td>NIF          </td><td>NM_015343</td><td>       </td><td></td><td></td><td></td><td></td><td></td></tr>\n",
       "\t<tr><th scope=row>105</th><td>200036_s_at</td><td></td><td>1367580_at     </td><td>IPB002143</td><td>IPR002143</td><td> 4736</td><td>ENSG00000007869</td><td>Q9N4I4    </td><td>Hs.334895</td><td>13592009</td><td>NA</td><td>Ribosomal_L1 </td><td>NM_007104</td><td>d1dwua_</td><td></td><td></td><td></td><td></td><td></td></tr>\n",
       "</tbody>\n",
       "</table>\n"
      ],
      "text/latex": [
       "A data.frame: 6 × 19\n",
       "\\begin{tabular}{r|lllllllllllllllllll}\n",
       "  & Composite\\_Element\\_Name & Composite\\_Element\\_Database\\_Entry\\_embl & Composite\\_Element\\_Database\\_Entry\\_affymetrix\\_netaffx & Composite\\_Element\\_Database\\_Entry\\_blocks & Composite\\_Element\\_Database\\_Entry\\_interpro & Composite\\_Element\\_Database\\_Entry\\_locus & Composite\\_Element\\_Database\\_Entry\\_ensembl & Composite\\_Element\\_Database\\_Entry\\_swall & Composite\\_Element\\_Database\\_Entry\\_unigene & Composite\\_Element\\_Database\\_Entry\\_genbank & Composite\\_Element\\_Database\\_Entry\\_omim & Composite\\_Element\\_Database\\_Entry\\_pfam & Composite\\_Element\\_Database\\_Entry\\_refseq & Composite\\_Element\\_Database\\_Entry\\_scop & Composite\\_Element\\_Database\\_Entry\\_ec & Composite\\_Element\\_Database\\_Entry\\_kegg & Composite\\_Element\\_Database\\_Entry\\_pkr\\_hanks & Composite\\_Element\\_Database\\_Entry\\_cp450 & Composite\\_Element\\_Database\\_Entry\\_gpcrdb\\\\\n",
       "  & <chr> & <fct> & <fct> & <fct> & <fct> & <int> & <chr> & <fct> & <fct> & <int> & <int> & <fct> & <fct> & <fct> & <fct> & <fct> & <fct> & <fct> & <fct>\\\\\n",
       "\\hline\n",
       "\t100 & 200031\\_s\\_at &  & rc\\_AA851381\\_at  & IPB000266 & IPR000266 &  6205 & ENSG00000142534 & Q9V679     & Hs.182740 & 13516490 & NA & Ribosomal\\_S17 & NM\\_001015 & d1rip\\_\\_ &  &  &  &  & \\\\\n",
       "\t101 & 200032\\_s\\_at &  & 164935\\_r\\_at     & IPB002358 & IPR002359 &  6133 & ENSG00000169653 & RL9B\\_YEAST & Hs.157850 & 14720157 & NA & Ribosomal\\_L6  & NM\\_000661 & d1rl6a1 &  &  &  &  & \\\\\n",
       "\t102 & 200033\\_at   &  & X65627\\_f\\_at     & IPB000330 & IPR001650 &  1655 & ENSG00000108654 & O35662     & Hs.76053  &  4758138 & NA & DEAD          & NM\\_004396 & d1hv8a1 &  &  &  &  & \\\\\n",
       "\t103 & 200034\\_s\\_at &  & Msa.2713.0\\_f\\_at & IPB000915 & IPR005568 &  6128 & ENSG00000089009 & Q8WW97     & Hs.349961 & 16753227 & NA & Ribosomal\\_L6e & NM\\_000970 &         &  &  &  &  & \\\\\n",
       "\t104 & 200035\\_at   &  & 200035\\_at       &           & IPR004274 & 23399 & ENSG00000169963 & Q8VEL4     & Hs.84359  & 22064567 & NA & NIF           & NM\\_015343 &         &  &  &  &  & \\\\\n",
       "\t105 & 200036\\_s\\_at &  & 1367580\\_at      & IPB002143 & IPR002143 &  4736 & ENSG00000007869 & Q9N4I4     & Hs.334895 & 13592009 & NA & Ribosomal\\_L1  & NM\\_007104 & d1dwua\\_ &  &  &  &  & \\\\\n",
       "\\end{tabular}\n"
      ],
      "text/markdown": [
       "\n",
       "A data.frame: 6 × 19\n",
       "\n",
       "| <!--/--> | Composite_Element_Name &lt;chr&gt; | Composite_Element_Database_Entry_embl &lt;fct&gt; | Composite_Element_Database_Entry_affymetrix_netaffx &lt;fct&gt; | Composite_Element_Database_Entry_blocks &lt;fct&gt; | Composite_Element_Database_Entry_interpro &lt;fct&gt; | Composite_Element_Database_Entry_locus &lt;int&gt; | Composite_Element_Database_Entry_ensembl &lt;chr&gt; | Composite_Element_Database_Entry_swall &lt;fct&gt; | Composite_Element_Database_Entry_unigene &lt;fct&gt; | Composite_Element_Database_Entry_genbank &lt;int&gt; | Composite_Element_Database_Entry_omim &lt;int&gt; | Composite_Element_Database_Entry_pfam &lt;fct&gt; | Composite_Element_Database_Entry_refseq &lt;fct&gt; | Composite_Element_Database_Entry_scop &lt;fct&gt; | Composite_Element_Database_Entry_ec &lt;fct&gt; | Composite_Element_Database_Entry_kegg &lt;fct&gt; | Composite_Element_Database_Entry_pkr_hanks &lt;fct&gt; | Composite_Element_Database_Entry_cp450 &lt;fct&gt; | Composite_Element_Database_Entry_gpcrdb &lt;fct&gt; |\n",
       "|---|---|---|---|---|---|---|---|---|---|---|---|---|---|---|---|---|---|---|---|\n",
       "| 100 | 200031_s_at | <!----> | rc_AA851381_at  | IPB000266 | IPR000266 |  6205 | ENSG00000142534 | Q9V679     | Hs.182740 | 13516490 | NA | Ribosomal_S17 | NM_001015 | d1rip__ | <!----> | <!----> | <!----> | <!----> | <!----> |\n",
       "| 101 | 200032_s_at | <!----> | 164935_r_at     | IPB002358 | IPR002359 |  6133 | ENSG00000169653 | RL9B_YEAST | Hs.157850 | 14720157 | NA | Ribosomal_L6  | NM_000661 | d1rl6a1 | <!----> | <!----> | <!----> | <!----> | <!----> |\n",
       "| 102 | 200033_at   | <!----> | X65627_f_at     | IPB000330 | IPR001650 |  1655 | ENSG00000108654 | O35662     | Hs.76053  |  4758138 | NA | DEAD          | NM_004396 | d1hv8a1 | <!----> | <!----> | <!----> | <!----> | <!----> |\n",
       "| 103 | 200034_s_at | <!----> | Msa.2713.0_f_at | IPB000915 | IPR005568 |  6128 | ENSG00000089009 | Q8WW97     | Hs.349961 | 16753227 | NA | Ribosomal_L6e | NM_000970 | <!----> | <!----> | <!----> | <!----> | <!----> | <!----> |\n",
       "| 104 | 200035_at   | <!----> | 200035_at       | <!----> | IPR004274 | 23399 | ENSG00000169963 | Q8VEL4     | Hs.84359  | 22064567 | NA | NIF           | NM_015343 | <!----> | <!----> | <!----> | <!----> | <!----> | <!----> |\n",
       "| 105 | 200036_s_at | <!----> | 1367580_at      | IPB002143 | IPR002143 |  4736 | ENSG00000007869 | Q9N4I4     | Hs.334895 | 13592009 | NA | Ribosomal_L1  | NM_007104 | d1dwua_ | <!----> | <!----> | <!----> | <!----> | <!----> |\n",
       "\n"
      ],
      "text/plain": [
       "    Composite_Element_Name Composite_Element_Database_Entry_embl\n",
       "100 200031_s_at                                                 \n",
       "101 200032_s_at                                                 \n",
       "102 200033_at                                                   \n",
       "103 200034_s_at                                                 \n",
       "104 200035_at                                                   \n",
       "105 200036_s_at                                                 \n",
       "    Composite_Element_Database_Entry_affymetrix_netaffx\n",
       "100 rc_AA851381_at                                     \n",
       "101 164935_r_at                                        \n",
       "102 X65627_f_at                                        \n",
       "103 Msa.2713.0_f_at                                    \n",
       "104 200035_at                                          \n",
       "105 1367580_at                                         \n",
       "    Composite_Element_Database_Entry_blocks\n",
       "100 IPB000266                              \n",
       "101 IPB002358                              \n",
       "102 IPB000330                              \n",
       "103 IPB000915                              \n",
       "104                                        \n",
       "105 IPB002143                              \n",
       "    Composite_Element_Database_Entry_interpro\n",
       "100 IPR000266                                \n",
       "101 IPR002359                                \n",
       "102 IPR001650                                \n",
       "103 IPR005568                                \n",
       "104 IPR004274                                \n",
       "105 IPR002143                                \n",
       "    Composite_Element_Database_Entry_locus\n",
       "100  6205                                 \n",
       "101  6133                                 \n",
       "102  1655                                 \n",
       "103  6128                                 \n",
       "104 23399                                 \n",
       "105  4736                                 \n",
       "    Composite_Element_Database_Entry_ensembl\n",
       "100 ENSG00000142534                         \n",
       "101 ENSG00000169653                         \n",
       "102 ENSG00000108654                         \n",
       "103 ENSG00000089009                         \n",
       "104 ENSG00000169963                         \n",
       "105 ENSG00000007869                         \n",
       "    Composite_Element_Database_Entry_swall\n",
       "100 Q9V679                                \n",
       "101 RL9B_YEAST                            \n",
       "102 O35662                                \n",
       "103 Q8WW97                                \n",
       "104 Q8VEL4                                \n",
       "105 Q9N4I4                                \n",
       "    Composite_Element_Database_Entry_unigene\n",
       "100 Hs.182740                               \n",
       "101 Hs.157850                               \n",
       "102 Hs.76053                                \n",
       "103 Hs.349961                               \n",
       "104 Hs.84359                                \n",
       "105 Hs.334895                               \n",
       "    Composite_Element_Database_Entry_genbank\n",
       "100 13516490                                \n",
       "101 14720157                                \n",
       "102  4758138                                \n",
       "103 16753227                                \n",
       "104 22064567                                \n",
       "105 13592009                                \n",
       "    Composite_Element_Database_Entry_omim Composite_Element_Database_Entry_pfam\n",
       "100 NA                                    Ribosomal_S17                        \n",
       "101 NA                                    Ribosomal_L6                         \n",
       "102 NA                                    DEAD                                 \n",
       "103 NA                                    Ribosomal_L6e                        \n",
       "104 NA                                    NIF                                  \n",
       "105 NA                                    Ribosomal_L1                         \n",
       "    Composite_Element_Database_Entry_refseq\n",
       "100 NM_001015                              \n",
       "101 NM_000661                              \n",
       "102 NM_004396                              \n",
       "103 NM_000970                              \n",
       "104 NM_015343                              \n",
       "105 NM_007104                              \n",
       "    Composite_Element_Database_Entry_scop Composite_Element_Database_Entry_ec\n",
       "100 d1rip__                                                                  \n",
       "101 d1rl6a1                                                                  \n",
       "102 d1hv8a1                                                                  \n",
       "103                                                                          \n",
       "104                                                                          \n",
       "105 d1dwua_                                                                  \n",
       "    Composite_Element_Database_Entry_kegg\n",
       "100                                      \n",
       "101                                      \n",
       "102                                      \n",
       "103                                      \n",
       "104                                      \n",
       "105                                      \n",
       "    Composite_Element_Database_Entry_pkr_hanks\n",
       "100                                           \n",
       "101                                           \n",
       "102                                           \n",
       "103                                           \n",
       "104                                           \n",
       "105                                           \n",
       "    Composite_Element_Database_Entry_cp450\n",
       "100                                       \n",
       "101                                       \n",
       "102                                       \n",
       "103                                       \n",
       "104                                       \n",
       "105                                       \n",
       "    Composite_Element_Database_Entry_gpcrdb\n",
       "100                                        \n",
       "101                                        \n",
       "102                                        \n",
       "103                                        \n",
       "104                                        \n",
       "105                                        "
      ]
     },
     "metadata": {},
     "output_type": "display_data"
    }
   ],
   "source": [
    "head(Affy[100:120,])"
   ]
  },
  {
   "cell_type": "code",
   "execution_count": 3,
   "metadata": {},
   "outputs": [],
   "source": [
    "annotLookup <- readRDS(\"/gpfs/loomis/scratch60/zhao/wd262/sc_immune/real/E/annotLookup.rds\")"
   ]
  },
  {
   "cell_type": "code",
   "execution_count": 5,
   "metadata": {},
   "outputs": [
    {
     "name": "stdout",
     "output_type": "stream",
     "text": [
      "'data.frame':\t27144 obs. of  4 variables:\n",
      " $ affy_hg_u133_plus_2: chr  \"200032_s_at\" \"40359_at\" \"200089_s_at\" \"200000_s_at\" ...\n",
      " $ ensembl_gene_id    : chr  \"ENSG00000273673\" \"ENSG00000273859\" \"ENSG00000263127\" \"ENSG00000274442\" ...\n",
      " $ gene_biotype       : chr  \"transcribed_processed_pseudogene\" \"protein_coding\" \"processed_pseudogene\" \"protein_coding\" ...\n",
      " $ hgnc_symbol        : chr  \"\" \"RASSF7\" \"RPL4P5\" \"PRPF8\" ...\n"
     ]
    }
   ],
   "source": [
    "str(annotLookup)"
   ]
  },
  {
   "cell_type": "code",
   "execution_count": 18,
   "metadata": {},
   "outputs": [],
   "source": [
    "annotLookup_YSG <- annotLookup[annotLookup$hgnc_symbol %in% YSG,]\n",
    "annotLookup_YSG <- annotLookup_YSG[annotLookup_YSG$gene_biotype %in% c('protein_coding'),]"
   ]
  },
  {
   "cell_type": "code",
   "execution_count": 7,
   "metadata": {},
   "outputs": [],
   "source": [
    "annotLookup_YSG <- annotLookup[annotLookup$gene_biotype %in% c('protein_coding'),]"
   ]
  },
  {
   "cell_type": "code",
   "execution_count": 10,
   "metadata": {},
   "outputs": [
    {
     "name": "stdout",
     "output_type": "stream",
     "text": [
      "'data.frame':\t19477 obs. of  4 variables:\n",
      " $ affy_hg_u133_plus_2: chr  \"40359_at\" \"200000_s_at\" \"43544_at\" \"32128_at\" ...\n",
      " $ ensembl_gene_id    : chr  \"ENSG00000273859\" \"ENSG00000274442\" \"ENSG00000282092\" \"ENSG00000278006\" ...\n",
      " $ gene_biotype       : chr  \"protein_coding\" \"protein_coding\" \"protein_coding\" \"protein_coding\" ...\n",
      " $ hgnc_symbol        : chr  \"RASSF7\" \"PRPF8\" \"MED16\" \"CCL18\" ...\n"
     ]
    }
   ],
   "source": [
    "str(annotLookup_YSG)"
   ]
  },
  {
   "cell_type": "code",
   "execution_count": 9,
   "metadata": {},
   "outputs": [],
   "source": [
    "annotLookup_YSG = annotLookup_YSG[!duplicated(annotLookup_YSG$affy_hg_u133_plus_2),]"
   ]
  },
  {
   "cell_type": "code",
   "execution_count": 12,
   "metadata": {},
   "outputs": [],
   "source": [
    "expr_YSG_colnames <- colnames(expr)[-1]\n",
    "expr_YSG <- expr[expr[,1] %in% annotLookup_YSG$affy_hg_u133_plus_2,]"
   ]
  },
  {
   "cell_type": "code",
   "execution_count": 13,
   "metadata": {},
   "outputs": [],
   "source": [
    "expr_YSG$Hybridization.REF <- droplevels(expr_YSG$Hybridization.REF)\n",
    "expr_YSG_rownames <- expr_YSG$Hybridization.REF\n",
    "\n",
    "expr_YSG <- expr_YSG[,-1]\n",
    "\n",
    "expr_YSG <- sapply(seq(ncol(expr_YSG)), function(i) as.numeric(as.character(expr_YSG[,i])))\n",
    "                   \n",
    "rownames(expr_YSG) <- expr_YSG_rownames\n",
    "colnames(expr_YSG) <- expr_YSG_colnames\n",
    "\n",
    "#expr_YSG <- t(expr_YSG)                   "
   ]
  },
  {
   "cell_type": "code",
   "execution_count": 14,
   "metadata": {},
   "outputs": [
    {
     "name": "stdout",
     "output_type": "stream",
     "text": [
      " num [1:19477, 1:5372] 7.84 6.66 6.56 8.43 4.33 ...\n",
      " - attr(*, \"dimnames\")=List of 2\n",
      "  ..$ : chr [1:19477] \"1007_s_at\" \"1053_at\" \"117_at\" \"121_at\" ...\n",
      "  ..$ : chr [1:5372] \"X1102960533.CEL\" \"X1102960569.CEL\" \"X1102960602.CEL\" \"X1102960632.CEL\" ...\n"
     ]
    }
   ],
   "source": [
    "str(expr_YSG)"
   ]
  },
  {
   "cell_type": "code",
   "execution_count": 15,
   "metadata": {},
   "outputs": [],
   "source": [
    "hgnc <- sapply(1:nrow(expr_YSG), function(i)  \n",
    "    annotLookup_YSG[annotLookup_YSG$affy_hg_u133_plus_2 %in% rownames(expr_YSG)[i],'hgnc_symbol']\n",
    "                        )"
   ]
  },
  {
   "cell_type": "code",
   "execution_count": 83,
   "metadata": {},
   "outputs": [],
   "source": [
    "#expr_YSG <- cbind(hgnc=hgnc,expr_YSG)"
   ]
  },
  {
   "cell_type": "code",
   "execution_count": 94,
   "metadata": {},
   "outputs": [],
   "source": [
    "#expr_YSG <- data.frame(expr_YSG)"
   ]
  },
  {
   "cell_type": "code",
   "execution_count": 16,
   "metadata": {},
   "outputs": [],
   "source": [
    "unique_hgnc <- unique(hgnc)\n",
    "dat_summary <- function(i){\n",
    "    tmp <- expr_YSG[hgnc %in% unique_hgnc[i],]\n",
    "    if(!is.null(dim(tmp))) tmp <- apply(tmp,2,mean)\n",
    "    names(tmp) <- NULL\n",
    "    return(tmp)\n",
    "}"
   ]
  },
  {
   "cell_type": "code",
   "execution_count": 141,
   "metadata": {},
   "outputs": [
    {
     "name": "stdout",
     "output_type": "stream",
     "text": [
      " chr [1:1031] \"HSPA6\" \"CCL5\" \"RPL35\" \"PARK7\" \"SRP14\" \"RPL11\" \"RPL21\" ...\n"
     ]
    }
   ],
   "source": [
    "str(unique_hgnc)"
   ]
  },
  {
   "cell_type": "code",
   "execution_count": 18,
   "metadata": {},
   "outputs": [],
   "source": [
    "expr_YSG_tmp <- sapply(1:length(unique_hgnc), dat_summary)"
   ]
  },
  {
   "cell_type": "code",
   "execution_count": 19,
   "metadata": {},
   "outputs": [],
   "source": [
    "rownames(expr_YSG_tmp) <- colnames(expr_YSG)\n",
    "colnames(expr_YSG_tmp) <- unique_hgnc"
   ]
  },
  {
   "cell_type": "code",
   "execution_count": 20,
   "metadata": {},
   "outputs": [
    {
     "name": "stdout",
     "output_type": "stream",
     "text": [
      " num [1:5372, 1:12260] 7.82 7.66 7.75 7.63 7.6 ...\n",
      " - attr(*, \"dimnames\")=List of 2\n",
      "  ..$ : chr [1:5372] \"X1102960533.CEL\" \"X1102960569.CEL\" \"X1102960602.CEL\" \"X1102960632.CEL\" ...\n",
      "  ..$ : chr [1:12260] \"DDR1\" \"RFC2\" \"HSPA6\" \"PAX8\" ...\n"
     ]
    }
   ],
   "source": [
    "str(expr_YSG_tmp)"
   ]
  },
  {
   "cell_type": "code",
   "execution_count": 21,
   "metadata": {},
   "outputs": [],
   "source": [
    "saveRDS(expr_YSG_tmp,\n",
    "        '/gpfs/loomis/pi/zhao2/wd262/shared_data/bulk/E-MTAB-62/expr_YSG.rds')"
   ]
  },
  {
   "cell_type": "code",
   "execution_count": 22,
   "metadata": {},
   "outputs": [],
   "source": [
    "metadata <- readRDS('/gpfs/loomis/pi/zhao2/wd262/shared_data/bulk/E-MTAB-62/metadata_tranSig.rds')"
   ]
  },
  {
   "cell_type": "code",
   "execution_count": 23,
   "metadata": {},
   "outputs": [],
   "source": [
    "new_rn <- sapply(rownames(expr_YSG_tmp),function(x) {\n",
    "    if(substr(x,1,1)=='X') x<-substr(x,2,nchar(x))\n",
    "    return(x)\n",
    "})\n",
    "names(new_rn) <- NULL"
   ]
  },
  {
   "cell_type": "code",
   "execution_count": 25,
   "metadata": {},
   "outputs": [],
   "source": [
    "rownames(expr_YSG_tmp) <- new_rn"
   ]
  },
  {
   "cell_type": "code",
   "execution_count": 26,
   "metadata": {},
   "outputs": [],
   "source": [
    "expr_YSG_tmp <- expr_YSG_tmp[new_rn %in% metadata$Source.Name,]"
   ]
  },
  {
   "cell_type": "code",
   "execution_count": 27,
   "metadata": {},
   "outputs": [
    {
     "name": "stdout",
     "output_type": "stream",
     "text": [
      " num [1:1749, 1:12260] 7.82 7.66 7.75 7.63 7.6 ...\n",
      " - attr(*, \"dimnames\")=List of 2\n",
      "  ..$ : chr [1:1749] \"1102960533.CEL\" \"1102960569.CEL\" \"1102960602.CEL\" \"1102960632.CEL\" ...\n",
      "  ..$ : chr [1:12260] \"DDR1\" \"RFC2\" \"HSPA6\" \"PAX8\" ...\n"
     ]
    }
   ],
   "source": [
    "str(expr_YSG_tmp)"
   ]
  },
  {
   "cell_type": "code",
   "execution_count": 28,
   "metadata": {},
   "outputs": [],
   "source": [
    "saveRDS(expr_YSG_tmp,\n",
    "        '/gpfs/loomis/pi/zhao2/wd262/shared_data/bulk/E-MTAB-62/expr_tranSig.rds')"
   ]
  },
  {
   "cell_type": "code",
   "execution_count": 10,
   "metadata": {},
   "outputs": [],
   "source": [
    "YSG <- readRDS(\"/gpfs/ysm/pi/zhao-data/wd262/sc_immune/sc_immune/data/NSCLC/sg.list.rds\")"
   ]
  },
  {
   "cell_type": "code",
   "execution_count": 13,
   "metadata": {},
   "outputs": [
    {
     "data": {
      "text/html": [
       "1035"
      ],
      "text/latex": [
       "1035"
      ],
      "text/markdown": [
       "1035"
      ],
      "text/plain": [
       "[1] 1035"
      ]
     },
     "metadata": {},
     "output_type": "display_data"
    }
   ],
   "source": [
    "length(intersect(YSG,annotLookup$hgnc_symbol))"
   ]
  },
  {
   "cell_type": "code",
   "execution_count": 1,
   "metadata": {},
   "outputs": [],
   "source": [
    "library('biomaRt')\n",
    "#ensembl = useMart(\"ensembl\", dataset=\"hsapiens_gene_ensembl\")\n",
    "#gb <- getBM(attributes=c(\"affy_hg_u95av2\",\"ensembl_transcript_id\",\"gene_biotype\",\"hgnc_symbol\"),filters = c(\"biotype\"), values=list('protein_coding'), mart=ensembl)\n",
    "\n",
    "#protein_coding_gene <- rownames(seur)[protein_coding_idx]\n",
    "\n",
    "mart <- useMart(\"ENSEMBL_MART_ENSEMBL\")\n",
    "mart <- useDataset(\"hsapiens_gene_ensembl\", mart)\n",
    "annotLookup <- getBM(\n",
    "  mart=mart,\n",
    "  attributes=c(\n",
    "    \"affy_hg_u133_plus_2\",\n",
    "    \"ensembl_gene_id\",\n",
    "    \"gene_biotype\",\n",
    "    \"hgnc_symbol\"),\n",
    "  filter = \"affy_hg_u133_plus_2\",\n",
    "  values = Affy[,1], uniqueRows=TRUE)\n",
    "\n",
    "\n"
   ]
  },
  {
   "cell_type": "code",
   "execution_count": null,
   "metadata": {},
   "outputs": [],
   "source": []
  },
  {
   "cell_type": "code",
   "execution_count": 42,
   "metadata": {
    "scrolled": true
   },
   "outputs": [
    {
     "data": {
      "text/html": [
       "<table>\n",
       "<caption>A data.frame: 30 × 4</caption>\n",
       "<thead>\n",
       "\t<tr><th></th><th scope=col>affy_hg_u95av2</th><th scope=col>ensembl_transcript_id</th><th scope=col>gene_biotype</th><th scope=col>hgnc_symbol</th></tr>\n",
       "\t<tr><th></th><th scope=col>&lt;chr&gt;</th><th scope=col>&lt;chr&gt;</th><th scope=col>&lt;chr&gt;</th><th scope=col>&lt;chr&gt;</th></tr>\n",
       "</thead>\n",
       "<tbody>\n",
       "\t<tr><th scope=row>1</th><td>          </td><td>ENST00000361390</td><td>protein_coding</td><td>MT-ND1 </td></tr>\n",
       "\t<tr><th scope=row>2</th><td>          </td><td>ENST00000361453</td><td>protein_coding</td><td>MT-ND2 </td></tr>\n",
       "\t<tr><th scope=row>3</th><td>          </td><td>ENST00000361624</td><td>protein_coding</td><td>MT-CO1 </td></tr>\n",
       "\t<tr><th scope=row>4</th><td>          </td><td>ENST00000361739</td><td>protein_coding</td><td>MT-CO2 </td></tr>\n",
       "\t<tr><th scope=row>5</th><td>          </td><td>ENST00000361851</td><td>protein_coding</td><td>MT-ATP8</td></tr>\n",
       "\t<tr><th scope=row>6</th><td>          </td><td>ENST00000361899</td><td>protein_coding</td><td>MT-ATP6</td></tr>\n",
       "\t<tr><th scope=row>7</th><td>          </td><td>ENST00000362079</td><td>protein_coding</td><td>MT-CO3 </td></tr>\n",
       "\t<tr><th scope=row>8</th><td>          </td><td>ENST00000361227</td><td>protein_coding</td><td>MT-ND3 </td></tr>\n",
       "\t<tr><th scope=row>9</th><td>          </td><td>ENST00000361335</td><td>protein_coding</td><td>MT-ND4L</td></tr>\n",
       "\t<tr><th scope=row>10</th><td>          </td><td>ENST00000361381</td><td>protein_coding</td><td>MT-ND4 </td></tr>\n",
       "\t<tr><th scope=row>11</th><td>          </td><td>ENST00000361567</td><td>protein_coding</td><td>MT-ND5 </td></tr>\n",
       "\t<tr><th scope=row>12</th><td>          </td><td>ENST00000361681</td><td>protein_coding</td><td>MT-ND6 </td></tr>\n",
       "\t<tr><th scope=row>13</th><td>          </td><td>ENST00000361789</td><td>protein_coding</td><td>MT-CYB </td></tr>\n",
       "\t<tr><th scope=row>14</th><td>34279_at  </td><td>ENST00000614336</td><td>protein_coding</td><td>       </td></tr>\n",
       "\t<tr><th scope=row>15</th><td>34279_at  </td><td>ENST00000612640</td><td>protein_coding</td><td>       </td></tr>\n",
       "\t<tr><th scope=row>16</th><td>34279_at  </td><td>ENST00000612721</td><td>protein_coding</td><td>       </td></tr>\n",
       "\t<tr><th scope=row>17</th><td>34279_at  </td><td>ENST00000616361</td><td>protein_coding</td><td>       </td></tr>\n",
       "\t<tr><th scope=row>18</th><td>          </td><td>ENST00000618686</td><td>protein_coding</td><td>       </td></tr>\n",
       "\t<tr><th scope=row>19</th><td>34558_at  </td><td>ENST00000615600</td><td>protein_coding</td><td>OPRL1  </td></tr>\n",
       "\t<tr><th scope=row>20</th><td>34558_at  </td><td>ENST00000627060</td><td>protein_coding</td><td>OPRL1  </td></tr>\n",
       "\t<tr><th scope=row>21</th><td>34558_at  </td><td>ENST00000625570</td><td>protein_coding</td><td>OPRL1  </td></tr>\n",
       "\t<tr><th scope=row>22</th><td>          </td><td>ENST00000612646</td><td>protein_coding</td><td>NPBWR2 </td></tr>\n",
       "\t<tr><th scope=row>23</th><td>          </td><td>ENST00000616597</td><td>protein_coding</td><td>MYT1   </td></tr>\n",
       "\t<tr><th scope=row>24</th><td>32189_g_at</td><td>ENST00000613234</td><td>protein_coding</td><td>MYT1   </td></tr>\n",
       "\t<tr><th scope=row>25</th><td>32188_at  </td><td>ENST00000613234</td><td>protein_coding</td><td>MYT1   </td></tr>\n",
       "\t<tr><th scope=row>26</th><td>          </td><td>ENST00000630159</td><td>protein_coding</td><td>MYT1   </td></tr>\n",
       "\t<tr><th scope=row>27</th><td>          </td><td>ENST00000621996</td><td>protein_coding</td><td>MYT1   </td></tr>\n",
       "\t<tr><th scope=row>28</th><td>32189_g_at</td><td>ENST00000616648</td><td>protein_coding</td><td>MYT1   </td></tr>\n",
       "\t<tr><th scope=row>29</th><td>32188_at  </td><td>ENST00000616648</td><td>protein_coding</td><td>MYT1   </td></tr>\n",
       "\t<tr><th scope=row>30</th><td>32189_g_at</td><td>ENST00000625658</td><td>protein_coding</td><td>       </td></tr>\n",
       "</tbody>\n",
       "</table>\n"
      ],
      "text/latex": [
       "A data.frame: 30 × 4\n",
       "\\begin{tabular}{r|llll}\n",
       "  & affy\\_hg\\_u95av2 & ensembl\\_transcript\\_id & gene\\_biotype & hgnc\\_symbol\\\\\n",
       "  & <chr> & <chr> & <chr> & <chr>\\\\\n",
       "\\hline\n",
       "\t1 &            & ENST00000361390 & protein\\_coding & MT-ND1 \\\\\n",
       "\t2 &            & ENST00000361453 & protein\\_coding & MT-ND2 \\\\\n",
       "\t3 &            & ENST00000361624 & protein\\_coding & MT-CO1 \\\\\n",
       "\t4 &            & ENST00000361739 & protein\\_coding & MT-CO2 \\\\\n",
       "\t5 &            & ENST00000361851 & protein\\_coding & MT-ATP8\\\\\n",
       "\t6 &            & ENST00000361899 & protein\\_coding & MT-ATP6\\\\\n",
       "\t7 &            & ENST00000362079 & protein\\_coding & MT-CO3 \\\\\n",
       "\t8 &            & ENST00000361227 & protein\\_coding & MT-ND3 \\\\\n",
       "\t9 &            & ENST00000361335 & protein\\_coding & MT-ND4L\\\\\n",
       "\t10 &            & ENST00000361381 & protein\\_coding & MT-ND4 \\\\\n",
       "\t11 &            & ENST00000361567 & protein\\_coding & MT-ND5 \\\\\n",
       "\t12 &            & ENST00000361681 & protein\\_coding & MT-ND6 \\\\\n",
       "\t13 &            & ENST00000361789 & protein\\_coding & MT-CYB \\\\\n",
       "\t14 & 34279\\_at   & ENST00000614336 & protein\\_coding &        \\\\\n",
       "\t15 & 34279\\_at   & ENST00000612640 & protein\\_coding &        \\\\\n",
       "\t16 & 34279\\_at   & ENST00000612721 & protein\\_coding &        \\\\\n",
       "\t17 & 34279\\_at   & ENST00000616361 & protein\\_coding &        \\\\\n",
       "\t18 &            & ENST00000618686 & protein\\_coding &        \\\\\n",
       "\t19 & 34558\\_at   & ENST00000615600 & protein\\_coding & OPRL1  \\\\\n",
       "\t20 & 34558\\_at   & ENST00000627060 & protein\\_coding & OPRL1  \\\\\n",
       "\t21 & 34558\\_at   & ENST00000625570 & protein\\_coding & OPRL1  \\\\\n",
       "\t22 &            & ENST00000612646 & protein\\_coding & NPBWR2 \\\\\n",
       "\t23 &            & ENST00000616597 & protein\\_coding & MYT1   \\\\\n",
       "\t24 & 32189\\_g\\_at & ENST00000613234 & protein\\_coding & MYT1   \\\\\n",
       "\t25 & 32188\\_at   & ENST00000613234 & protein\\_coding & MYT1   \\\\\n",
       "\t26 &            & ENST00000630159 & protein\\_coding & MYT1   \\\\\n",
       "\t27 &            & ENST00000621996 & protein\\_coding & MYT1   \\\\\n",
       "\t28 & 32189\\_g\\_at & ENST00000616648 & protein\\_coding & MYT1   \\\\\n",
       "\t29 & 32188\\_at   & ENST00000616648 & protein\\_coding & MYT1   \\\\\n",
       "\t30 & 32189\\_g\\_at & ENST00000625658 & protein\\_coding &        \\\\\n",
       "\\end{tabular}\n"
      ],
      "text/markdown": [
       "\n",
       "A data.frame: 30 × 4\n",
       "\n",
       "| <!--/--> | affy_hg_u95av2 &lt;chr&gt; | ensembl_transcript_id &lt;chr&gt; | gene_biotype &lt;chr&gt; | hgnc_symbol &lt;chr&gt; |\n",
       "|---|---|---|---|---|\n",
       "| 1 | <!----> | ENST00000361390 | protein_coding | MT-ND1  |\n",
       "| 2 | <!----> | ENST00000361453 | protein_coding | MT-ND2  |\n",
       "| 3 | <!----> | ENST00000361624 | protein_coding | MT-CO1  |\n",
       "| 4 | <!----> | ENST00000361739 | protein_coding | MT-CO2  |\n",
       "| 5 | <!----> | ENST00000361851 | protein_coding | MT-ATP8 |\n",
       "| 6 | <!----> | ENST00000361899 | protein_coding | MT-ATP6 |\n",
       "| 7 | <!----> | ENST00000362079 | protein_coding | MT-CO3  |\n",
       "| 8 | <!----> | ENST00000361227 | protein_coding | MT-ND3  |\n",
       "| 9 | <!----> | ENST00000361335 | protein_coding | MT-ND4L |\n",
       "| 10 | <!----> | ENST00000361381 | protein_coding | MT-ND4  |\n",
       "| 11 | <!----> | ENST00000361567 | protein_coding | MT-ND5  |\n",
       "| 12 | <!----> | ENST00000361681 | protein_coding | MT-ND6  |\n",
       "| 13 | <!----> | ENST00000361789 | protein_coding | MT-CYB  |\n",
       "| 14 | 34279_at   | ENST00000614336 | protein_coding | <!----> |\n",
       "| 15 | 34279_at   | ENST00000612640 | protein_coding | <!----> |\n",
       "| 16 | 34279_at   | ENST00000612721 | protein_coding | <!----> |\n",
       "| 17 | 34279_at   | ENST00000616361 | protein_coding | <!----> |\n",
       "| 18 | <!----> | ENST00000618686 | protein_coding | <!----> |\n",
       "| 19 | 34558_at   | ENST00000615600 | protein_coding | OPRL1   |\n",
       "| 20 | 34558_at   | ENST00000627060 | protein_coding | OPRL1   |\n",
       "| 21 | 34558_at   | ENST00000625570 | protein_coding | OPRL1   |\n",
       "| 22 | <!----> | ENST00000612646 | protein_coding | NPBWR2  |\n",
       "| 23 | <!----> | ENST00000616597 | protein_coding | MYT1    |\n",
       "| 24 | 32189_g_at | ENST00000613234 | protein_coding | MYT1    |\n",
       "| 25 | 32188_at   | ENST00000613234 | protein_coding | MYT1    |\n",
       "| 26 | <!----> | ENST00000630159 | protein_coding | MYT1    |\n",
       "| 27 | <!----> | ENST00000621996 | protein_coding | MYT1    |\n",
       "| 28 | 32189_g_at | ENST00000616648 | protein_coding | MYT1    |\n",
       "| 29 | 32188_at   | ENST00000616648 | protein_coding | MYT1    |\n",
       "| 30 | 32189_g_at | ENST00000625658 | protein_coding | <!----> |\n",
       "\n"
      ],
      "text/plain": [
       "   affy_hg_u95av2 ensembl_transcript_id gene_biotype   hgnc_symbol\n",
       "1                 ENST00000361390       protein_coding MT-ND1     \n",
       "2                 ENST00000361453       protein_coding MT-ND2     \n",
       "3                 ENST00000361624       protein_coding MT-CO1     \n",
       "4                 ENST00000361739       protein_coding MT-CO2     \n",
       "5                 ENST00000361851       protein_coding MT-ATP8    \n",
       "6                 ENST00000361899       protein_coding MT-ATP6    \n",
       "7                 ENST00000362079       protein_coding MT-CO3     \n",
       "8                 ENST00000361227       protein_coding MT-ND3     \n",
       "9                 ENST00000361335       protein_coding MT-ND4L    \n",
       "10                ENST00000361381       protein_coding MT-ND4     \n",
       "11                ENST00000361567       protein_coding MT-ND5     \n",
       "12                ENST00000361681       protein_coding MT-ND6     \n",
       "13                ENST00000361789       protein_coding MT-CYB     \n",
       "14 34279_at       ENST00000614336       protein_coding            \n",
       "15 34279_at       ENST00000612640       protein_coding            \n",
       "16 34279_at       ENST00000612721       protein_coding            \n",
       "17 34279_at       ENST00000616361       protein_coding            \n",
       "18                ENST00000618686       protein_coding            \n",
       "19 34558_at       ENST00000615600       protein_coding OPRL1      \n",
       "20 34558_at       ENST00000627060       protein_coding OPRL1      \n",
       "21 34558_at       ENST00000625570       protein_coding OPRL1      \n",
       "22                ENST00000612646       protein_coding NPBWR2     \n",
       "23                ENST00000616597       protein_coding MYT1       \n",
       "24 32189_g_at     ENST00000613234       protein_coding MYT1       \n",
       "25 32188_at       ENST00000613234       protein_coding MYT1       \n",
       "26                ENST00000630159       protein_coding MYT1       \n",
       "27                ENST00000621996       protein_coding MYT1       \n",
       "28 32189_g_at     ENST00000616648       protein_coding MYT1       \n",
       "29 32188_at       ENST00000616648       protein_coding MYT1       \n",
       "30 32189_g_at     ENST00000625658       protein_coding            "
      ]
     },
     "metadata": {},
     "output_type": "display_data"
    }
   ],
   "source": [
    "head(gb,30)"
   ]
  },
  {
   "cell_type": "code",
   "execution_count": 44,
   "metadata": {},
   "outputs": [
    {
     "data": {
      "text/html": [
       "FALSE"
      ],
      "text/latex": [
       "FALSE"
      ],
      "text/markdown": [
       "FALSE"
      ],
      "text/plain": [
       "[1] FALSE"
      ]
     },
     "metadata": {},
     "output_type": "display_data"
    }
   ],
   "source": [
    "'200036_s_at' %in% gb$affy_hg_u95av2"
   ]
  },
  {
   "cell_type": "code",
   "execution_count": 27,
   "metadata": {},
   "outputs": [
    {
     "data": {
      "text/html": [
       "0"
      ],
      "text/latex": [
       "0"
      ],
      "text/markdown": [
       "0"
      ],
      "text/plain": [
       "[1] 0"
      ]
     },
     "metadata": {},
     "output_type": "display_data"
    }
   ],
   "source": [
    "gene_list = as.character(Affy$Composite_Element_Database_Entry_ensembl)\n",
    "\n",
    "protein_coding_idx <- c()\n",
    "hgnc <- c()\n",
    "for(i in 1:length(gene_list)){\n",
    "    idx <- which(gb$ensembl_transcript_id==gene_list[i])\n",
    "    if(length(idx)>0){\n",
    "        protein_coding_idx <- c(protein_coding_idx, i)        \n",
    "        hgnc <- c(hgnc, gb[idx,'hgnc_symbol'])\n",
    "    }\n",
    "}\n",
    "length(protein_coding_idx)\n",
    "protein_coding_idx <- protein_coding_idx[,1]"
   ]
  },
  {
   "cell_type": "code",
   "execution_count": 25,
   "metadata": {},
   "outputs": [
    {
     "data": {
      "text/html": [
       "'ENSG00000142534'"
      ],
      "text/latex": [
       "'ENSG00000142534'"
      ],
      "text/markdown": [
       "'ENSG00000142534'"
      ],
      "text/plain": [
       "[1] \"ENSG00000142534\""
      ]
     },
     "metadata": {},
     "output_type": "display_data"
    }
   ],
   "source": [
    "gene_list = as.character(Affy$Composite_Element_Database_Entry_ensembl)\n",
    "gene_list[100]"
   ]
  },
  {
   "cell_type": "code",
   "execution_count": 33,
   "metadata": {},
   "outputs": [
    {
     "data": {
      "text/html": [
       "<style>\n",
       ".list-inline {list-style: none; margin:0; padding: 0}\n",
       ".list-inline>li {display: inline-block}\n",
       ".list-inline>li:not(:last-child)::after {content: \"\\00b7\"; padding: 0 .5ex}\n",
       "</style>\n",
       "<ol class=list-inline><li>175106</li><li>3</li></ol>\n"
      ],
      "text/latex": [
       "\\begin{enumerate*}\n",
       "\\item 175106\n",
       "\\item 3\n",
       "\\end{enumerate*}\n"
      ],
      "text/markdown": [
       "1. 175106\n",
       "2. 3\n",
       "\n",
       "\n"
      ],
      "text/plain": [
       "[1] 175106      3"
      ]
     },
     "metadata": {},
     "output_type": "display_data"
    }
   ],
   "source": [
    "dim(gb)"
   ]
  },
  {
   "cell_type": "code",
   "execution_count": 38,
   "metadata": {
    "scrolled": true
   },
   "outputs": [
    {
     "data": {
      "text/html": [
       "0"
      ],
      "text/latex": [
       "0"
      ],
      "text/markdown": [
       "0"
      ],
      "text/plain": [
       "[1] 0"
      ]
     },
     "metadata": {},
     "output_type": "display_data"
    }
   ],
   "source": [
    "1*('ENSG00000167393' %in% gb$ensembl_transcript_id)"
   ]
  },
  {
   "cell_type": "code",
   "execution_count": 166,
   "metadata": {},
   "outputs": [],
   "source": [
    "metadata <- read.table('/gpfs/loomis/pi/zhao2/wd262/shared_data/bulk/E-MTAB-62/E-MTAB-62.sdrf.txt',\n",
    "                 sep='\\t',header=T)"
   ]
  },
  {
   "cell_type": "code",
   "execution_count": 167,
   "metadata": {},
   "outputs": [
    {
     "name": "stdout",
     "output_type": "stream",
     "text": [
      "'data.frame':\t5372 obs. of  34 variables:\n",
      " $ Source.Name                                           : Factor w/ 5372 levels \"1102960533.CEL\",..: 3984 76 2475 4430 2382 4429 2381 4438 3192 4424 ...\n",
      " $ Characteristics.OperatorVariation.                    : Factor w/ 163 levels \"Adrian,P.,Bracken\",..: 133 121 159 47 10 47 10 47 55 47 ...\n",
      " $ Characteristics.DataSource.                           : Factor w/ 206 levels \"E-AFMX-6\",\"E-LGCL-5\",..: 74 61 166 121 163 121 163 121 196 121 ...\n",
      " $ Characteristics.4.meta.groups.                        : Factor w/ 4 levels \"cell line\",\"disease\",..: 1 1 1 1 1 1 1 1 1 1 ...\n",
      " $ Characteristics.15.meta.groups.                       : Factor w/ 15 levels \"blood neoplasm cell line\",..: 9 14 14 14 14 14 14 14 14 14 ...\n",
      " $ Characteristics.369.groups.                           : Factor w/ 369 levels \"293t-tva\",\"600MPE breast cancer\",..: 1 2 3 4 4 4 4 4 4 4 ...\n",
      " $ Characteristics.groups.with.10.and.more.replicates.   : Factor w/ 97 levels \"  \",\"A549 lung adenocarcinoma\",..: 1 1 1 2 2 2 2 2 2 2 ...\n",
      " $ Characteristics.Blood.NonBlood.meta.groups.           : Factor w/ 2 levels \"blood\",\"non blood\": 2 2 2 2 2 2 2 2 2 2 ...\n",
      " $ Characteristics.Organism.                             : Factor w/ 2 levels \"Homo sapiens\",..: 1 1 1 1 1 1 1 1 1 1 ...\n",
      " $ Characteristics.OrganismPart.                         : Factor w/ 131 levels \"  \",\"Abdominus\",..: 51 71 51 68 68 68 68 68 68 68 ...\n",
      " $ Characteristics.CellType.                             : Factor w/ 115 levels \"  \",\"721 B lymphoblasts\",..: 1 1 1 1 1 1 1 1 1 1 ...\n",
      " $ Characteristics.CellLine.                             : Factor w/ 265 levels \"  \",\"293t-tva\",..: 2 3 4 5 5 5 5 5 5 5 ...\n",
      " $ Characteristics.DiseaseState.                         : Factor w/ 231 levels \"  \",\"abscess\",..: 1 31 11 128 129 128 129 128 128 128 ...\n",
      " $ Characteristics.DevelopmentalStage.                   : Factor w/ 4 levels \"  \",\"adult\",\"embryo\",..: 3 1 1 1 1 1 1 1 1 1 ...\n",
      " $ Characteristics.DiseaseStage.                         : Factor w/ 41 levels \"  \",\"aggressive\",..: 1 1 1 1 1 1 1 1 1 1 ...\n",
      " $ Characteristics.Sex.                                  : Factor w/ 6 levels \"  \",\"female\",..: 1 1 4 1 1 1 1 1 1 1 ...\n",
      " $ Characteristics.Age.                                  : Factor w/ 189 levels \"  \",\"0,91\",\"0.25 years\",..: 1 1 129 1 1 1 1 1 1 1 ...\n",
      " $ Characteristics.Generalization.6.on.reduced.data.     : Factor w/ 7 levels \"  \",\"brain\",\"cell line\",..: 1 1 1 3 3 3 3 3 3 3 ...\n",
      " $ Labeled.Extract.Name                                  : Factor w/ 5372 levels \"1102960533.CEL_L\",..: 3984 76 2475 4430 2382 4429 2381 4438 3192 4424 ...\n",
      " $ Label                                                 : Factor w/ 1 level \"biotin\": 1 1 1 1 1 1 1 1 1 1 ...\n",
      " $ Hybridization.Name                                    : Factor w/ 5372 levels \"1102960533.CEL\",..: 3984 76 2475 4430 2382 4429 2381 4438 3192 4424 ...\n",
      " $ Array.Design.REF                                      : Factor w/ 1 level \"A-AFFY-33\": 1 1 1 1 1 1 1 1 1 1 ...\n",
      " $ Array.Data.File                                       : Factor w/ 5372 levels \"1102960533.CEL\",..: 3984 76 2475 4430 2382 4429 2381 4438 3192 4424 ...\n",
      " $ Comment..ArrayExpress.FTP.file.                       : Factor w/ 121 levels \"ftp://ftp.ebi.ac.uk/pub/databases/microarray/data/experiment/MTAB/E-MTAB-62/E-MTAB-62.raw.1.zip\",..: 1 1 1 1 1 1 1 1 1 1 ...\n",
      " $ Protocol.REF                                          : Factor w/ 1 level \"P-MTAB-2072\": 1 1 1 1 1 1 1 1 1 1 ...\n",
      " $ Derived.Array.Data.Matrix.File                        : Factor w/ 1 level \"hgu133a_rma_okFiles_080619_MAGETAB.csv\": 1 1 1 1 1 1 1 1 1 1 ...\n",
      " $ Comment..Derived.ArrayExpress.FTP.file.               : Factor w/ 1 level \"ftp://ftp.ebi.ac.uk/pub/databases/microarray/data/experiment/MTAB/E-MTAB-62/E-MTAB-62.processed.2.zip\": 1 1 1 1 1 1 1 1 1 1 ...\n",
      " $ Factor.Value.4.meta.groups.                           : Factor w/ 4 levels \"cell line\",\"disease\",..: 1 1 1 1 1 1 1 1 1 1 ...\n",
      " $ Factor.Value.15.meta.groups.                          : Factor w/ 15 levels \"blood neoplasm cell line\",..: 9 14 14 14 14 14 14 14 14 14 ...\n",
      " $ Factor.Value.369.groups.                              : Factor w/ 369 levels \"293t-tva\",\"600MPE breast cancer\",..: 1 2 3 4 4 4 4 4 4 4 ...\n",
      " $ Factor.Value.Blood.NonBlood.meta.groups.              : Factor w/ 2 levels \"blood\",\"non blood\": 2 2 2 2 2 2 2 2 2 2 ...\n",
      " $ Factor.Value.6.meta.groups.                           : Factor w/ 7 levels \"  \",\"brain\",\"cell line\",..: 1 1 1 3 3 3 3 3 3 3 ...\n",
      " $ Factor.Value.4.groups.from.blood.to.incompletely.diff.: Factor w/ 4 levels \"blood\",\"connective\",..: 4 4 4 4 4 4 4 4 4 4 ...\n",
      " $ Factor.Value.96.groups.                               : Factor w/ 97 levels \"    \",\"A549 lung adenocarcinoma\",..: 1 1 1 2 2 2 2 2 2 2 ...\n"
     ]
    }
   ],
   "source": [
    "str(metadata)"
   ]
  },
  {
   "cell_type": "code",
   "execution_count": 9,
   "metadata": {},
   "outputs": [
    {
     "data": {
      "text/plain": [
       "\n",
       "                                                  brain \n",
       "                        878                         286 \n",
       "                  cell line        hematopoietic system \n",
       "                        628                        1854 \n",
       "incompletely differentiated                      muscle \n",
       "                        157                         187 \n",
       "               solid tissue \n",
       "                       1382 "
      ]
     },
     "metadata": {},
     "output_type": "display_data"
    },
    {
     "data": {
      "text/plain": [
       "\n",
       "    blood non blood \n",
       "     1922      3450 "
      ]
     },
     "metadata": {},
     "output_type": "display_data"
    },
    {
     "data": {
      "text/plain": [
       "\n",
       "                                                                 \n",
       "                                                             287 \n",
       "                                                       Abdominus \n",
       "                                                               2 \n",
       "                                                  adipose tissue \n",
       "                                                              17 \n",
       "                                     adipose tissue from abdomen \n",
       "                                                              29 \n",
       "                           adipose tissue from abdomen and thigh \n",
       "                                                               4 \n",
       "                                                   adrenal gland \n",
       "                                                               1 \n",
       "                                                        amygdala \n",
       "                                                               1 \n",
       "                                                           aorta \n",
       "                                                               1 \n",
       "                                               atrial myocardium \n",
       "                                                              27 \n",
       "                                                         bladder \n",
       "                                                              44 \n",
       "                                                  bladder mucosa \n",
       "                                                               4 \n",
       "                                                           blood \n",
       "                                                            1089 \n",
       "                                                           Blood \n",
       "                                                               1 \n",
       "                                                            bone \n",
       "                                                              57 \n",
       "                                                     bone marrow \n",
       "                                                             733 \n",
       "                                                           brain \n",
       "                                                             166 \n",
       "                                           brain caudate nucleus \n",
       "                                                              67 \n",
       "                                                brain cerebellum \n",
       "                                                              65 \n",
       "   brain, frontal cortex, primary motor cortex, Brodmanns Area 4 \n",
       "                                                              33 \n",
       "brain, frontal cortex, superior frontal cortex, Brodmanns Area 9 \n",
       "                                                              30 \n",
       "                                        brain, prefrontal cortex \n",
       "                                                               2 \n",
       "                                             bronchial epithelia \n",
       "                                                               7 \n",
       "                             bronchial epithelia, current smoker \n",
       "                                                              20 \n",
       "                              bronchial epithelia, former smoker \n",
       "                                                               6 \n",
       "                                               cardiac ventricle \n",
       "                                                              32 \n",
       "                                                 caudate nucleus \n",
       "                                                               1 \n",
       "                                                      cerebellum \n",
       "                                                               4 \n",
       "                                                          cervix \n",
       "                                                              42 \n",
       "                                                      chest wall \n",
       "                                                               1 \n",
       "                                                           colon \n",
       "                                                             116 \n",
       "                                                    colon mucosa \n",
       "                                                               8 \n",
       "                                                     conjunctiva \n",
       "                                                              10 \n",
       "                                               connective tissue \n",
       "                                                               3 \n",
       "                                                      Cord blood \n",
       "                                                               7 \n",
       "                                                 coronary artery \n",
       "                                                               9 \n",
       "                                              distal right femur \n",
       "                                                               2 \n",
       "                                                       Epidermis \n",
       "                                                               4 \n",
       "                                                       esophagus \n",
       "                                                              25 \n",
       "                                                    extracranial \n",
       "                                                               1 \n",
       "                                                             eye \n",
       "                                                               6 \n",
       "                                                     fetal blood \n",
       "                                                               6 \n",
       "                                                      fetal lung \n",
       "                                                               1 \n",
       "                                                         gingiva \n",
       "                                                              10 \n",
       "                                                           heart \n",
       "                                                              11 \n",
       "                                          hippocampal CA1 tissue \n",
       "                                                              13 \n",
       "                           human microvascular endothelial cell  \n",
       "                                                               6 \n",
       "                                       human universal reference \n",
       "                                                              14 \n",
       "                                                     hypopharynx \n",
       "                                                               8 \n",
       "                                                    hypothalamus \n",
       "                                                              20 \n",
       "                                                     iliac fossa \n",
       "                                                               1 \n",
       "                                                          kidney \n",
       "                                                              92 \n",
       "                                                          larynx \n",
       "                                                               1 \n",
       "                                                         larynx  \n",
       "                                                              10 \n",
       "                                                       left calf \n",
       "                                                               1 \n",
       "                                                      left femur \n",
       "                                                               1 \n",
       "                                                     left fibula \n",
       "                                                               1 \n",
       "                                                       left foot \n",
       "                                                               1 \n",
       "                                                    left forearm \n",
       "                                                               1 \n",
       "                                                       left knee \n",
       "                                                               2 \n",
       "                                                        left leg \n",
       "                                                               1 \n",
       "                                                      left thigh \n",
       "                                                               4 \n",
       "                                                      left tibia \n",
       "                                                               1 \n",
       "                                           left ventricle, heart \n",
       "                                                              12 \n",
       "                                     left ventricular myocardium \n",
       "                                                               4 \n",
       "                                                       Leukocyte \n",
       "                                                               8 \n",
       "                                                           liver \n",
       "                                                              66 \n",
       "                                                      lower back \n",
       "                                                               1 \n",
       "                                                            lung \n",
       "                                                             286 \n",
       "                                                 lung transplant \n",
       "                                                              29 \n",
       "                                                      lymph node \n",
       "                                                              10 \n",
       "                                                   mammary gland \n",
       "                                                            1033 \n",
       "                                                        mandible \n",
       "                                                               4 \n",
       "                                                     mediastinum \n",
       "                                                               1 \n",
       "                                                       Mesagnium \n",
       "                                                               8 \n",
       "                                                          muscle \n",
       "                                                              40 \n",
       "                                   myocardium (left ventricular) \n",
       "                                                               1 \n",
       "                                                      myometrium \n",
       "                                                              12 \n",
       "                                                  neuroendocrine \n",
       "                                                               1 \n",
       "                                                            oral \n",
       "                                                               2 \n",
       "                                                     Oral cavity \n",
       "                                                               4 \n",
       "                                                      oropharynx \n",
       "                                                               4 \n",
       "                                                           ovary \n",
       "                                                             116 \n",
       "                                                 palatine tonsil \n",
       "                                                               9 \n",
       "                                                  peroneal nerve \n",
       "                                                               1 \n",
       "                                                        placenta \n",
       "                                                               3 \n",
       "                                            placenta basal plate \n",
       "                                                              21 \n",
       "                                                          pleura \n",
       "                                                               1 \n",
       "                                                        prostate \n",
       "                                                             116 \n",
       "                                proximal epiphysis of left tibia \n",
       "                                                               2 \n",
       "                              proximal epiphysis of right fibula \n",
       "                                                               1 \n",
       "                                               quadriceps muscle \n",
       "                                                              18 \n",
       "                                                     ray of foot \n",
       "                                                               1 \n",
       "                                                        rib cage \n",
       "                                                               1 \n",
       "                                                    right axilla \n",
       "                                                               1 \n",
       "                                                   right buttock \n",
       "                                                               1 \n",
       "                                                      right calf \n",
       "                                                               2 \n",
       "                                                     right elbow \n",
       "                                                               1 \n",
       "                                                     right femur \n",
       "                                                               2 \n",
       "                                                   right humerus \n",
       "                                                               1 \n",
       "                                                      right knee \n",
       "                                                               3 \n",
       "                                          right latissimus dorsi \n",
       "                                                               1 \n",
       "                                                       right leg \n",
       "                                                               2 \n",
       "                                                  right shoulder \n",
       "                                                               3 \n",
       "                                                     right thigh \n",
       "                                                               3 \n",
       "                                                     right tibia \n",
       "                                                               3 \n",
       "                                                 right upper arm \n",
       "                                                               3 \n",
       "                                                          sacrum \n",
       "                                                               2 \n",
       "                                                 skeletal muscle \n",
       "                                                              82 \n",
       "                                                            skin \n",
       "                                                              79 \n",
       "                                                      skin (arm) \n",
       "                                                               8 \n",
       "                                                      skin (leg) \n",
       "                                                               3 \n",
       "                                                 Small intestine \n",
       "                                                               6 \n",
       "                                                   smooth muscle \n",
       "                                                               8 \n",
       "                                                      spine disc \n",
       "                                                              10 \n",
       "                                                     T2 vertebra \n",
       "                                                               1 \n",
       "                                                     T5 vertebra \n",
       "                                                               1 \n",
       "                                                          testis \n",
       "                                                               3 \n",
       "                                                          thymus \n",
       "                                                              15 \n",
       "                                                         thyroid \n",
       "                                                              26 \n",
       "                                                           tibia \n",
       "                                                               2 \n",
       "                                                          tongue \n",
       "                                                              16 \n",
       "                                                          tonsil \n",
       "                                                              11 \n",
       "                                                         Trachea \n",
       "                                                               5 \n",
       "                                            umbilical cord blood \n",
       "                                                               3 \n",
       "                                                  umbilical vein \n",
       "                                                              42 \n",
       "                                             universal reference \n",
       "                                                               4 \n",
       "                                                    uterine tube \n",
       "                                                               1 \n",
       "                                                          uterus \n",
       "                                                              23 \n",
       "                                                vastus lateralis \n",
       "                                                               1 \n",
       "                                                    Whole embryo \n",
       "                                                               3 \n",
       "                                                        yolk sac \n",
       "                                                               5 "
      ]
     },
     "metadata": {},
     "output_type": "display_data"
    }
   ],
   "source": [
    "table(metadata$Factor.Value.6.meta.groups.)\n",
    "table(metadata$Factor.Value.Blood.NonBlood.meta.groups.)\n",
    "table(metadata$Characteristics.OrganismPart.)"
   ]
  },
  {
   "cell_type": "code",
   "execution_count": null,
   "metadata": {},
   "outputs": [],
   "source": []
  }
 ],
 "metadata": {
  "kernelspec": {
   "display_name": "R",
   "language": "R",
   "name": "ir"
  },
  "language_info": {
   "codemirror_mode": "r",
   "file_extension": ".r",
   "mimetype": "text/x-r-source",
   "name": "R",
   "pygments_lexer": "r",
   "version": "3.6.1"
  }
 },
 "nbformat": 4,
 "nbformat_minor": 4
}
