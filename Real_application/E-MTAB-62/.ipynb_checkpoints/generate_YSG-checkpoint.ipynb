{
 "cells": [
  {
   "cell_type": "code",
   "execution_count": 1,
   "id": "ba9b316a",
   "metadata": {},
   "outputs": [],
   "source": [
    "tissue_used_list <- c('adipose','bone marrow',\n",
    "                     'colon','esophagus','kidney','lung','skin','muscle')\n",
    "files <- c('Adult-Adipose_protein_coding_integrated_rmbatch.rds',\n",
    "          'Adult-Bone-Marrow_protein_coding_integrated_rmbatch.rds',\n",
    "          'Adult-Colon_protein_coding_integrated_rmbatch.rds',\n",
    "          'Adult-Esophagus_protein_coding_integrated_rmbatch.rds',\n",
    "          'Adult-Kidney_protein_coding_integrated_rmbatch.rds',\n",
    "          'Adult-Lung_protein_coding_integrated_rmbatch.rds',\n",
    "          'Fetal-Skin_protein_coding_integrated_rmbatch.rds',\n",
    "          'Adult-Muscle_protein_coding_integrated_rmbatch.rds')"
   ]
  },
  {
   "cell_type": "code",
   "execution_count": null,
   "id": "2c7f5587",
   "metadata": {},
   "outputs": [],
   "source": []
  }
 ],
 "metadata": {
  "kernelspec": {
   "display_name": "R",
   "language": "R",
   "name": "ir"
  },
  "language_info": {
   "codemirror_mode": "r",
   "file_extension": ".r",
   "mimetype": "text/x-r-source",
   "name": "R",
   "pygments_lexer": "r",
   "version": "3.6.1"
  }
 },
 "nbformat": 4,
 "nbformat_minor": 5
}
