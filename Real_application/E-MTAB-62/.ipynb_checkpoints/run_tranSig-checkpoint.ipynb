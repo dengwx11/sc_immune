{
 "cells": [
  {
   "cell_type": "code",
   "execution_count": 5,
   "metadata": {},
   "outputs": [],
   "source": [
    "expr <- readRDS('/gpfs/loomis/pi/zhao2/wd262/shared_data/bulk/E-MTAB-62/expr_YSG.rds')\n",
    "metadata <- read.table('/gpfs/loomis/pi/zhao2/wd262/shared_data/bulk/E-MTAB-62/E-MTAB-62.sdrf.txt',\n",
    "                 sep='\\t',header=T)"
   ]
  },
  {
   "cell_type": "code",
   "execution_count": 4,
   "metadata": {
    "scrolled": true
   },
   "outputs": [],
   "source": [
    "setwd(\"~/zhao-data/sc_immune/sc_immune/\")\n",
    "source('SAME/run_same.v2.R')\n",
    "#source('Batch_Correction/platform_batch_correction_combat.R')"
   ]
  },
  {
   "cell_type": "code",
   "execution_count": null,
   "metadata": {},
   "outputs": [],
   "source": [
    "target_tissue <- 'PBMC'\n",
    "files = list.files(path = '/gpfs/ysm/home/bl666/HCL/Pseudo_Bulk',pattern = \"*_updated.rds\", full.names = TRUE)\n",
    "tissue_list <- c(\"BM\",\"CB\",\"Kidney\",\"Liver\",\"Lung\",\"PBMC\")\n",
    "celltype_used_list <- c(\"B\", \"Neutrophil\", \"NK cell\", \"T\")\n",
    "YSG <- readRDS(\"/gpfs/ysm/pi/zhao-data/wd262/sc_immune/sc_immune/data/NSCLC/sg.list.rds\")\n",
    "output_path = \"/gpfs/ysm/pi/zhao-data/wd262/sc_immune/write/pipeline_on_HCL\"\n",
    "mcmc_samples_theta1=5\n",
    "Y0 <- read.table(\"data/NSCLC/Fig2b-WholeBlood_RNAseq.txt\", row.names = 1, header = T, sep = \"\\t\")"
   ]
  }
 ],
 "metadata": {
  "kernelspec": {
   "display_name": "R",
   "language": "R",
   "name": "ir"
  }
 },
 "nbformat": 4,
 "nbformat_minor": 4
}
