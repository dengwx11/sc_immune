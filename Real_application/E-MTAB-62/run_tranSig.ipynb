{
 "cells": [
  {
   "cell_type": "code",
   "execution_count": 1,
   "metadata": {},
   "outputs": [],
   "source": [
    "expr <- readRDS('/gpfs/loomis/pi/zhao2/wd262/shared_data/bulk/E-MTAB-62/expr_YSG.rds')\n",
    "metadata <- read.table('/gpfs/loomis/pi/zhao2/wd262/shared_data/bulk/E-MTAB-62/E-MTAB-62.sdrf.txt',\n",
    "                 sep='\\t',header=T)"
   ]
  },
  {
   "cell_type": "code",
   "execution_count": 85,
   "metadata": {},
   "outputs": [],
   "source": [
    "metadata$Characteristics.CellType. <- as.character(metadata$Characteristics.CellType.)\n",
    "metadata<- metadata[metadata$Characteristics.CellType.!='  ',]"
   ]
  },
  {
   "cell_type": "code",
   "execution_count": 4,
   "metadata": {
    "scrolled": true
   },
   "outputs": [],
   "source": [
    "setwd(\"~/zhao-data/sc_immune/sc_immune/\")\n",
    "source('SAME/run_same.v2.R')\n",
    "source('Batch_Correction/platform_batch_correction_combat.R')"
   ]
  },
  {
   "cell_type": "code",
   "execution_count": 86,
   "metadata": {},
   "outputs": [
    {
     "name": "stderr",
     "output_type": "stream",
     "text": [
      "Warning message in file(file, \"rt\"):\n",
      "“cannot open file 'data/NSCLC/Fig2b-WholeBlood_RNAseq.txt': No such file or directory”\n"
     ]
    },
    {
     "ename": "ERROR",
     "evalue": "Error in file(file, \"rt\"): cannot open the connection\n",
     "output_type": "error",
     "traceback": [
      "Error in file(file, \"rt\"): cannot open the connection\nTraceback:\n",
      "1. read.table(\"data/NSCLC/Fig2b-WholeBlood_RNAseq.txt\", row.names = 1, \n .     header = T, sep = \"\\t\")",
      "2. file(file, \"rt\")"
     ]
    }
   ],
   "source": [
    "target_tissue <- 'PBMC'\n",
    "files = list.files(path = '/gpfs/ysm/home/bl666/HCL/Pseudo_Bulk',pattern = \"*_updated.rds\", full.names = TRUE)\n",
    "tissue_list <- c(\"BM\",\"CB\",\"Kidney\",\"Liver\",\"Lung\",\"PBMC\")\n",
    "celltype_used_list <- c(\"B\", \"Neutrophil\", \"NK cell\", \"T\")\n",
    "YSG <- readRDS(\"/gpfs/ysm/pi/zhao-data/wd262/sc_immune/sc_immune/data/NSCLC/sg.list.rds\")\n",
    "output_path = \"/gpfs/ysm/pi/zhao-data/wd262/sc_immune/write/pipeline_on_HCL\"\n",
    "mcmc_samples_theta1=5\n",
    "Y0 <- read.table(\"data/NSCLC/Fig2b-WholeBlood_RNAseq.txt\", row.names = 1, header = T, sep = \"\\t\")"
   ]
  },
  {
   "cell_type": "code",
   "execution_count": 148,
   "metadata": {},
   "outputs": [],
   "source": [
    "target_tissue <- 'Adult-Peripheral-Blood'\n",
    "file_tissue_list <-read.table('/gpfs/loomis/pi/zhao2/wd262/shared_data/bulk/E-MTAB-62/file_tissue_list.txt',header=T)\n",
    "files <- as.character(file_tissue_list$used_files)\n",
    "tissue_list <- as.character(file_tissue_list$used_tissue)\n",
    "celltype_used_list <- readRDS('/gpfs/loomis/pi/zhao2/wd262/shared_data/bulk/E-MTAB-62/celltype_used_lists.rds')[['Adult-Peripheral-Blood']]\n",
    "YSG <- readRDS(\"/gpfs/ysm/pi/zhao-data/wd262/sc_immune/sc_immune/data/NSCLC/sg.list.rds\")\n",
    "## output_path\n",
    "Y0 <- readRDS('/gpfs/loomis/pi/zhao2/wd262/shared_data/bulk/E-MTAB-62/Y0/blood.rds')"
   ]
  },
  {
   "cell_type": "code",
   "execution_count": 137,
   "metadata": {},
   "outputs": [
    {
     "data": {
      "text/html": [
       "<table>\n",
       "<caption>A data.frame: 24 × 2</caption>\n",
       "<thead>\n",
       "\t<tr><th scope=col>used_tissue</th><th scope=col>used_files</th></tr>\n",
       "\t<tr><th scope=col>&lt;fct&gt;</th><th scope=col>&lt;fct&gt;</th></tr>\n",
       "</thead>\n",
       "<tbody>\n",
       "\t<tr><td>Adult-Adipose         </td><td>/gpfs/loomis/pi/zhao2/wd262/shared_data/HCL/seurat_object/integrate_seurat_obj/protein_coding_new_celltype/Adult-Adipose_protein_coding_integrated_rmbatch.rds         </td></tr>\n",
       "\t<tr><td>Adult-Adrenal-Gland   </td><td>/gpfs/loomis/pi/zhao2/wd262/shared_data/HCL/seurat_object/integrate_seurat_obj/protein_coding_new_celltype/Adult-Adrenal-Gland_protein_coding_integrated_rmbatch.rds   </td></tr>\n",
       "\t<tr><td>Adult-Artery          </td><td>/gpfs/loomis/pi/zhao2/wd262/shared_data/HCL/seurat_object/integrate_seurat_obj/protein_coding_new_celltype/Adult-Artery_protein_coding_integrated_rmbatch.rds          </td></tr>\n",
       "\t<tr><td>Adult-Bladder         </td><td>/gpfs/loomis/pi/zhao2/wd262/shared_data/HCL/seurat_object/integrate_seurat_obj/protein_coding_new_celltype/Adult-Bladder_protein_coding_integrated_rmbatch.rds         </td></tr>\n",
       "\t<tr><td>Adult-Bone-Marrow     </td><td>/gpfs/loomis/pi/zhao2/wd262/shared_data/HCL/seurat_object/integrate_seurat_obj/protein_coding_new_celltype/Adult-Bone-Marrow_protein_coding_integrated_rmbatch.rds     </td></tr>\n",
       "\t<tr><td>Adult-Cerebellum      </td><td>/gpfs/loomis/pi/zhao2/wd262/shared_data/HCL/seurat_object/integrate_seurat_obj/protein_coding_new_celltype/Adult-Cerebellum_protein_coding_integrated_rmbatch.rds      </td></tr>\n",
       "\t<tr><td>Adult-Colon           </td><td>/gpfs/loomis/pi/zhao2/wd262/shared_data/HCL/seurat_object/integrate_seurat_obj/protein_coding_new_celltype/Adult-Colon_protein_coding_integrated_rmbatch.rds           </td></tr>\n",
       "\t<tr><td>Adult-Esophagus       </td><td>/gpfs/loomis/pi/zhao2/wd262/shared_data/HCL/seurat_object/integrate_seurat_obj/protein_coding_new_celltype/Adult-Esophagus_protein_coding_integrated_rmbatch.rds       </td></tr>\n",
       "\t<tr><td>Adult-Heart           </td><td>/gpfs/loomis/pi/zhao2/wd262/shared_data/HCL/seurat_object/integrate_seurat_obj/protein_coding_new_celltype/Adult-Heart_protein_coding_integrated_rmbatch.rds           </td></tr>\n",
       "\t<tr><td>Adult-Ileum           </td><td>/gpfs/loomis/pi/zhao2/wd262/shared_data/HCL/seurat_object/integrate_seurat_obj/protein_coding_new_celltype/Adult-Ileum_protein_coding_integrated_rmbatch.rds           </td></tr>\n",
       "\t<tr><td>Adult-Kidney          </td><td>/gpfs/loomis/pi/zhao2/wd262/shared_data/HCL/seurat_object/integrate_seurat_obj/protein_coding_new_celltype/Adult-Kidney_protein_coding_integrated_rmbatch.rds          </td></tr>\n",
       "\t<tr><td>Adult-Lung            </td><td>/gpfs/loomis/pi/zhao2/wd262/shared_data/HCL/seurat_object/integrate_seurat_obj/protein_coding_new_celltype/Adult-Lung_protein_coding_integrated_rmbatch.rds            </td></tr>\n",
       "\t<tr><td>Adult-Muscle          </td><td>/gpfs/loomis/pi/zhao2/wd262/shared_data/HCL/seurat_object/integrate_seurat_obj/protein_coding_new_celltype/Adult-Muscle_protein_coding_integrated_rmbatch.rds          </td></tr>\n",
       "\t<tr><td>Adult-Pancreas        </td><td>/gpfs/loomis/pi/zhao2/wd262/shared_data/HCL/seurat_object/integrate_seurat_obj/protein_coding_new_celltype/Adult-Pancreas_protein_coding_integrated_rmbatch.rds        </td></tr>\n",
       "\t<tr><td>Adult-Peripheral-Blood</td><td>/gpfs/loomis/pi/zhao2/wd262/shared_data/HCL/seurat_object/integrate_seurat_obj/protein_coding_new_celltype/Adult-Peripheral-Blood_protein_coding_integrated_rmbatch.rds</td></tr>\n",
       "\t<tr><td>Adult-Prostate        </td><td>/gpfs/loomis/pi/zhao2/wd262/shared_data/HCL/seurat_object/integrate_seurat_obj/protein_coding_new_celltype/Adult-Prostate_protein_coding_integrated_rmbatch.rds        </td></tr>\n",
       "\t<tr><td>Adult-Spleen          </td><td>/gpfs/loomis/pi/zhao2/wd262/shared_data/HCL/seurat_object/integrate_seurat_obj/protein_coding_new_celltype/Adult-Spleen_protein_coding_integrated_rmbatch.rds          </td></tr>\n",
       "\t<tr><td>Adult-Stomach         </td><td>/gpfs/loomis/pi/zhao2/wd262/shared_data/HCL/seurat_object/integrate_seurat_obj/protein_coding_new_celltype/Adult-Stomach_protein_coding_integrated_rmbatch.rds         </td></tr>\n",
       "\t<tr><td>Adult-Thyroid         </td><td>/gpfs/loomis/pi/zhao2/wd262/shared_data/HCL/seurat_object/integrate_seurat_obj/protein_coding_new_celltype/Adult-Thyroid_protein_coding_integrated_rmbatch.rds         </td></tr>\n",
       "\t<tr><td>Adult-Uterus          </td><td>/gpfs/loomis/pi/zhao2/wd262/shared_data/HCL/seurat_object/integrate_seurat_obj/protein_coding_new_celltype/Adult-Uterus_protein_coding_integrated_rmbatch.rds          </td></tr>\n",
       "\t<tr><td>Cord-Blood-CD34P      </td><td>/gpfs/loomis/pi/zhao2/wd262/shared_data/HCL/seurat_object/integrate_seurat_obj/protein_coding_new_celltype/Cord-Blood-CD34P_protein_coding_integrated_rmbatch.rds      </td></tr>\n",
       "\t<tr><td>Fetal-Brain           </td><td>/gpfs/loomis/pi/zhao2/wd262/shared_data/HCL/seurat_object/integrate_seurat_obj/protein_coding_new_celltype/Fetal-Brain_protein_coding_integrated_rmbatch.rds           </td></tr>\n",
       "\t<tr><td>Fetal-Intestine       </td><td>/gpfs/loomis/pi/zhao2/wd262/shared_data/HCL/seurat_object/integrate_seurat_obj/protein_coding_new_celltype/Fetal-Intestine_protein_coding_integrated_rmbatch.rds       </td></tr>\n",
       "\t<tr><td>Fetal-Skin            </td><td>/gpfs/loomis/pi/zhao2/wd262/shared_data/HCL/seurat_object/integrate_seurat_obj/protein_coding_new_celltype/Fetal-Skin_protein_coding_integrated_rmbatch.rds            </td></tr>\n",
       "</tbody>\n",
       "</table>\n"
      ],
      "text/latex": [
       "A data.frame: 24 × 2\n",
       "\\begin{tabular}{ll}\n",
       " used\\_tissue & used\\_files\\\\\n",
       " <fct> & <fct>\\\\\n",
       "\\hline\n",
       "\t Adult-Adipose          & /gpfs/loomis/pi/zhao2/wd262/shared\\_data/HCL/seurat\\_object/integrate\\_seurat\\_obj/protein\\_coding\\_new\\_celltype/Adult-Adipose\\_protein\\_coding\\_integrated\\_rmbatch.rds         \\\\\n",
       "\t Adult-Adrenal-Gland    & /gpfs/loomis/pi/zhao2/wd262/shared\\_data/HCL/seurat\\_object/integrate\\_seurat\\_obj/protein\\_coding\\_new\\_celltype/Adult-Adrenal-Gland\\_protein\\_coding\\_integrated\\_rmbatch.rds   \\\\\n",
       "\t Adult-Artery           & /gpfs/loomis/pi/zhao2/wd262/shared\\_data/HCL/seurat\\_object/integrate\\_seurat\\_obj/protein\\_coding\\_new\\_celltype/Adult-Artery\\_protein\\_coding\\_integrated\\_rmbatch.rds          \\\\\n",
       "\t Adult-Bladder          & /gpfs/loomis/pi/zhao2/wd262/shared\\_data/HCL/seurat\\_object/integrate\\_seurat\\_obj/protein\\_coding\\_new\\_celltype/Adult-Bladder\\_protein\\_coding\\_integrated\\_rmbatch.rds         \\\\\n",
       "\t Adult-Bone-Marrow      & /gpfs/loomis/pi/zhao2/wd262/shared\\_data/HCL/seurat\\_object/integrate\\_seurat\\_obj/protein\\_coding\\_new\\_celltype/Adult-Bone-Marrow\\_protein\\_coding\\_integrated\\_rmbatch.rds     \\\\\n",
       "\t Adult-Cerebellum       & /gpfs/loomis/pi/zhao2/wd262/shared\\_data/HCL/seurat\\_object/integrate\\_seurat\\_obj/protein\\_coding\\_new\\_celltype/Adult-Cerebellum\\_protein\\_coding\\_integrated\\_rmbatch.rds      \\\\\n",
       "\t Adult-Colon            & /gpfs/loomis/pi/zhao2/wd262/shared\\_data/HCL/seurat\\_object/integrate\\_seurat\\_obj/protein\\_coding\\_new\\_celltype/Adult-Colon\\_protein\\_coding\\_integrated\\_rmbatch.rds           \\\\\n",
       "\t Adult-Esophagus        & /gpfs/loomis/pi/zhao2/wd262/shared\\_data/HCL/seurat\\_object/integrate\\_seurat\\_obj/protein\\_coding\\_new\\_celltype/Adult-Esophagus\\_protein\\_coding\\_integrated\\_rmbatch.rds       \\\\\n",
       "\t Adult-Heart            & /gpfs/loomis/pi/zhao2/wd262/shared\\_data/HCL/seurat\\_object/integrate\\_seurat\\_obj/protein\\_coding\\_new\\_celltype/Adult-Heart\\_protein\\_coding\\_integrated\\_rmbatch.rds           \\\\\n",
       "\t Adult-Ileum            & /gpfs/loomis/pi/zhao2/wd262/shared\\_data/HCL/seurat\\_object/integrate\\_seurat\\_obj/protein\\_coding\\_new\\_celltype/Adult-Ileum\\_protein\\_coding\\_integrated\\_rmbatch.rds           \\\\\n",
       "\t Adult-Kidney           & /gpfs/loomis/pi/zhao2/wd262/shared\\_data/HCL/seurat\\_object/integrate\\_seurat\\_obj/protein\\_coding\\_new\\_celltype/Adult-Kidney\\_protein\\_coding\\_integrated\\_rmbatch.rds          \\\\\n",
       "\t Adult-Lung             & /gpfs/loomis/pi/zhao2/wd262/shared\\_data/HCL/seurat\\_object/integrate\\_seurat\\_obj/protein\\_coding\\_new\\_celltype/Adult-Lung\\_protein\\_coding\\_integrated\\_rmbatch.rds            \\\\\n",
       "\t Adult-Muscle           & /gpfs/loomis/pi/zhao2/wd262/shared\\_data/HCL/seurat\\_object/integrate\\_seurat\\_obj/protein\\_coding\\_new\\_celltype/Adult-Muscle\\_protein\\_coding\\_integrated\\_rmbatch.rds          \\\\\n",
       "\t Adult-Pancreas         & /gpfs/loomis/pi/zhao2/wd262/shared\\_data/HCL/seurat\\_object/integrate\\_seurat\\_obj/protein\\_coding\\_new\\_celltype/Adult-Pancreas\\_protein\\_coding\\_integrated\\_rmbatch.rds        \\\\\n",
       "\t Adult-Peripheral-Blood & /gpfs/loomis/pi/zhao2/wd262/shared\\_data/HCL/seurat\\_object/integrate\\_seurat\\_obj/protein\\_coding\\_new\\_celltype/Adult-Peripheral-Blood\\_protein\\_coding\\_integrated\\_rmbatch.rds\\\\\n",
       "\t Adult-Prostate         & /gpfs/loomis/pi/zhao2/wd262/shared\\_data/HCL/seurat\\_object/integrate\\_seurat\\_obj/protein\\_coding\\_new\\_celltype/Adult-Prostate\\_protein\\_coding\\_integrated\\_rmbatch.rds        \\\\\n",
       "\t Adult-Spleen           & /gpfs/loomis/pi/zhao2/wd262/shared\\_data/HCL/seurat\\_object/integrate\\_seurat\\_obj/protein\\_coding\\_new\\_celltype/Adult-Spleen\\_protein\\_coding\\_integrated\\_rmbatch.rds          \\\\\n",
       "\t Adult-Stomach          & /gpfs/loomis/pi/zhao2/wd262/shared\\_data/HCL/seurat\\_object/integrate\\_seurat\\_obj/protein\\_coding\\_new\\_celltype/Adult-Stomach\\_protein\\_coding\\_integrated\\_rmbatch.rds         \\\\\n",
       "\t Adult-Thyroid          & /gpfs/loomis/pi/zhao2/wd262/shared\\_data/HCL/seurat\\_object/integrate\\_seurat\\_obj/protein\\_coding\\_new\\_celltype/Adult-Thyroid\\_protein\\_coding\\_integrated\\_rmbatch.rds         \\\\\n",
       "\t Adult-Uterus           & /gpfs/loomis/pi/zhao2/wd262/shared\\_data/HCL/seurat\\_object/integrate\\_seurat\\_obj/protein\\_coding\\_new\\_celltype/Adult-Uterus\\_protein\\_coding\\_integrated\\_rmbatch.rds          \\\\\n",
       "\t Cord-Blood-CD34P       & /gpfs/loomis/pi/zhao2/wd262/shared\\_data/HCL/seurat\\_object/integrate\\_seurat\\_obj/protein\\_coding\\_new\\_celltype/Cord-Blood-CD34P\\_protein\\_coding\\_integrated\\_rmbatch.rds      \\\\\n",
       "\t Fetal-Brain            & /gpfs/loomis/pi/zhao2/wd262/shared\\_data/HCL/seurat\\_object/integrate\\_seurat\\_obj/protein\\_coding\\_new\\_celltype/Fetal-Brain\\_protein\\_coding\\_integrated\\_rmbatch.rds           \\\\\n",
       "\t Fetal-Intestine        & /gpfs/loomis/pi/zhao2/wd262/shared\\_data/HCL/seurat\\_object/integrate\\_seurat\\_obj/protein\\_coding\\_new\\_celltype/Fetal-Intestine\\_protein\\_coding\\_integrated\\_rmbatch.rds       \\\\\n",
       "\t Fetal-Skin             & /gpfs/loomis/pi/zhao2/wd262/shared\\_data/HCL/seurat\\_object/integrate\\_seurat\\_obj/protein\\_coding\\_new\\_celltype/Fetal-Skin\\_protein\\_coding\\_integrated\\_rmbatch.rds            \\\\\n",
       "\\end{tabular}\n"
      ],
      "text/markdown": [
       "\n",
       "A data.frame: 24 × 2\n",
       "\n",
       "| used_tissue &lt;fct&gt; | used_files &lt;fct&gt; |\n",
       "|---|---|\n",
       "| Adult-Adipose          | /gpfs/loomis/pi/zhao2/wd262/shared_data/HCL/seurat_object/integrate_seurat_obj/protein_coding_new_celltype/Adult-Adipose_protein_coding_integrated_rmbatch.rds          |\n",
       "| Adult-Adrenal-Gland    | /gpfs/loomis/pi/zhao2/wd262/shared_data/HCL/seurat_object/integrate_seurat_obj/protein_coding_new_celltype/Adult-Adrenal-Gland_protein_coding_integrated_rmbatch.rds    |\n",
       "| Adult-Artery           | /gpfs/loomis/pi/zhao2/wd262/shared_data/HCL/seurat_object/integrate_seurat_obj/protein_coding_new_celltype/Adult-Artery_protein_coding_integrated_rmbatch.rds           |\n",
       "| Adult-Bladder          | /gpfs/loomis/pi/zhao2/wd262/shared_data/HCL/seurat_object/integrate_seurat_obj/protein_coding_new_celltype/Adult-Bladder_protein_coding_integrated_rmbatch.rds          |\n",
       "| Adult-Bone-Marrow      | /gpfs/loomis/pi/zhao2/wd262/shared_data/HCL/seurat_object/integrate_seurat_obj/protein_coding_new_celltype/Adult-Bone-Marrow_protein_coding_integrated_rmbatch.rds      |\n",
       "| Adult-Cerebellum       | /gpfs/loomis/pi/zhao2/wd262/shared_data/HCL/seurat_object/integrate_seurat_obj/protein_coding_new_celltype/Adult-Cerebellum_protein_coding_integrated_rmbatch.rds       |\n",
       "| Adult-Colon            | /gpfs/loomis/pi/zhao2/wd262/shared_data/HCL/seurat_object/integrate_seurat_obj/protein_coding_new_celltype/Adult-Colon_protein_coding_integrated_rmbatch.rds            |\n",
       "| Adult-Esophagus        | /gpfs/loomis/pi/zhao2/wd262/shared_data/HCL/seurat_object/integrate_seurat_obj/protein_coding_new_celltype/Adult-Esophagus_protein_coding_integrated_rmbatch.rds        |\n",
       "| Adult-Heart            | /gpfs/loomis/pi/zhao2/wd262/shared_data/HCL/seurat_object/integrate_seurat_obj/protein_coding_new_celltype/Adult-Heart_protein_coding_integrated_rmbatch.rds            |\n",
       "| Adult-Ileum            | /gpfs/loomis/pi/zhao2/wd262/shared_data/HCL/seurat_object/integrate_seurat_obj/protein_coding_new_celltype/Adult-Ileum_protein_coding_integrated_rmbatch.rds            |\n",
       "| Adult-Kidney           | /gpfs/loomis/pi/zhao2/wd262/shared_data/HCL/seurat_object/integrate_seurat_obj/protein_coding_new_celltype/Adult-Kidney_protein_coding_integrated_rmbatch.rds           |\n",
       "| Adult-Lung             | /gpfs/loomis/pi/zhao2/wd262/shared_data/HCL/seurat_object/integrate_seurat_obj/protein_coding_new_celltype/Adult-Lung_protein_coding_integrated_rmbatch.rds             |\n",
       "| Adult-Muscle           | /gpfs/loomis/pi/zhao2/wd262/shared_data/HCL/seurat_object/integrate_seurat_obj/protein_coding_new_celltype/Adult-Muscle_protein_coding_integrated_rmbatch.rds           |\n",
       "| Adult-Pancreas         | /gpfs/loomis/pi/zhao2/wd262/shared_data/HCL/seurat_object/integrate_seurat_obj/protein_coding_new_celltype/Adult-Pancreas_protein_coding_integrated_rmbatch.rds         |\n",
       "| Adult-Peripheral-Blood | /gpfs/loomis/pi/zhao2/wd262/shared_data/HCL/seurat_object/integrate_seurat_obj/protein_coding_new_celltype/Adult-Peripheral-Blood_protein_coding_integrated_rmbatch.rds |\n",
       "| Adult-Prostate         | /gpfs/loomis/pi/zhao2/wd262/shared_data/HCL/seurat_object/integrate_seurat_obj/protein_coding_new_celltype/Adult-Prostate_protein_coding_integrated_rmbatch.rds         |\n",
       "| Adult-Spleen           | /gpfs/loomis/pi/zhao2/wd262/shared_data/HCL/seurat_object/integrate_seurat_obj/protein_coding_new_celltype/Adult-Spleen_protein_coding_integrated_rmbatch.rds           |\n",
       "| Adult-Stomach          | /gpfs/loomis/pi/zhao2/wd262/shared_data/HCL/seurat_object/integrate_seurat_obj/protein_coding_new_celltype/Adult-Stomach_protein_coding_integrated_rmbatch.rds          |\n",
       "| Adult-Thyroid          | /gpfs/loomis/pi/zhao2/wd262/shared_data/HCL/seurat_object/integrate_seurat_obj/protein_coding_new_celltype/Adult-Thyroid_protein_coding_integrated_rmbatch.rds          |\n",
       "| Adult-Uterus           | /gpfs/loomis/pi/zhao2/wd262/shared_data/HCL/seurat_object/integrate_seurat_obj/protein_coding_new_celltype/Adult-Uterus_protein_coding_integrated_rmbatch.rds           |\n",
       "| Cord-Blood-CD34P       | /gpfs/loomis/pi/zhao2/wd262/shared_data/HCL/seurat_object/integrate_seurat_obj/protein_coding_new_celltype/Cord-Blood-CD34P_protein_coding_integrated_rmbatch.rds       |\n",
       "| Fetal-Brain            | /gpfs/loomis/pi/zhao2/wd262/shared_data/HCL/seurat_object/integrate_seurat_obj/protein_coding_new_celltype/Fetal-Brain_protein_coding_integrated_rmbatch.rds            |\n",
       "| Fetal-Intestine        | /gpfs/loomis/pi/zhao2/wd262/shared_data/HCL/seurat_object/integrate_seurat_obj/protein_coding_new_celltype/Fetal-Intestine_protein_coding_integrated_rmbatch.rds        |\n",
       "| Fetal-Skin             | /gpfs/loomis/pi/zhao2/wd262/shared_data/HCL/seurat_object/integrate_seurat_obj/protein_coding_new_celltype/Fetal-Skin_protein_coding_integrated_rmbatch.rds             |\n",
       "\n"
      ],
      "text/plain": [
       "   used_tissue           \n",
       "1  Adult-Adipose         \n",
       "2  Adult-Adrenal-Gland   \n",
       "3  Adult-Artery          \n",
       "4  Adult-Bladder         \n",
       "5  Adult-Bone-Marrow     \n",
       "6  Adult-Cerebellum      \n",
       "7  Adult-Colon           \n",
       "8  Adult-Esophagus       \n",
       "9  Adult-Heart           \n",
       "10 Adult-Ileum           \n",
       "11 Adult-Kidney          \n",
       "12 Adult-Lung            \n",
       "13 Adult-Muscle          \n",
       "14 Adult-Pancreas        \n",
       "15 Adult-Peripheral-Blood\n",
       "16 Adult-Prostate        \n",
       "17 Adult-Spleen          \n",
       "18 Adult-Stomach         \n",
       "19 Adult-Thyroid         \n",
       "20 Adult-Uterus          \n",
       "21 Cord-Blood-CD34P      \n",
       "22 Fetal-Brain           \n",
       "23 Fetal-Intestine       \n",
       "24 Fetal-Skin            \n",
       "   used_files                                                                                                                                                             \n",
       "1  /gpfs/loomis/pi/zhao2/wd262/shared_data/HCL/seurat_object/integrate_seurat_obj/protein_coding_new_celltype/Adult-Adipose_protein_coding_integrated_rmbatch.rds         \n",
       "2  /gpfs/loomis/pi/zhao2/wd262/shared_data/HCL/seurat_object/integrate_seurat_obj/protein_coding_new_celltype/Adult-Adrenal-Gland_protein_coding_integrated_rmbatch.rds   \n",
       "3  /gpfs/loomis/pi/zhao2/wd262/shared_data/HCL/seurat_object/integrate_seurat_obj/protein_coding_new_celltype/Adult-Artery_protein_coding_integrated_rmbatch.rds          \n",
       "4  /gpfs/loomis/pi/zhao2/wd262/shared_data/HCL/seurat_object/integrate_seurat_obj/protein_coding_new_celltype/Adult-Bladder_protein_coding_integrated_rmbatch.rds         \n",
       "5  /gpfs/loomis/pi/zhao2/wd262/shared_data/HCL/seurat_object/integrate_seurat_obj/protein_coding_new_celltype/Adult-Bone-Marrow_protein_coding_integrated_rmbatch.rds     \n",
       "6  /gpfs/loomis/pi/zhao2/wd262/shared_data/HCL/seurat_object/integrate_seurat_obj/protein_coding_new_celltype/Adult-Cerebellum_protein_coding_integrated_rmbatch.rds      \n",
       "7  /gpfs/loomis/pi/zhao2/wd262/shared_data/HCL/seurat_object/integrate_seurat_obj/protein_coding_new_celltype/Adult-Colon_protein_coding_integrated_rmbatch.rds           \n",
       "8  /gpfs/loomis/pi/zhao2/wd262/shared_data/HCL/seurat_object/integrate_seurat_obj/protein_coding_new_celltype/Adult-Esophagus_protein_coding_integrated_rmbatch.rds       \n",
       "9  /gpfs/loomis/pi/zhao2/wd262/shared_data/HCL/seurat_object/integrate_seurat_obj/protein_coding_new_celltype/Adult-Heart_protein_coding_integrated_rmbatch.rds           \n",
       "10 /gpfs/loomis/pi/zhao2/wd262/shared_data/HCL/seurat_object/integrate_seurat_obj/protein_coding_new_celltype/Adult-Ileum_protein_coding_integrated_rmbatch.rds           \n",
       "11 /gpfs/loomis/pi/zhao2/wd262/shared_data/HCL/seurat_object/integrate_seurat_obj/protein_coding_new_celltype/Adult-Kidney_protein_coding_integrated_rmbatch.rds          \n",
       "12 /gpfs/loomis/pi/zhao2/wd262/shared_data/HCL/seurat_object/integrate_seurat_obj/protein_coding_new_celltype/Adult-Lung_protein_coding_integrated_rmbatch.rds            \n",
       "13 /gpfs/loomis/pi/zhao2/wd262/shared_data/HCL/seurat_object/integrate_seurat_obj/protein_coding_new_celltype/Adult-Muscle_protein_coding_integrated_rmbatch.rds          \n",
       "14 /gpfs/loomis/pi/zhao2/wd262/shared_data/HCL/seurat_object/integrate_seurat_obj/protein_coding_new_celltype/Adult-Pancreas_protein_coding_integrated_rmbatch.rds        \n",
       "15 /gpfs/loomis/pi/zhao2/wd262/shared_data/HCL/seurat_object/integrate_seurat_obj/protein_coding_new_celltype/Adult-Peripheral-Blood_protein_coding_integrated_rmbatch.rds\n",
       "16 /gpfs/loomis/pi/zhao2/wd262/shared_data/HCL/seurat_object/integrate_seurat_obj/protein_coding_new_celltype/Adult-Prostate_protein_coding_integrated_rmbatch.rds        \n",
       "17 /gpfs/loomis/pi/zhao2/wd262/shared_data/HCL/seurat_object/integrate_seurat_obj/protein_coding_new_celltype/Adult-Spleen_protein_coding_integrated_rmbatch.rds          \n",
       "18 /gpfs/loomis/pi/zhao2/wd262/shared_data/HCL/seurat_object/integrate_seurat_obj/protein_coding_new_celltype/Adult-Stomach_protein_coding_integrated_rmbatch.rds         \n",
       "19 /gpfs/loomis/pi/zhao2/wd262/shared_data/HCL/seurat_object/integrate_seurat_obj/protein_coding_new_celltype/Adult-Thyroid_protein_coding_integrated_rmbatch.rds         \n",
       "20 /gpfs/loomis/pi/zhao2/wd262/shared_data/HCL/seurat_object/integrate_seurat_obj/protein_coding_new_celltype/Adult-Uterus_protein_coding_integrated_rmbatch.rds          \n",
       "21 /gpfs/loomis/pi/zhao2/wd262/shared_data/HCL/seurat_object/integrate_seurat_obj/protein_coding_new_celltype/Cord-Blood-CD34P_protein_coding_integrated_rmbatch.rds      \n",
       "22 /gpfs/loomis/pi/zhao2/wd262/shared_data/HCL/seurat_object/integrate_seurat_obj/protein_coding_new_celltype/Fetal-Brain_protein_coding_integrated_rmbatch.rds           \n",
       "23 /gpfs/loomis/pi/zhao2/wd262/shared_data/HCL/seurat_object/integrate_seurat_obj/protein_coding_new_celltype/Fetal-Intestine_protein_coding_integrated_rmbatch.rds       \n",
       "24 /gpfs/loomis/pi/zhao2/wd262/shared_data/HCL/seurat_object/integrate_seurat_obj/protein_coding_new_celltype/Fetal-Skin_protein_coding_integrated_rmbatch.rds            "
      ]
     },
     "metadata": {},
     "output_type": "display_data"
    }
   ],
   "source": [
    "file_tissue_list"
   ]
  },
  {
   "cell_type": "code",
   "execution_count": 87,
   "metadata": {},
   "outputs": [],
   "source": [
    "tissue_used_list <- c('adipose','blood','bone marrow',\n",
    "                     'colon','esophagus','kidney','lung','skin','muscle')"
   ]
  },
  {
   "cell_type": "code",
   "execution_count": 88,
   "metadata": {},
   "outputs": [],
   "source": [
    "tissue_used_list_names <- lapply(tissue_used_list, function(x) as.character(unique(metadata$Characteristics.OrganismPart.)[grep(x,unique(metadata$Characteristics.OrganismPart.))]))\n",
    "names(tissue_used_list_names) <- tissue_used_list                                 "
   ]
  },
  {
   "cell_type": "code",
   "execution_count": 116,
   "metadata": {},
   "outputs": [
    {
     "data": {
      "text/html": [
       "<style>\n",
       ".list-inline {list-style: none; margin:0; padding: 0}\n",
       ".list-inline>li {display: inline-block}\n",
       ".list-inline>li:not(:last-child)::after {content: \"\\00b7\"; padding: 0 .5ex}\n",
       "</style>\n",
       "<ol class=list-inline><li>'adipose tissue from abdomen'</li><li>'blood'</li><li>'bone marrow'</li><li>'colon'</li><li>'esophagus'</li><li>'kidney'</li><li>'lung'</li><li>'lung transplant'</li><li>'skin'</li><li>'skin (leg)'</li><li>'skin (arm)'</li><li>'muscle'</li><li>'skeletal muscle'</li><li>'smooth muscle'</li></ol>\n"
      ],
      "text/latex": [
       "\\begin{enumerate*}\n",
       "\\item 'adipose tissue from abdomen'\n",
       "\\item 'blood'\n",
       "\\item 'bone marrow'\n",
       "\\item 'colon'\n",
       "\\item 'esophagus'\n",
       "\\item 'kidney'\n",
       "\\item 'lung'\n",
       "\\item 'lung transplant'\n",
       "\\item 'skin'\n",
       "\\item 'skin (leg)'\n",
       "\\item 'skin (arm)'\n",
       "\\item 'muscle'\n",
       "\\item 'skeletal muscle'\n",
       "\\item 'smooth muscle'\n",
       "\\end{enumerate*}\n"
      ],
      "text/markdown": [
       "1. 'adipose tissue from abdomen'\n",
       "2. 'blood'\n",
       "3. 'bone marrow'\n",
       "4. 'colon'\n",
       "5. 'esophagus'\n",
       "6. 'kidney'\n",
       "7. 'lung'\n",
       "8. 'lung transplant'\n",
       "9. 'skin'\n",
       "10. 'skin (leg)'\n",
       "11. 'skin (arm)'\n",
       "12. 'muscle'\n",
       "13. 'skeletal muscle'\n",
       "14. 'smooth muscle'\n",
       "\n",
       "\n"
      ],
      "text/plain": [
       " [1] \"adipose tissue from abdomen\" \"blood\"                      \n",
       " [3] \"bone marrow\"                 \"colon\"                      \n",
       " [5] \"esophagus\"                   \"kidney\"                     \n",
       " [7] \"lung\"                        \"lung transplant\"            \n",
       " [9] \"skin\"                        \"skin (leg)\"                 \n",
       "[11] \"skin (arm)\"                  \"muscle\"                     \n",
       "[13] \"skeletal muscle\"             \"smooth muscle\"              "
      ]
     },
     "metadata": {},
     "output_type": "display_data"
    }
   ],
   "source": [
    "tissue_used_list_names"
   ]
  },
  {
   "cell_type": "code",
   "execution_count": 90,
   "metadata": {},
   "outputs": [],
   "source": [
    "tissue_used_list_names[['adipose']] <- 'adipose tissue from abdomen'\n",
    "tissue_used_list_names[['blood']] <- 'blood'"
   ]
  },
  {
   "cell_type": "code",
   "execution_count": 91,
   "metadata": {},
   "outputs": [],
   "source": [
    "tissue_used_list_names <- Reduce(c,tissue_used_list_names)"
   ]
  },
  {
   "cell_type": "code",
   "execution_count": 92,
   "metadata": {},
   "outputs": [],
   "source": [
    "metadata <- metadata[metadata$Characteristics.OrganismPart. %in% tissue_used_list_names,]"
   ]
  },
  {
   "cell_type": "code",
   "execution_count": 103,
   "metadata": {},
   "outputs": [],
   "source": [
    "metadata$Labeled.Extract.Name<- as.character(metadata$Labeled.Extract.Name)\n",
    "metadata$Array.Data.File <- as.character(metadata$Array.Data.File)\n",
    "metadata$Source.Name <- as.character(metadata$Source.Name)"
   ]
  },
  {
   "cell_type": "code",
   "execution_count": 113,
   "metadata": {},
   "outputs": [],
   "source": [
    "saveRDS(metadata,'/gpfs/loomis/pi/zhao2/wd262/shared_data/bulk/E-MTAB-62/metadata_tranSig.rds')"
   ]
  },
  {
   "cell_type": "code",
   "execution_count": null,
   "metadata": {},
   "outputs": [],
   "source": [
    "metadata$Array.Data.File2 <- sapply(metadata$Array.Data.File, function(x) substr(x,1,))"
   ]
  },
  {
   "cell_type": "code",
   "execution_count": 108,
   "metadata": {},
   "outputs": [],
   "source": [
    "new_rn <- sapply(rownames(expr),function(x) {\n",
    "    if(substr(x,1,1)=='X') x<-substr(x,2,nchar(x))\n",
    "    return(x)\n",
    "})\n",
    "names(new_rn) <- NULL"
   ]
  },
  {
   "cell_type": "code",
   "execution_count": 110,
   "metadata": {},
   "outputs": [],
   "source": [
    "rownames(expr) <- new_rn"
   ]
  },
  {
   "cell_type": "code",
   "execution_count": 111,
   "metadata": {},
   "outputs": [],
   "source": [
    "expr <- expr[new_rn %in% metadata$Source.Name,]"
   ]
  },
  {
   "cell_type": "code",
   "execution_count": 112,
   "metadata": {},
   "outputs": [
    {
     "data": {
      "text/html": [
       "<style>\n",
       ".list-inline {list-style: none; margin:0; padding: 0}\n",
       ".list-inline>li {display: inline-block}\n",
       ".list-inline>li:not(:last-child)::after {content: \"\\00b7\"; padding: 0 .5ex}\n",
       "</style>\n",
       "<ol class=list-inline><li>1749</li><li>1031</li></ol>\n"
      ],
      "text/latex": [
       "\\begin{enumerate*}\n",
       "\\item 1749\n",
       "\\item 1031\n",
       "\\end{enumerate*}\n"
      ],
      "text/markdown": [
       "1. 1749\n",
       "2. 1031\n",
       "\n",
       "\n"
      ],
      "text/plain": [
       "[1] 1749 1031"
      ]
     },
     "metadata": {},
     "output_type": "display_data"
    }
   ],
   "source": [
    "dim(expr)"
   ]
  },
  {
   "cell_type": "code",
   "execution_count": 120,
   "metadata": {},
   "outputs": [
    {
     "name": "stdout",
     "output_type": "stream",
     "text": [
      "'data.frame':\t1749 obs. of  34 variables:\n",
      " $ Source.Name                                           : chr  \"GSM106206.CEL\" \"GSM106189.CEL\" \"GSM106226.CEL\" \"GSM106220.CEL\" ...\n",
      " $ Characteristics.OperatorVariation.                    : Factor w/ 163 levels \"Adrian,P.,Bracken\",..: 131 131 131 131 131 131 131 131 131 131 ...\n",
      " $ Characteristics.DataSource.                           : Factor w/ 206 levels \"E-AFMX-6\",\"E-LGCL-5\",..: 150 150 150 150 150 150 150 150 150 150 ...\n",
      " $ Characteristics.4.meta.groups.                        : Factor w/ 4 levels \"cell line\",\"disease\",..: 3 3 3 3 3 3 3 3 3 3 ...\n",
      " $ Characteristics.15.meta.groups.                       : Factor w/ 15 levels \"blood neoplasm cell line\",..: 5 5 5 5 5 5 5 5 5 5 ...\n",
      " $ Characteristics.369.groups.                           : Factor w/ 369 levels \"293t-tva\",\"600MPE breast cancer\",..: 7 7 7 7 7 7 7 7 7 7 ...\n",
      " $ Characteristics.groups.with.10.and.more.replicates.   : Factor w/ 97 levels \"  \",\"A549 lung adenocarcinoma\",..: 3 3 3 3 3 3 3 3 3 3 ...\n",
      " $ Characteristics.Blood.NonBlood.meta.groups.           : Factor w/ 2 levels \"blood\",\"non blood\": 1 1 1 1 1 1 1 1 1 1 ...\n",
      " $ Characteristics.Organism.                             : Factor w/ 2 levels \"Homo sapiens\",..: 1 1 1 1 1 1 1 1 1 1 ...\n",
      " $ Characteristics.OrganismPart.                         : chr  \"bone marrow\" \"bone marrow\" \"bone marrow\" \"bone marrow\" ...\n",
      " $ Characteristics.CellType.                             : chr  \"mononuclear cell\" \"mononuclear cell\" \"mononuclear cell\" \"mononuclear cell\" ...\n",
      " $ Characteristics.CellLine.                             : Factor w/ 265 levels \"  \",\"293t-tva\",..: 1 1 1 1 1 1 1 1 1 1 ...\n",
      " $ Characteristics.DiseaseState.                         : Factor w/ 231 levels \"  \",\"abscess\",..: 3 3 3 3 3 3 3 3 3 3 ...\n",
      " $ Characteristics.DevelopmentalStage.                   : Factor w/ 4 levels \"  \",\"adult\",\"embryo\",..: 1 1 1 1 1 1 1 1 1 1 ...\n",
      " $ Characteristics.DiseaseStage.                         : Factor w/ 41 levels \"  \",\"aggressive\",..: 1 1 1 1 1 1 1 1 1 1 ...\n",
      " $ Characteristics.Sex.                                  : Factor w/ 6 levels \"  \",\"female\",..: 4 4 4 2 4 4 4 4 4 4 ...\n",
      " $ Characteristics.Age.                                  : Factor w/ 189 levels \"  \",\"0,91\",\"0.25 years\",..: 39 23 32 141 141 101 46 19 20 145 ...\n",
      " $ Characteristics.Generalization.6.on.reduced.data.     : Factor w/ 7 levels \"  \",\"brain\",\"cell line\",..: 4 4 4 4 4 4 4 4 4 4 ...\n",
      " $ Labeled.Extract.Name                                  : chr  \"GSM106206.CEL_L\" \"GSM106189.CEL_L\" \"GSM106226.CEL_L\" \"GSM106220.CEL_L\" ...\n",
      " $ Label                                                 : Factor w/ 1 level \"biotin\": 1 1 1 1 1 1 1 1 1 1 ...\n",
      " $ Hybridization.Name                                    : Factor w/ 5372 levels \"1102960533.CEL\",..: 1592 1575 1612 1606 1595 1580 1601 1611 1578 1593 ...\n",
      " $ Array.Design.REF                                      : Factor w/ 1 level \"A-AFFY-33\": 1 1 1 1 1 1 1 1 1 1 ...\n",
      " $ Array.Data.File                                       : chr  \"GSM106206.CEL\" \"GSM106189.CEL\" \"GSM106226.CEL\" \"GSM106220.CEL\" ...\n",
      " $ Comment..ArrayExpress.FTP.file.                       : Factor w/ 121 levels \"ftp://ftp.ebi.ac.uk/pub/databases/microarray/data/experiment/MTAB/E-MTAB-62/E-MTAB-62.raw.1.zip\",..: 1 1 1 1 34 34 34 34 34 34 ...\n",
      " $ Protocol.REF                                          : Factor w/ 1 level \"P-MTAB-2072\": 1 1 1 1 1 1 1 1 1 1 ...\n",
      " $ Derived.Array.Data.Matrix.File                        : Factor w/ 1 level \"hgu133a_rma_okFiles_080619_MAGETAB.csv\": 1 1 1 1 1 1 1 1 1 1 ...\n",
      " $ Comment..Derived.ArrayExpress.FTP.file.               : Factor w/ 1 level \"ftp://ftp.ebi.ac.uk/pub/databases/microarray/data/experiment/MTAB/E-MTAB-62/E-MTAB-62.processed.2.zip\": 1 1 1 1 1 1 1 1 1 1 ...\n",
      " $ Factor.Value.4.meta.groups.                           : Factor w/ 4 levels \"cell line\",\"disease\",..: 3 3 3 3 3 3 3 3 3 3 ...\n",
      " $ Factor.Value.15.meta.groups.                          : Factor w/ 15 levels \"blood neoplasm cell line\",..: 5 5 5 5 5 5 5 5 5 5 ...\n",
      " $ Factor.Value.369.groups.                              : Factor w/ 369 levels \"293t-tva\",\"600MPE breast cancer\",..: 7 7 7 7 7 7 7 7 7 7 ...\n",
      " $ Factor.Value.Blood.NonBlood.meta.groups.              : Factor w/ 2 levels \"blood\",\"non blood\": 1 1 1 1 1 1 1 1 1 1 ...\n",
      " $ Factor.Value.6.meta.groups.                           : Factor w/ 7 levels \"  \",\"brain\",\"cell line\",..: 4 4 4 4 4 4 4 4 4 4 ...\n",
      " $ Factor.Value.4.groups.from.blood.to.incompletely.diff.: Factor w/ 4 levels \"blood\",\"connective\",..: 1 1 1 1 1 1 1 1 1 1 ...\n",
      " $ Factor.Value.96.groups.                               : Factor w/ 97 levels \"    \",\"A549 lung adenocarcinoma\",..: 3 3 3 3 3 3 3 3 3 3 ...\n"
     ]
    }
   ],
   "source": [
    "str(metadata)"
   ]
  },
  {
   "cell_type": "code",
   "execution_count": 118,
   "metadata": {},
   "outputs": [],
   "source": [
    "metadata$Characteristics.OrganismPart. <- as.character(metadata$Characteristics.OrganismPart.)\n",
    "celltype <- lapply(tissue_used_list_names,function(x) {\n",
    "    tmp <- metadata[metadata$Characteristics.OrganismPart. %in% x,]\n",
    "#    tmp$Characteristics.CellType. <- droplevels(tmp$Characteristics.CellType.)\n",
    "    return(table(tmp$Characteristics.CellType.,tmp$Characteristics.OrganismPart.))\n",
    "})\n",
    "names(celltype) <- tissue_used_list"
   ]
  },
  {
   "cell_type": "code",
   "execution_count": 114,
   "metadata": {},
   "outputs": [],
   "source": [
    "expr <-readRDS('/gpfs/loomis/pi/zhao2/wd262/shared_data/bulk/E-MTAB-62/expr_tranSig.rds')"
   ]
  },
  {
   "cell_type": "code",
   "execution_count": 115,
   "metadata": {},
   "outputs": [
    {
     "name": "stdout",
     "output_type": "stream",
     "text": [
      " num [1:1749, 1:12260] 7.82 7.66 7.75 7.63 7.6 ...\n",
      " - attr(*, \"dimnames\")=List of 2\n",
      "  ..$ : chr [1:1749] \"1102960533.CEL\" \"1102960569.CEL\" \"1102960602.CEL\" \"1102960632.CEL\" ...\n",
      "  ..$ : chr [1:12260] \"DDR1\" \"RFC2\" \"HSPA6\" \"PAX8\" ...\n"
     ]
    }
   ],
   "source": [
    "str(expr)"
   ]
  },
  {
   "cell_type": "code",
   "execution_count": 121,
   "metadata": {},
   "outputs": [],
   "source": [
    "Y0 <- list()\n",
    "metadata.list <- list()\n",
    "for(i in 1:length(tissue_used_list_names)){\n",
    "    batch = tissue_used_list_names[i]\n",
    "    metadata.list[[i]] <- metadata[metadata$Characteristics.OrganismPart. %in% batch,]\n",
    "    source.name <- metadata.list[[i]][,'Source.Name']\n",
    "    Y0[[i]] <- expr[source.name,]    \n",
    "}\n"
   ]
  },
  {
   "cell_type": "code",
   "execution_count": 126,
   "metadata": {},
   "outputs": [],
   "source": [
    "tissue_used_list_names[1] <- 'adipose_tissue_from_abdomen'\n",
    "tissue_used_list_names[3] <- 'bone_marrow'\n",
    "tissue_used_list_names[8] <- 'lung_transplant'\n",
    "tissue_used_list_names[10] <- 'skin_leg'\n",
    "tissue_used_list_names[11] <- 'skin_arm'\n",
    "tissue_used_list_names[13] <- 'skeletal_muscle'\n",
    "tissue_used_list_names[14] <- 'smooth_muscle'"
   ]
  },
  {
   "cell_type": "code",
   "execution_count": 127,
   "metadata": {},
   "outputs": [],
   "source": [
    "names(Y0) <- tissue_used_list_names\n",
    "names(metadata.list) <- tissue_used_list_names"
   ]
  },
  {
   "cell_type": "code",
   "execution_count": 132,
   "metadata": {},
   "outputs": [],
   "source": [
    "for(i in 1:length(Y0)){\n",
    "    saveRDS(t(Y0[[i]]), paste0('/gpfs/loomis/pi/zhao2/wd262/shared_data/bulk/E-MTAB-62/Y0/',tissue_used_list_names[i],'.rds'))\n",
    "}"
   ]
  },
  {
   "cell_type": "code",
   "execution_count": 130,
   "metadata": {},
   "outputs": [],
   "source": [
    "for(i in 1:length(Y0)){\n",
    "    saveRDS(metadata.list[[i]], paste0('/gpfs/loomis/pi/zhao2/wd262/shared_data/bulk/E-MTAB-62/metadata/',tissue_used_list_names[i],'.metadata.rds'))\n",
    "}"
   ]
  },
  {
   "cell_type": "code",
   "execution_count": 128,
   "metadata": {},
   "outputs": [
    {
     "name": "stdout",
     "output_type": "stream",
     "text": [
      "List of 14\n",
      " $ adipose_tissue_from_abdomen: num [1:29, 1:12260] 7.51 7.75 7.58 8.11 8.22 ...\n",
      "  ..- attr(*, \"dimnames\")=List of 2\n",
      "  .. ..$ : chr [1:29] \"353122123.CEL\" \"353123083.CEL\" \"353123028.CEL\" \"353122178.CEL\" ...\n",
      "  .. ..$ : chr [1:12260] \"DDR1\" \"RFC2\" \"HSPA6\" \"PAX8\" ...\n",
      " $ blood                      : num [1:885, 1:12260] 8.12 7.67 7.58 7.01 7.07 ...\n",
      "  ..- attr(*, \"dimnames\")=List of 2\n",
      "  .. ..$ : chr [1:885] \"GSM106211.CEL\" \"305933293.CEL\" \"305933093.CEL\" \"350868355.CEL\" ...\n",
      "  .. ..$ : chr [1:12260] \"DDR1\" \"RFC2\" \"HSPA6\" \"PAX8\" ...\n",
      " $ bone_marrow                : num [1:547, 1:12260] 9.97 7.72 8.41 8.25 8.69 ...\n",
      "  ..- attr(*, \"dimnames\")=List of 2\n",
      "  .. ..$ : chr [1:547] \"GSM106206.CEL\" \"GSM106189.CEL\" \"GSM106226.CEL\" \"GSM106220.CEL\" ...\n",
      "  .. ..$ : chr [1:12260] \"DDR1\" \"RFC2\" \"HSPA6\" \"PAX8\" ...\n",
      " $ colon                      : num [1:39, 1:12260] 9.49 8.84 9.31 9.53 9.52 ...\n",
      "  ..- attr(*, \"dimnames\")=List of 2\n",
      "  .. ..$ : chr [1:39] \"354960185.CEL\" \"GSM140894.CEL\" \"354960460.CEL\" \"354960130.CEL\" ...\n",
      "  .. ..$ : chr [1:12260] \"DDR1\" \"RFC2\" \"HSPA6\" \"PAX8\" ...\n",
      " $ esophagus                  : num [1:15, 1:12260] 10.69 9.41 10.01 10.17 9.86 ...\n",
      "  ..- attr(*, \"dimnames\")=List of 2\n",
      "  .. ..$ : chr [1:15] \"GSM23419.CEL\" \"GSM23399.CEL\" \"GSM23398.CEL\" \"GSM23391.CEL\" ...\n",
      "  .. ..$ : chr [1:12260] \"DDR1\" \"RFC2\" \"HSPA6\" \"PAX8\" ...\n",
      " $ kidney                     : num [1:43, 1:12260] 8.3 8.26 8.17 8.44 8.13 ...\n",
      "  ..- attr(*, \"dimnames\")=List of 2\n",
      "  .. ..$ : chr [1:43] \"503316308.CEL\" \"503316590.CEL\" \"503316218.CEL\" \"503316435.CEL\" ...\n",
      "  .. ..$ : chr [1:12260] \"DDR1\" \"RFC2\" \"HSPA6\" \"PAX8\" ...\n",
      " $ lung                       : num [1:69, 1:12260] 10.29 9.6 9.54 9.72 9.39 ...\n",
      "  ..- attr(*, \"dimnames\")=List of 2\n",
      "  .. ..$ : chr [1:69] \"GSM171910.CEL\" \"GSM159366.CEL\" \"GSM159360.CEL\" \"GSM159355.CEL\" ...\n",
      "  .. ..$ : chr [1:12260] \"DDR1\" \"RFC2\" \"HSPA6\" \"PAX8\" ...\n",
      " $ lung_transplant            : num [1:29, 1:12260] 7.63 7.86 7.38 7.9 7.69 ...\n",
      "  ..- attr(*, \"dimnames\")=List of 2\n",
      "  .. ..$ : chr [1:29] \"GSM36440.CEL\" \"GSM36454.CEL\" \"GSM36448.CEL\" \"GSM36439.CEL\" ...\n",
      "  .. ..$ : chr [1:12260] \"DDR1\" \"RFC2\" \"HSPA6\" \"PAX8\" ...\n",
      " $ skin                       : num [1:38, 1:12260] 7.56 7.7 7.43 7.82 7.98 ...\n",
      "  ..- attr(*, \"dimnames\")=List of 2\n",
      "  .. ..$ : chr [1:38] \"325609769.CEL\" \"325610059.CEL\" \"325609827.CEL\" \"325609885.CEL\" ...\n",
      "  .. ..$ : chr [1:12260] \"DDR1\" \"RFC2\" \"HSPA6\" \"PAX8\" ...\n",
      " $ skin_leg                   : num [1:3, 1:12260] 9.85 9.86 9.9 6.89 6.97 ...\n",
      "  ..- attr(*, \"dimnames\")=List of 2\n",
      "  .. ..$ : chr [1:3] \"GSM132627.CEL\" \"GSM132629.CEL\" \"GSM132635.CEL\"\n",
      "  .. ..$ : chr [1:12260] \"DDR1\" \"RFC2\" \"HSPA6\" \"PAX8\" ...\n",
      " $ skin_arm                   : num [1:8, 1:12260] 10.19 9.77 10.04 10.13 9.29 ...\n",
      "  ..- attr(*, \"dimnames\")=List of 2\n",
      "  .. ..$ : chr [1:8] \"GSM132636.CEL\" \"GSM132639.CEL\" \"GSM132628.CEL\" \"GSM132630.CEL\" ...\n",
      "  .. ..$ : chr [1:12260] \"DDR1\" \"RFC2\" \"HSPA6\" \"PAX8\" ...\n",
      " $ muscle                     : num [1:33, 1:12260] 8.62 8.02 8.08 9.76 9.46 ...\n",
      "  ..- attr(*, \"dimnames\")=List of 2\n",
      "  .. ..$ : chr [1:33] \"GSM73025.CEL\" \"GSM73021.CEL\" \"GSM73022.CEL\" \"GSM86704.CEL\" ...\n",
      "  .. ..$ : chr [1:12260] \"DDR1\" \"RFC2\" \"HSPA6\" \"PAX8\" ...\n",
      " $ skeletal_muscle            : num [1:3, 1:12260] 7.87 8.26 8.02 7.06 6.95 ...\n",
      "  ..- attr(*, \"dimnames\")=List of 2\n",
      "  .. ..$ : chr [1:3] \"GSM72800.CEL\" \"GSM72796.CEL\" \"GSM72798.CEL\"\n",
      "  .. ..$ : chr [1:12260] \"DDR1\" \"RFC2\" \"HSPA6\" \"PAX8\" ...\n",
      " $ smooth_muscle              : num [1:8, 1:12260] 8.55 8.55 8.85 8.5 8.69 ...\n",
      "  ..- attr(*, \"dimnames\")=List of 2\n",
      "  .. ..$ : chr [1:8] \"890732451.CEL\" \"890732438.CEL\" \"890732412.CEL\" \"890732425.CEL\" ...\n",
      "  .. ..$ : chr [1:12260] \"DDR1\" \"RFC2\" \"HSPA6\" \"PAX8\" ...\n"
     ]
    }
   ],
   "source": [
    "str(Y0)"
   ]
  },
  {
   "cell_type": "code",
   "execution_count": 133,
   "metadata": {},
   "outputs": [
    {
     "data": {
      "text/html": [
       "<table>\n",
       "<caption>A matrix: 6 × 29 of type dbl</caption>\n",
       "<thead>\n",
       "\t<tr><th></th><th scope=col>353122123.CEL</th><th scope=col>353123083.CEL</th><th scope=col>353123028.CEL</th><th scope=col>353122178.CEL</th><th scope=col>353122398.CEL</th><th scope=col>GSM28483.CEL</th><th scope=col>GSM28481.CEL</th><th scope=col>GSM28491.CEL</th><th scope=col>GSM28494.CEL</th><th scope=col>GSM28498.CEL</th><th scope=col>⋯</th><th scope=col>GSM28486.CEL</th><th scope=col>GSM28495.CEL</th><th scope=col>GSM28478.CEL</th><th scope=col>GSM28488.CEL</th><th scope=col>GSM28479.CEL</th><th scope=col>GSM28492.CEL</th><th scope=col>GSM28490.CEL</th><th scope=col>GSM28480.CEL</th><th scope=col>GSM28482.CEL</th><th scope=col>GSM28485.CEL</th></tr>\n",
       "</thead>\n",
       "<tbody>\n",
       "\t<tr><th scope=row>DDR1</th><td>7.513717</td><td>7.752188</td><td>7.582580</td><td>8.112975</td><td>8.222182</td><td>9.109873</td><td>9.015295</td><td>8.864765</td><td>8.093116</td><td>8.743207</td><td>⋯</td><td>8.663866</td><td>8.612306</td><td>8.404024</td><td>8.935970</td><td>7.848214</td><td>8.664525</td><td>8.582213</td><td>8.226787</td><td>8.396256</td><td>8.873789</td></tr>\n",
       "\t<tr><th scope=row>RFC2</th><td>6.745541</td><td>6.668757</td><td>6.778878</td><td>6.693047</td><td>6.677725</td><td>7.539997</td><td>7.190659</td><td>6.764516</td><td>6.875311</td><td>6.383887</td><td>⋯</td><td>6.842633</td><td>6.773035</td><td>6.793501</td><td>6.656509</td><td>8.105416</td><td>6.743437</td><td>6.686375</td><td>6.830339</td><td>6.812200</td><td>6.549003</td></tr>\n",
       "\t<tr><th scope=row>HSPA6</th><td>8.740014</td><td>8.324884</td><td>6.936927</td><td>6.437483</td><td>6.630753</td><td>6.454608</td><td>6.559943</td><td>6.726316</td><td>6.625136</td><td>6.685170</td><td>⋯</td><td>6.736763</td><td>6.655854</td><td>6.719665</td><td>6.645383</td><td>6.716244</td><td>6.732770</td><td>6.519841</td><td>6.973999</td><td>6.591180</td><td>6.554617</td></tr>\n",
       "\t<tr><th scope=row>PAX8</th><td>6.553128</td><td>6.463666</td><td>6.620443</td><td>6.343113</td><td>6.479899</td><td>6.505646</td><td>6.687182</td><td>6.797883</td><td>6.748474</td><td>6.512258</td><td>⋯</td><td>6.913634</td><td>6.483926</td><td>6.727622</td><td>6.642562</td><td>6.619574</td><td>6.716463</td><td>6.417511</td><td>6.714803</td><td>6.711760</td><td>6.670296</td></tr>\n",
       "\t<tr><th scope=row>GUCA1A</th><td>5.451417</td><td>5.876822</td><td>5.723336</td><td>5.505942</td><td>5.637512</td><td>5.417650</td><td>5.467955</td><td>5.437318</td><td>5.449211</td><td>5.418424</td><td>⋯</td><td>5.569792</td><td>5.421349</td><td>5.707469</td><td>5.496775</td><td>5.543897</td><td>5.590530</td><td>5.694954</td><td>5.661506</td><td>5.648858</td><td>5.458654</td></tr>\n",
       "\t<tr><th scope=row>UBA7</th><td>8.094909</td><td>7.745446</td><td>7.630961</td><td>7.550884</td><td>7.276225</td><td>7.817425</td><td>7.832703</td><td>8.063051</td><td>9.226189</td><td>8.931888</td><td>⋯</td><td>8.313360</td><td>7.156672</td><td>7.929991</td><td>8.064634</td><td>7.783598</td><td>8.046428</td><td>7.754292</td><td>8.087866</td><td>8.179897</td><td>8.241894</td></tr>\n",
       "</tbody>\n",
       "</table>\n"
      ],
      "text/latex": [
       "A matrix: 6 × 29 of type dbl\n",
       "\\begin{tabular}{r|lllllllllllllllllllll}\n",
       "  & 353122123.CEL & 353123083.CEL & 353123028.CEL & 353122178.CEL & 353122398.CEL & GSM28483.CEL & GSM28481.CEL & GSM28491.CEL & GSM28494.CEL & GSM28498.CEL & ⋯ & GSM28486.CEL & GSM28495.CEL & GSM28478.CEL & GSM28488.CEL & GSM28479.CEL & GSM28492.CEL & GSM28490.CEL & GSM28480.CEL & GSM28482.CEL & GSM28485.CEL\\\\\n",
       "\\hline\n",
       "\tDDR1 & 7.513717 & 7.752188 & 7.582580 & 8.112975 & 8.222182 & 9.109873 & 9.015295 & 8.864765 & 8.093116 & 8.743207 & ⋯ & 8.663866 & 8.612306 & 8.404024 & 8.935970 & 7.848214 & 8.664525 & 8.582213 & 8.226787 & 8.396256 & 8.873789\\\\\n",
       "\tRFC2 & 6.745541 & 6.668757 & 6.778878 & 6.693047 & 6.677725 & 7.539997 & 7.190659 & 6.764516 & 6.875311 & 6.383887 & ⋯ & 6.842633 & 6.773035 & 6.793501 & 6.656509 & 8.105416 & 6.743437 & 6.686375 & 6.830339 & 6.812200 & 6.549003\\\\\n",
       "\tHSPA6 & 8.740014 & 8.324884 & 6.936927 & 6.437483 & 6.630753 & 6.454608 & 6.559943 & 6.726316 & 6.625136 & 6.685170 & ⋯ & 6.736763 & 6.655854 & 6.719665 & 6.645383 & 6.716244 & 6.732770 & 6.519841 & 6.973999 & 6.591180 & 6.554617\\\\\n",
       "\tPAX8 & 6.553128 & 6.463666 & 6.620443 & 6.343113 & 6.479899 & 6.505646 & 6.687182 & 6.797883 & 6.748474 & 6.512258 & ⋯ & 6.913634 & 6.483926 & 6.727622 & 6.642562 & 6.619574 & 6.716463 & 6.417511 & 6.714803 & 6.711760 & 6.670296\\\\\n",
       "\tGUCA1A & 5.451417 & 5.876822 & 5.723336 & 5.505942 & 5.637512 & 5.417650 & 5.467955 & 5.437318 & 5.449211 & 5.418424 & ⋯ & 5.569792 & 5.421349 & 5.707469 & 5.496775 & 5.543897 & 5.590530 & 5.694954 & 5.661506 & 5.648858 & 5.458654\\\\\n",
       "\tUBA7 & 8.094909 & 7.745446 & 7.630961 & 7.550884 & 7.276225 & 7.817425 & 7.832703 & 8.063051 & 9.226189 & 8.931888 & ⋯ & 8.313360 & 7.156672 & 7.929991 & 8.064634 & 7.783598 & 8.046428 & 7.754292 & 8.087866 & 8.179897 & 8.241894\\\\\n",
       "\\end{tabular}\n"
      ],
      "text/markdown": [
       "\n",
       "A matrix: 6 × 29 of type dbl\n",
       "\n",
       "| <!--/--> | 353122123.CEL | 353123083.CEL | 353123028.CEL | 353122178.CEL | 353122398.CEL | GSM28483.CEL | GSM28481.CEL | GSM28491.CEL | GSM28494.CEL | GSM28498.CEL | ⋯ | GSM28486.CEL | GSM28495.CEL | GSM28478.CEL | GSM28488.CEL | GSM28479.CEL | GSM28492.CEL | GSM28490.CEL | GSM28480.CEL | GSM28482.CEL | GSM28485.CEL |\n",
       "|---|---|---|---|---|---|---|---|---|---|---|---|---|---|---|---|---|---|---|---|---|---|\n",
       "| DDR1 | 7.513717 | 7.752188 | 7.582580 | 8.112975 | 8.222182 | 9.109873 | 9.015295 | 8.864765 | 8.093116 | 8.743207 | ⋯ | 8.663866 | 8.612306 | 8.404024 | 8.935970 | 7.848214 | 8.664525 | 8.582213 | 8.226787 | 8.396256 | 8.873789 |\n",
       "| RFC2 | 6.745541 | 6.668757 | 6.778878 | 6.693047 | 6.677725 | 7.539997 | 7.190659 | 6.764516 | 6.875311 | 6.383887 | ⋯ | 6.842633 | 6.773035 | 6.793501 | 6.656509 | 8.105416 | 6.743437 | 6.686375 | 6.830339 | 6.812200 | 6.549003 |\n",
       "| HSPA6 | 8.740014 | 8.324884 | 6.936927 | 6.437483 | 6.630753 | 6.454608 | 6.559943 | 6.726316 | 6.625136 | 6.685170 | ⋯ | 6.736763 | 6.655854 | 6.719665 | 6.645383 | 6.716244 | 6.732770 | 6.519841 | 6.973999 | 6.591180 | 6.554617 |\n",
       "| PAX8 | 6.553128 | 6.463666 | 6.620443 | 6.343113 | 6.479899 | 6.505646 | 6.687182 | 6.797883 | 6.748474 | 6.512258 | ⋯ | 6.913634 | 6.483926 | 6.727622 | 6.642562 | 6.619574 | 6.716463 | 6.417511 | 6.714803 | 6.711760 | 6.670296 |\n",
       "| GUCA1A | 5.451417 | 5.876822 | 5.723336 | 5.505942 | 5.637512 | 5.417650 | 5.467955 | 5.437318 | 5.449211 | 5.418424 | ⋯ | 5.569792 | 5.421349 | 5.707469 | 5.496775 | 5.543897 | 5.590530 | 5.694954 | 5.661506 | 5.648858 | 5.458654 |\n",
       "| UBA7 | 8.094909 | 7.745446 | 7.630961 | 7.550884 | 7.276225 | 7.817425 | 7.832703 | 8.063051 | 9.226189 | 8.931888 | ⋯ | 8.313360 | 7.156672 | 7.929991 | 8.064634 | 7.783598 | 8.046428 | 7.754292 | 8.087866 | 8.179897 | 8.241894 |\n",
       "\n"
      ],
      "text/plain": [
       "       353122123.CEL 353123083.CEL 353123028.CEL 353122178.CEL 353122398.CEL\n",
       "DDR1   7.513717      7.752188      7.582580      8.112975      8.222182     \n",
       "RFC2   6.745541      6.668757      6.778878      6.693047      6.677725     \n",
       "HSPA6  8.740014      8.324884      6.936927      6.437483      6.630753     \n",
       "PAX8   6.553128      6.463666      6.620443      6.343113      6.479899     \n",
       "GUCA1A 5.451417      5.876822      5.723336      5.505942      5.637512     \n",
       "UBA7   8.094909      7.745446      7.630961      7.550884      7.276225     \n",
       "       GSM28483.CEL GSM28481.CEL GSM28491.CEL GSM28494.CEL GSM28498.CEL ⋯\n",
       "DDR1   9.109873     9.015295     8.864765     8.093116     8.743207     ⋯\n",
       "RFC2   7.539997     7.190659     6.764516     6.875311     6.383887     ⋯\n",
       "HSPA6  6.454608     6.559943     6.726316     6.625136     6.685170     ⋯\n",
       "PAX8   6.505646     6.687182     6.797883     6.748474     6.512258     ⋯\n",
       "GUCA1A 5.417650     5.467955     5.437318     5.449211     5.418424     ⋯\n",
       "UBA7   7.817425     7.832703     8.063051     9.226189     8.931888     ⋯\n",
       "       GSM28486.CEL GSM28495.CEL GSM28478.CEL GSM28488.CEL GSM28479.CEL\n",
       "DDR1   8.663866     8.612306     8.404024     8.935970     7.848214    \n",
       "RFC2   6.842633     6.773035     6.793501     6.656509     8.105416    \n",
       "HSPA6  6.736763     6.655854     6.719665     6.645383     6.716244    \n",
       "PAX8   6.913634     6.483926     6.727622     6.642562     6.619574    \n",
       "GUCA1A 5.569792     5.421349     5.707469     5.496775     5.543897    \n",
       "UBA7   8.313360     7.156672     7.929991     8.064634     7.783598    \n",
       "       GSM28492.CEL GSM28490.CEL GSM28480.CEL GSM28482.CEL GSM28485.CEL\n",
       "DDR1   8.664525     8.582213     8.226787     8.396256     8.873789    \n",
       "RFC2   6.743437     6.686375     6.830339     6.812200     6.549003    \n",
       "HSPA6  6.732770     6.519841     6.973999     6.591180     6.554617    \n",
       "PAX8   6.716463     6.417511     6.714803     6.711760     6.670296    \n",
       "GUCA1A 5.590530     5.694954     5.661506     5.648858     5.458654    \n",
       "UBA7   8.046428     7.754292     8.087866     8.179897     8.241894    "
      ]
     },
     "metadata": {},
     "output_type": "display_data"
    }
   ],
   "source": [
    "head(t(Y0[[1]]))"
   ]
  },
  {
   "cell_type": "code",
   "execution_count": null,
   "metadata": {},
   "outputs": [],
   "source": []
  }
 ],
 "metadata": {
  "kernelspec": {
   "display_name": "R",
   "language": "R",
   "name": "ir"
  },
  "language_info": {
   "codemirror_mode": "r",
   "file_extension": ".r",
   "mimetype": "text/x-r-source",
   "name": "R",
   "pygments_lexer": "r",
   "version": "3.6.1"
  }
 },
 "nbformat": 4,
 "nbformat_minor": 4
}
