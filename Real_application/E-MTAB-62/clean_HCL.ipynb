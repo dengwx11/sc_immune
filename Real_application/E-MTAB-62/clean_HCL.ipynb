{
 "cells": [
  {
   "cell_type": "code",
   "execution_count": 1,
   "id": "9702b64d",
   "metadata": {},
   "outputs": [],
   "source": [
    "setwd('/gpfs/loomis/pi/zhao2/wd262/shared_data/HCL/seurat_object/integrate_seurat_obj/protein_coding')"
   ]
  },
  {
   "cell_type": "code",
   "execution_count": 2,
   "id": "8c082405",
   "metadata": {},
   "outputs": [],
   "source": [
    "## bladder\n",
    "data <- readRDS('./Adult-Bladder_protein_coding_integrated_rmbatch.rds')"
   ]
  },
  {
   "cell_type": "code",
   "execution_count": 5,
   "id": "2f0e0321",
   "metadata": {},
   "outputs": [
    {
     "data": {
      "text/html": [
       "<table>\n",
       "<caption>A data.frame: 6 × 20</caption>\n",
       "<thead>\n",
       "\t<tr><th></th><th scope=col>orig.ident</th><th scope=col>nCount_RNA</th><th scope=col>nFeature_RNA</th><th scope=col>Cell_barcode</th><th scope=col>Sample</th><th scope=col>Batch</th><th scope=col>Cell_id</th><th scope=col>Cluster_id</th><th scope=col>Ages</th><th scope=col>Development_stage</th><th scope=col>Method</th><th scope=col>Gender</th><th scope=col>Source</th><th scope=col>Biomaterial</th><th scope=col>Name</th><th scope=col>ident</th><th scope=col>Celltype</th><th scope=col>Celltype_NA</th><th scope=col>percent.mt</th><th scope=col>Celltype_Merge</th></tr>\n",
       "\t<tr><th></th><th scope=col>&lt;chr&gt;</th><th scope=col>&lt;dbl&gt;</th><th scope=col>&lt;int&gt;</th><th scope=col>&lt;chr&gt;</th><th scope=col>&lt;chr&gt;</th><th scope=col>&lt;chr&gt;</th><th scope=col>&lt;chr&gt;</th><th scope=col>&lt;chr&gt;</th><th scope=col>&lt;chr&gt;</th><th scope=col>&lt;chr&gt;</th><th scope=col>&lt;chr&gt;</th><th scope=col>&lt;chr&gt;</th><th scope=col>&lt;chr&gt;</th><th scope=col>&lt;chr&gt;</th><th scope=col>&lt;chr&gt;</th><th scope=col>&lt;int&gt;</th><th scope=col>&lt;chr&gt;</th><th scope=col>&lt;lgl&gt;</th><th scope=col>&lt;dbl&gt;</th><th scope=col>&lt;chr&gt;</th></tr>\n",
       "</thead>\n",
       "<tbody>\n",
       "\t<tr><th scope=row>AdultBladder_1.CTCGCAGCAGGACCATCT</th><td>AdultBladder</td><td>1712</td><td>619</td><td>CTCGCAGCAGGACCATCT</td><td>AdultBladder</td><td>AdultBladder1</td><td>AdultBladder_1.CTCGCAGCAGGACCATCT</td><td>AdultBladder1_5</td><td>52Y</td><td>Adult</td><td>Microwell-seq</td><td>Male</td><td>HCL</td><td>AdultBladder</td><td>AdultBladder_52Y</td><td>5</td><td>Urothelial cell                        </td><td>FALSE</td><td>0</td><td>Urothelial cell                        </td></tr>\n",
       "\t<tr><th scope=row>AdultBladder_1.CTCGCATGATCACACAAG</th><td>AdultBladder</td><td>1966</td><td>813</td><td>CTCGCATGATCACACAAG</td><td>AdultBladder</td><td>AdultBladder1</td><td>AdultBladder_1.CTCGCATGATCACACAAG</td><td>AdultBladder1_3</td><td>52Y</td><td>Adult</td><td>Microwell-seq</td><td>Male</td><td>HCL</td><td>AdultBladder</td><td>AdultBladder_52Y</td><td>3</td><td>Smooth muscle cell                     </td><td>FALSE</td><td>0</td><td>Smooth muscle cell                     </td></tr>\n",
       "\t<tr><th scope=row>AdultBladder_1.CCGACGTTCATAGGGTTT</th><td>AdultBladder</td><td>1665</td><td>674</td><td>CCGACGTTCATAGGGTTT</td><td>AdultBladder</td><td>AdultBladder1</td><td>AdultBladder_1.CCGACGTTCATAGGGTTT</td><td>AdultBladder1_4</td><td>52Y</td><td>Adult</td><td>Microwell-seq</td><td>Male</td><td>HCL</td><td>AdultBladder</td><td>AdultBladder_52Y</td><td>4</td><td>Macrophage                             </td><td>FALSE</td><td>0</td><td>Macrophage                             </td></tr>\n",
       "\t<tr><th scope=row>AdultBladder_1.CTCGCATGATCAATGGCG</th><td>AdultBladder</td><td>1843</td><td>905</td><td>CTCGCATGATCAATGGCG</td><td>AdultBladder</td><td>AdultBladder1</td><td>AdultBladder_1.CTCGCATGATCAATGGCG</td><td>AdultBladder1_2</td><td>52Y</td><td>Adult</td><td>Microwell-seq</td><td>Male</td><td>HCL</td><td>AdultBladder</td><td>AdultBladder_52Y</td><td>2</td><td>Endothelial cell (non-professional APC)</td><td>FALSE</td><td>0</td><td>Endothelial cell (non-professional APC)</td></tr>\n",
       "\t<tr><th scope=row>AdultBladder_1.ACGTTGAGGACTTAGCAT</th><td>AdultBladder</td><td>1185</td><td>648</td><td>ACGTTGAGGACTTAGCAT</td><td>AdultBladder</td><td>AdultBladder1</td><td>AdultBladder_1.ACGTTGAGGACTTAGCAT</td><td>AdultBladder1_2</td><td>52Y</td><td>Adult</td><td>Microwell-seq</td><td>Male</td><td>HCL</td><td>AdultBladder</td><td>AdultBladder_52Y</td><td>2</td><td>Endothelial cell (non-professional APC)</td><td>FALSE</td><td>0</td><td>Endothelial cell (non-professional APC)</td></tr>\n",
       "\t<tr><th scope=row>AdultBladder_1.CTCGCACAACAAGCTGTG</th><td>AdultBladder</td><td>1486</td><td>641</td><td>CTCGCACAACAAGCTGTG</td><td>AdultBladder</td><td>AdultBladder1</td><td>AdultBladder_1.CTCGCACAACAAGCTGTG</td><td>AdultBladder1_1</td><td>52Y</td><td>Adult</td><td>Microwell-seq</td><td>Male</td><td>HCL</td><td>AdultBladder</td><td>AdultBladder_52Y</td><td>1</td><td>Stromal cell                           </td><td>FALSE</td><td>0</td><td>Stromal cell                           </td></tr>\n",
       "</tbody>\n",
       "</table>\n"
      ],
      "text/latex": [
       "A data.frame: 6 × 20\n",
       "\\begin{tabular}{r|llllllllllllllllllll}\n",
       "  & orig.ident & nCount\\_RNA & nFeature\\_RNA & Cell\\_barcode & Sample & Batch & Cell\\_id & Cluster\\_id & Ages & Development\\_stage & Method & Gender & Source & Biomaterial & Name & ident & Celltype & Celltype\\_NA & percent.mt & Celltype\\_Merge\\\\\n",
       "  & <chr> & <dbl> & <int> & <chr> & <chr> & <chr> & <chr> & <chr> & <chr> & <chr> & <chr> & <chr> & <chr> & <chr> & <chr> & <int> & <chr> & <lgl> & <dbl> & <chr>\\\\\n",
       "\\hline\n",
       "\tAdultBladder\\_1.CTCGCAGCAGGACCATCT & AdultBladder & 1712 & 619 & CTCGCAGCAGGACCATCT & AdultBladder & AdultBladder1 & AdultBladder\\_1.CTCGCAGCAGGACCATCT & AdultBladder1\\_5 & 52Y & Adult & Microwell-seq & Male & HCL & AdultBladder & AdultBladder\\_52Y & 5 & Urothelial cell                         & FALSE & 0 & Urothelial cell                        \\\\\n",
       "\tAdultBladder\\_1.CTCGCATGATCACACAAG & AdultBladder & 1966 & 813 & CTCGCATGATCACACAAG & AdultBladder & AdultBladder1 & AdultBladder\\_1.CTCGCATGATCACACAAG & AdultBladder1\\_3 & 52Y & Adult & Microwell-seq & Male & HCL & AdultBladder & AdultBladder\\_52Y & 3 & Smooth muscle cell                      & FALSE & 0 & Smooth muscle cell                     \\\\\n",
       "\tAdultBladder\\_1.CCGACGTTCATAGGGTTT & AdultBladder & 1665 & 674 & CCGACGTTCATAGGGTTT & AdultBladder & AdultBladder1 & AdultBladder\\_1.CCGACGTTCATAGGGTTT & AdultBladder1\\_4 & 52Y & Adult & Microwell-seq & Male & HCL & AdultBladder & AdultBladder\\_52Y & 4 & Macrophage                              & FALSE & 0 & Macrophage                             \\\\\n",
       "\tAdultBladder\\_1.CTCGCATGATCAATGGCG & AdultBladder & 1843 & 905 & CTCGCATGATCAATGGCG & AdultBladder & AdultBladder1 & AdultBladder\\_1.CTCGCATGATCAATGGCG & AdultBladder1\\_2 & 52Y & Adult & Microwell-seq & Male & HCL & AdultBladder & AdultBladder\\_52Y & 2 & Endothelial cell (non-professional APC) & FALSE & 0 & Endothelial cell (non-professional APC)\\\\\n",
       "\tAdultBladder\\_1.ACGTTGAGGACTTAGCAT & AdultBladder & 1185 & 648 & ACGTTGAGGACTTAGCAT & AdultBladder & AdultBladder1 & AdultBladder\\_1.ACGTTGAGGACTTAGCAT & AdultBladder1\\_2 & 52Y & Adult & Microwell-seq & Male & HCL & AdultBladder & AdultBladder\\_52Y & 2 & Endothelial cell (non-professional APC) & FALSE & 0 & Endothelial cell (non-professional APC)\\\\\n",
       "\tAdultBladder\\_1.CTCGCACAACAAGCTGTG & AdultBladder & 1486 & 641 & CTCGCACAACAAGCTGTG & AdultBladder & AdultBladder1 & AdultBladder\\_1.CTCGCACAACAAGCTGTG & AdultBladder1\\_1 & 52Y & Adult & Microwell-seq & Male & HCL & AdultBladder & AdultBladder\\_52Y & 1 & Stromal cell                            & FALSE & 0 & Stromal cell                           \\\\\n",
       "\\end{tabular}\n"
      ],
      "text/markdown": [
       "\n",
       "A data.frame: 6 × 20\n",
       "\n",
       "| <!--/--> | orig.ident &lt;chr&gt; | nCount_RNA &lt;dbl&gt; | nFeature_RNA &lt;int&gt; | Cell_barcode &lt;chr&gt; | Sample &lt;chr&gt; | Batch &lt;chr&gt; | Cell_id &lt;chr&gt; | Cluster_id &lt;chr&gt; | Ages &lt;chr&gt; | Development_stage &lt;chr&gt; | Method &lt;chr&gt; | Gender &lt;chr&gt; | Source &lt;chr&gt; | Biomaterial &lt;chr&gt; | Name &lt;chr&gt; | ident &lt;int&gt; | Celltype &lt;chr&gt; | Celltype_NA &lt;lgl&gt; | percent.mt &lt;dbl&gt; | Celltype_Merge &lt;chr&gt; |\n",
       "|---|---|---|---|---|---|---|---|---|---|---|---|---|---|---|---|---|---|---|---|---|\n",
       "| AdultBladder_1.CTCGCAGCAGGACCATCT | AdultBladder | 1712 | 619 | CTCGCAGCAGGACCATCT | AdultBladder | AdultBladder1 | AdultBladder_1.CTCGCAGCAGGACCATCT | AdultBladder1_5 | 52Y | Adult | Microwell-seq | Male | HCL | AdultBladder | AdultBladder_52Y | 5 | Urothelial cell                         | FALSE | 0 | Urothelial cell                         |\n",
       "| AdultBladder_1.CTCGCATGATCACACAAG | AdultBladder | 1966 | 813 | CTCGCATGATCACACAAG | AdultBladder | AdultBladder1 | AdultBladder_1.CTCGCATGATCACACAAG | AdultBladder1_3 | 52Y | Adult | Microwell-seq | Male | HCL | AdultBladder | AdultBladder_52Y | 3 | Smooth muscle cell                      | FALSE | 0 | Smooth muscle cell                      |\n",
       "| AdultBladder_1.CCGACGTTCATAGGGTTT | AdultBladder | 1665 | 674 | CCGACGTTCATAGGGTTT | AdultBladder | AdultBladder1 | AdultBladder_1.CCGACGTTCATAGGGTTT | AdultBladder1_4 | 52Y | Adult | Microwell-seq | Male | HCL | AdultBladder | AdultBladder_52Y | 4 | Macrophage                              | FALSE | 0 | Macrophage                              |\n",
       "| AdultBladder_1.CTCGCATGATCAATGGCG | AdultBladder | 1843 | 905 | CTCGCATGATCAATGGCG | AdultBladder | AdultBladder1 | AdultBladder_1.CTCGCATGATCAATGGCG | AdultBladder1_2 | 52Y | Adult | Microwell-seq | Male | HCL | AdultBladder | AdultBladder_52Y | 2 | Endothelial cell (non-professional APC) | FALSE | 0 | Endothelial cell (non-professional APC) |\n",
       "| AdultBladder_1.ACGTTGAGGACTTAGCAT | AdultBladder | 1185 | 648 | ACGTTGAGGACTTAGCAT | AdultBladder | AdultBladder1 | AdultBladder_1.ACGTTGAGGACTTAGCAT | AdultBladder1_2 | 52Y | Adult | Microwell-seq | Male | HCL | AdultBladder | AdultBladder_52Y | 2 | Endothelial cell (non-professional APC) | FALSE | 0 | Endothelial cell (non-professional APC) |\n",
       "| AdultBladder_1.CTCGCACAACAAGCTGTG | AdultBladder | 1486 | 641 | CTCGCACAACAAGCTGTG | AdultBladder | AdultBladder1 | AdultBladder_1.CTCGCACAACAAGCTGTG | AdultBladder1_1 | 52Y | Adult | Microwell-seq | Male | HCL | AdultBladder | AdultBladder_52Y | 1 | Stromal cell                            | FALSE | 0 | Stromal cell                            |\n",
       "\n"
      ],
      "text/plain": [
       "                                  orig.ident   nCount_RNA nFeature_RNA\n",
       "AdultBladder_1.CTCGCAGCAGGACCATCT AdultBladder 1712       619         \n",
       "AdultBladder_1.CTCGCATGATCACACAAG AdultBladder 1966       813         \n",
       "AdultBladder_1.CCGACGTTCATAGGGTTT AdultBladder 1665       674         \n",
       "AdultBladder_1.CTCGCATGATCAATGGCG AdultBladder 1843       905         \n",
       "AdultBladder_1.ACGTTGAGGACTTAGCAT AdultBladder 1185       648         \n",
       "AdultBladder_1.CTCGCACAACAAGCTGTG AdultBladder 1486       641         \n",
       "                                  Cell_barcode       Sample       Batch        \n",
       "AdultBladder_1.CTCGCAGCAGGACCATCT CTCGCAGCAGGACCATCT AdultBladder AdultBladder1\n",
       "AdultBladder_1.CTCGCATGATCACACAAG CTCGCATGATCACACAAG AdultBladder AdultBladder1\n",
       "AdultBladder_1.CCGACGTTCATAGGGTTT CCGACGTTCATAGGGTTT AdultBladder AdultBladder1\n",
       "AdultBladder_1.CTCGCATGATCAATGGCG CTCGCATGATCAATGGCG AdultBladder AdultBladder1\n",
       "AdultBladder_1.ACGTTGAGGACTTAGCAT ACGTTGAGGACTTAGCAT AdultBladder AdultBladder1\n",
       "AdultBladder_1.CTCGCACAACAAGCTGTG CTCGCACAACAAGCTGTG AdultBladder AdultBladder1\n",
       "                                  Cell_id                          \n",
       "AdultBladder_1.CTCGCAGCAGGACCATCT AdultBladder_1.CTCGCAGCAGGACCATCT\n",
       "AdultBladder_1.CTCGCATGATCACACAAG AdultBladder_1.CTCGCATGATCACACAAG\n",
       "AdultBladder_1.CCGACGTTCATAGGGTTT AdultBladder_1.CCGACGTTCATAGGGTTT\n",
       "AdultBladder_1.CTCGCATGATCAATGGCG AdultBladder_1.CTCGCATGATCAATGGCG\n",
       "AdultBladder_1.ACGTTGAGGACTTAGCAT AdultBladder_1.ACGTTGAGGACTTAGCAT\n",
       "AdultBladder_1.CTCGCACAACAAGCTGTG AdultBladder_1.CTCGCACAACAAGCTGTG\n",
       "                                  Cluster_id      Ages Development_stage\n",
       "AdultBladder_1.CTCGCAGCAGGACCATCT AdultBladder1_5 52Y  Adult            \n",
       "AdultBladder_1.CTCGCATGATCACACAAG AdultBladder1_3 52Y  Adult            \n",
       "AdultBladder_1.CCGACGTTCATAGGGTTT AdultBladder1_4 52Y  Adult            \n",
       "AdultBladder_1.CTCGCATGATCAATGGCG AdultBladder1_2 52Y  Adult            \n",
       "AdultBladder_1.ACGTTGAGGACTTAGCAT AdultBladder1_2 52Y  Adult            \n",
       "AdultBladder_1.CTCGCACAACAAGCTGTG AdultBladder1_1 52Y  Adult            \n",
       "                                  Method        Gender Source Biomaterial \n",
       "AdultBladder_1.CTCGCAGCAGGACCATCT Microwell-seq Male   HCL    AdultBladder\n",
       "AdultBladder_1.CTCGCATGATCACACAAG Microwell-seq Male   HCL    AdultBladder\n",
       "AdultBladder_1.CCGACGTTCATAGGGTTT Microwell-seq Male   HCL    AdultBladder\n",
       "AdultBladder_1.CTCGCATGATCAATGGCG Microwell-seq Male   HCL    AdultBladder\n",
       "AdultBladder_1.ACGTTGAGGACTTAGCAT Microwell-seq Male   HCL    AdultBladder\n",
       "AdultBladder_1.CTCGCACAACAAGCTGTG Microwell-seq Male   HCL    AdultBladder\n",
       "                                  Name             ident\n",
       "AdultBladder_1.CTCGCAGCAGGACCATCT AdultBladder_52Y 5    \n",
       "AdultBladder_1.CTCGCATGATCACACAAG AdultBladder_52Y 3    \n",
       "AdultBladder_1.CCGACGTTCATAGGGTTT AdultBladder_52Y 4    \n",
       "AdultBladder_1.CTCGCATGATCAATGGCG AdultBladder_52Y 2    \n",
       "AdultBladder_1.ACGTTGAGGACTTAGCAT AdultBladder_52Y 2    \n",
       "AdultBladder_1.CTCGCACAACAAGCTGTG AdultBladder_52Y 1    \n",
       "                                  Celltype                               \n",
       "AdultBladder_1.CTCGCAGCAGGACCATCT Urothelial cell                        \n",
       "AdultBladder_1.CTCGCATGATCACACAAG Smooth muscle cell                     \n",
       "AdultBladder_1.CCGACGTTCATAGGGTTT Macrophage                             \n",
       "AdultBladder_1.CTCGCATGATCAATGGCG Endothelial cell (non-professional APC)\n",
       "AdultBladder_1.ACGTTGAGGACTTAGCAT Endothelial cell (non-professional APC)\n",
       "AdultBladder_1.CTCGCACAACAAGCTGTG Stromal cell                           \n",
       "                                  Celltype_NA percent.mt\n",
       "AdultBladder_1.CTCGCAGCAGGACCATCT FALSE       0         \n",
       "AdultBladder_1.CTCGCATGATCACACAAG FALSE       0         \n",
       "AdultBladder_1.CCGACGTTCATAGGGTTT FALSE       0         \n",
       "AdultBladder_1.CTCGCATGATCAATGGCG FALSE       0         \n",
       "AdultBladder_1.ACGTTGAGGACTTAGCAT FALSE       0         \n",
       "AdultBladder_1.CTCGCACAACAAGCTGTG FALSE       0         \n",
       "                                  Celltype_Merge                         \n",
       "AdultBladder_1.CTCGCAGCAGGACCATCT Urothelial cell                        \n",
       "AdultBladder_1.CTCGCATGATCACACAAG Smooth muscle cell                     \n",
       "AdultBladder_1.CCGACGTTCATAGGGTTT Macrophage                             \n",
       "AdultBladder_1.CTCGCATGATCAATGGCG Endothelial cell (non-professional APC)\n",
       "AdultBladder_1.ACGTTGAGGACTTAGCAT Endothelial cell (non-professional APC)\n",
       "AdultBladder_1.CTCGCACAACAAGCTGTG Stromal cell                           "
      ]
     },
     "metadata": {},
     "output_type": "display_data"
    }
   ],
   "source": [
    "head(data@meta.data)"
   ]
  },
  {
   "cell_type": "code",
   "execution_count": 6,
   "id": "e18381c3",
   "metadata": {},
   "outputs": [
    {
     "data": {
      "text/plain": [
       "\n",
       "                    B cell (Plasmocyte) Endothelial cell (non-professional APC) \n",
       "                                     38                                     655 \n",
       "                             Fibroblast                           M2 Macrophage \n",
       "                                    105                                      65 \n",
       "                             Macrophage                               Mast cell \n",
       "                                     61                                     118 \n",
       "                             Neutrophil                                 NK cell \n",
       "                                     39                                      29 \n",
       "                     Smooth muscle cell                            Stromal cell \n",
       "                                    238                                     890 \n",
       "                                 T cell                         Urothelial cell \n",
       "                                      8                                    1576 \n",
       "                       Urothelial cell                Vascular endothelial cell \n",
       "                                     56                                     139 "
      ]
     },
     "metadata": {},
     "output_type": "display_data"
    }
   ],
   "source": [
    "table(data$Celltype_Merge)"
   ]
  },
  {
   "cell_type": "code",
   "execution_count": 10,
   "id": "f7c9a55c",
   "metadata": {},
   "outputs": [],
   "source": [
    "## Bone marrow\n",
    "data <- readRDS('Adult-Bone-Marrow_protein_coding_integrated_rmbatch.rds')"
   ]
  },
  {
   "cell_type": "code",
   "execution_count": 11,
   "id": "e09e02cb",
   "metadata": {},
   "outputs": [
    {
     "data": {
      "text/plain": [
       "\n",
       "        B cell (Centrocyte)         B cell (Plasmocyte) \n",
       "                        180                         334 \n",
       "Conventional dendritic cell              Erythroid cell \n",
       "                        291                        1315 \n",
       "  Erythroid progenitor cell                        HSPC \n",
       "                       1375                         372 \n",
       "              M2 Macrophage                    Monocyte \n",
       "                         10                        1061 \n",
       "                  Neutrophi                  Neutrophil \n",
       "                        913                        2620 \n",
       "                    NK cell                      T cell \n",
       "                         50                         183 "
      ]
     },
     "metadata": {},
     "output_type": "display_data"
    }
   ],
   "source": [
    "table(data$Celltype_Merge)"
   ]
  },
  {
   "cell_type": "code",
   "execution_count": 17,
   "id": "b5861963",
   "metadata": {},
   "outputs": [
    {
     "data": {
      "text/plain": [
       "\n",
       "                      Astrocyte        Astrocyte(Bergmann glia) \n",
       "                             50                            1726 \n",
       "                         B cell                Endothelial cell \n",
       "                             34                             159 \n",
       "                Epithelial cell               Excitatory neuron \n",
       "                              7                             226 \n",
       "              Inhibitory neuron                     Interneuron \n",
       "                             11                              67 \n",
       "                     Macrophage                       Microglia \n",
       "                           1619                             117 \n",
       "                    Neuthrophil                 Oligodendrocyte \n",
       "                            401                            2346 \n",
       "Oligodendrocyte progenitor cell              Smooth muscle cell \n",
       "                            291                              59 \n",
       "                   Stromal cell                          T cell \n",
       "                            138                              73 "
      ]
     },
     "metadata": {},
     "output_type": "display_data"
    }
   ],
   "source": [
    "## Brain cerenellum\n",
    "data<-readRDS('Adult-Cerebellum_protein_coding_integrated_rmbatch.rds')\n",
    "unique(data$Celltype_Merge)"
   ]
  },
  {
   "cell_type": "code",
   "execution_count": 18,
   "id": "012b9a8d",
   "metadata": {},
   "outputs": [
    {
     "data": {
      "text/html": [
       "<style>\n",
       ".list-inline {list-style: none; margin:0; padding: 0}\n",
       ".list-inline>li {display: inline-block}\n",
       ".list-inline>li:not(:last-child)::after {content: \"\\00b7\"; padding: 0 .5ex}\n",
       "</style>\n",
       "<ol class=list-inline><li>'Oligodendrocyte'</li><li>'Epithelial cell'</li><li>'Macrophage'</li><li>'Neuthrophil'</li><li>'Interneuron'</li><li>'Astrocyte(Bergmann glia)'</li><li>'Microglia'</li><li>'Inhibitory neuron'</li><li>'Oligodendrocyte progenitor cell'</li><li>'Smooth muscle cell'</li><li>'B cell'</li><li>'Endothelial cell'</li><li>'T cell'</li><li>'Astrocyte'</li><li>'Stromal cell'</li><li>'Excitatory neuron'</li></ol>\n"
      ],
      "text/latex": [
       "\\begin{enumerate*}\n",
       "\\item 'Oligodendrocyte'\n",
       "\\item 'Epithelial cell'\n",
       "\\item 'Macrophage'\n",
       "\\item 'Neuthrophil'\n",
       "\\item 'Interneuron'\n",
       "\\item 'Astrocyte(Bergmann glia)'\n",
       "\\item 'Microglia'\n",
       "\\item 'Inhibitory neuron'\n",
       "\\item 'Oligodendrocyte progenitor cell'\n",
       "\\item 'Smooth muscle cell'\n",
       "\\item 'B cell'\n",
       "\\item 'Endothelial cell'\n",
       "\\item 'T cell'\n",
       "\\item 'Astrocyte'\n",
       "\\item 'Stromal cell'\n",
       "\\item 'Excitatory neuron'\n",
       "\\end{enumerate*}\n"
      ],
      "text/markdown": [
       "1. 'Oligodendrocyte'\n",
       "2. 'Epithelial cell'\n",
       "3. 'Macrophage'\n",
       "4. 'Neuthrophil'\n",
       "5. 'Interneuron'\n",
       "6. 'Astrocyte(Bergmann glia)'\n",
       "7. 'Microglia'\n",
       "8. 'Inhibitory neuron'\n",
       "9. 'Oligodendrocyte progenitor cell'\n",
       "10. 'Smooth muscle cell'\n",
       "11. 'B cell'\n",
       "12. 'Endothelial cell'\n",
       "13. 'T cell'\n",
       "14. 'Astrocyte'\n",
       "15. 'Stromal cell'\n",
       "16. 'Excitatory neuron'\n",
       "\n",
       "\n"
      ],
      "text/plain": [
       " [1] \"Oligodendrocyte\"                 \"Epithelial cell\"                \n",
       " [3] \"Macrophage\"                      \"Neuthrophil\"                    \n",
       " [5] \"Interneuron\"                     \"Astrocyte(Bergmann glia)\"       \n",
       " [7] \"Microglia\"                       \"Inhibitory neuron\"              \n",
       " [9] \"Oligodendrocyte progenitor cell\" \"Smooth muscle cell\"             \n",
       "[11] \"B cell\"                          \"Endothelial cell\"               \n",
       "[13] \"T cell\"                          \"Astrocyte\"                      \n",
       "[15] \"Stromal cell\"                    \"Excitatory neuron\"              "
      ]
     },
     "metadata": {},
     "output_type": "display_data"
    }
   ],
   "source": [
    "unique(data$Celltype_Merge)"
   ]
  },
  {
   "cell_type": "code",
   "execution_count": 14,
   "id": "174a51f4",
   "metadata": {},
   "outputs": [],
   "source": [
    "data2 <- readRDS('../protein_coding_new_celltype/Adult-Lung_protein_coding_integrated_rmbatch.rds')"
   ]
  },
  {
   "cell_type": "code",
   "execution_count": 16,
   "id": "2e5ed0e2",
   "metadata": {},
   "outputs": [
    {
     "data": {
      "text/plain": [
       "\n",
       "    Alveolar bipotent              AT1 cell              AT2 cell \n",
       "                  271                  1329                  4808 \n",
       "               B cell Bronchial chondrocyte         Ciliated cell \n",
       "                  227                    29                    70 \n",
       "           Clara cell               DELETED        Dendritic cell \n",
       "                  592                   436                  1086 \n",
       "     Endothelial cell       Epithelial cell            Macrophage \n",
       "                 3667                   364                  5015 \n",
       "            Mast cell         Megakaryocyte          Myeloid cell \n",
       "                  789                    16                   325 \n",
       "  Natural killer cell            Neutrophil              NKT cell \n",
       "                 2037                  1131                   143 \n",
       "           Plasmocyte    Proliferating cell  Proliferating T cell \n",
       "                  149                   188                    65 \n",
       "   Smooth muscle cell          Stromal cell                T cell \n",
       "                  593                    72                   649 "
      ]
     },
     "metadata": {},
     "output_type": "display_data"
    }
   ],
   "source": [
    "table(data2$new_celltype)"
   ]
  },
  {
   "cell_type": "code",
   "execution_count": 19,
   "id": "6a3460da",
   "metadata": {},
   "outputs": [],
   "source": [
    "tissue_list <- c('Adult-Bladder','Adult-Cerebellum','Adult-Lung')\n",
    "input_seur <- read.csv('/gpfs/ysm/pi/zhao-data/wd262/sc_immune/sc_immune/Real_application/E-MTAB-62/Celltype_annotation_all.csv')"
   ]
  },
  {
   "cell_type": "code",
   "execution_count": 21,
   "id": "14e9a91a",
   "metadata": {},
   "outputs": [
    {
     "data": {
      "text/plain": [
       "\n",
       "                  (DELETED)                 Acinar cell \n",
       "                         10                           1 \n",
       "          activative T cell                   Adipocyte \n",
       "                          1                           2 \n",
       "                 Alpha cell           Alveolar bipotent \n",
       "                          1                           2 \n",
       "    Antigen-presenting cell              Apoptotic cell \n",
       "                          1                           1 \n",
       "                  Astrocyte                    AT1 cell \n",
       "                          3                           2 \n",
       "                   AT2 cell                      B cell \n",
       "                          1                          25 \n",
       "                 Basal cell                   Beta cell \n",
       "                          3                           1 \n",
       "      Bronchial chondrocyte               Cardiomyocyte \n",
       "                          1                           2 \n",
       "            Chromaffin cell               Ciliated cell \n",
       "                          1                           1 \n",
       "                 Clara cell            D cell/ X/A cell \n",
       "                          1                           1 \n",
       "             Dendritic cell                 Ductal cell \n",
       "                         16                           1 \n",
       "           Endometrial cell            Endothelial cell \n",
       "                          1                          32 \n",
       "         Enteric glial cell                  Enterocyte \n",
       "                          1                           7 \n",
       "       Enteroendocrine cell                  Eosinophil \n",
       "                          1                           1 \n",
       "             Ependymal cell             Epithelial cell \n",
       "                          1                          16 \n",
       "             Erythroid cell               Exocrine cell \n",
       "                          9                           1 \n",
       "  Fast skeletal muscle cell                  Fibroblast \n",
       "                          1                          17 \n",
       "            Follicular cell          Gastric chief cell \n",
       "                          2                           1 \n",
       "        Gastric mucosa cell                 Goblet cell \n",
       "                          1                           3 \n",
       "                Granulocyte                        HSPC \n",
       "                          1                           1 \n",
       "                 IC-tran-PC           Inflammatory cell \n",
       "                          1                           2 \n",
       "          Intercalated cell                Keratinocyte \n",
       "                          1                           2 \n",
       "              Loop of henle                Luminal cell \n",
       "                          3                           1 \n",
       "                 Lymphocyte    Lymphoid progenitor cell \n",
       "                          1                           1 \n",
       "                 Macrophage                   Mast cell \n",
       "                         28                          14 \n",
       "              Megakaryocyte                  Melanocyte \n",
       "                          1                           1 \n",
       "           Mesenchymal cell                   Microglia \n",
       "                          1                           2 \n",
       "                   Monocyte                MT high cell \n",
       "                          2                           1 \n",
       "               Mucosal cell      Muscle progenitor cell \n",
       "                          1                           1 \n",
       "               Myeloid cell     Myeloid progenitor cell \n",
       "                          5                           1 \n",
       "                    Myocyte     Myogenic precursor cell \n",
       "                          1                           1 \n",
       "        Natural killer cell         Neuroendocrine cell \n",
       "                          6                           1 \n",
       "                     Neuron                  Neutrophil \n",
       "                          6                          18 \n",
       "                    NK cell                    NKT cell \n",
       "                          1                           1 \n",
       "            Oligodendrocyte                  Osteoblast \n",
       "                          4                           1 \n",
       "                Paneth cell               Parietal cell \n",
       "                          1                           1 \n",
       "                   Pit cell                  Plasmocyte \n",
       "                          1                           1 \n",
       "             Principle cell       Proliferating  B cell \n",
       "                          1                           1 \n",
       "         Proliferating cell        Proliferating T cell \n",
       "                          9                           1 \n",
       "              Purkinje cell                 Radial glia \n",
       "                          1                           2 \n",
       "       Skeletal muscle cell          Smooth muscle cell \n",
       "                          1                          18 \n",
       "               Stromal cell                      T cell \n",
       "                         15                          24 \n",
       "                Tubule cell             Urothelial cell \n",
       "                          2                           2 \n",
       "Vascular smooth muscle cell       Zona fasciculata cell \n",
       "                          1                           1 "
      ]
     },
     "metadata": {},
     "output_type": "display_data"
    }
   ],
   "source": [
    "table(input_seur$new_cell_type)"
   ]
  },
  {
   "cell_type": "code",
   "execution_count": null,
   "id": "fb99819f",
   "metadata": {},
   "outputs": [],
   "source": [
    "for(i in 1:length(input_seur)){\n",
    "#i=1\n",
    "    idx <- grep(tissue_list[i],input_seur)\n",
    "    if(length(idx) !=1 ) next\n",
    "    seur <- readRDS(paste0(\n",
    "        '/gpfs/loomis/pi/zhao2/wd262/shared_data/HCL/seurat_object/integrate_seurat_obj/protein_coding/',input_seur[idx]))\n",
    "    celltype_list<-dat_csv[dat_csv$tissue %in% tissue_list[i],]\n",
    "    new_celltype <- sapply(seur$Celltype_Merge, function(x) celltype_list[celltype_list[,1] %in% x,2])\n",
    "    names(new_celltype) <- NULL\n",
    "    seur <- AddMetaData(seur, new_celltype, col.name= 'new_celltype')  \n",
    "    saveRDS(seur, paste0(\n",
    "        '/gpfs/loomis/pi/zhao2/wd262/shared_data/HCL/seurat_object/integrate_seurat_obj/protein_coding_new_celltype/',input_seur[idx]))                      \n",
    "}"
   ]
  },
  {
   "cell_type": "code",
   "execution_count": null,
   "id": "51a12966",
   "metadata": {},
   "outputs": [],
   "source": []
  }
 ],
 "metadata": {
  "kernelspec": {
   "display_name": "R",
   "language": "R",
   "name": "ir"
  },
  "language_info": {
   "codemirror_mode": "r",
   "file_extension": ".r",
   "mimetype": "text/x-r-source",
   "name": "R",
   "pygments_lexer": "r",
   "version": "3.6.1"
  }
 },
 "nbformat": 4,
 "nbformat_minor": 5
}
