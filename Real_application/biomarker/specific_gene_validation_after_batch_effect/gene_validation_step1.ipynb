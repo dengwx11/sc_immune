{
 "cells": [
  {
   "cell_type": "code",
   "execution_count": 1,
   "metadata": {},
   "outputs": [],
   "source": [
    "setwd(\"/gpfs/ysm/pi/zhao-data/wd262/sc_immune/sc_immune/Real_application/biomarker/specific_gene_validation_after_batch_effect\")"
   ]
  },
  {
   "cell_type": "code",
   "execution_count": 11,
   "metadata": {},
   "outputs": [],
   "source": [
    "dee2 <- read.csv(\"./hsapiens_se.tsv.matrix.csv.pass.csv.tpm.csv.QuantileNormal.csv.Trans.csv.Descriptive.wenxuan.csv\")\n",
    "recount2 <- read.csv(\"./recount2.total.csv.tpm.csv.pass.csv.QuantileNormalized.txt.Trans.csv.Descriptive.csv\")\n",
    "#supp <- read.table(\"./SuppTable7.DynaRangeGlobalExpSpecificityxlsx.xlsx\")\n",
    "\n"
   ]
  },
  {
   "cell_type": "code",
   "execution_count": 12,
   "metadata": {},
   "outputs": [
    {
     "name": "stdout",
     "output_type": "stream",
     "text": [
      "'data.frame':\t25488 obs. of  26 variables:\n",
      " $ GeneID  : int  10193 130813 126147 8733 6620 105370646 100996645 29777 4668 55055 ...\n",
      " $ Size    : int  61020 61020 61020 61020 61020 61020 61020 61020 61020 61020 ...\n",
      " $ Mean    : num  0.6768 0.0599 0.1813 0.8696 0.1665 ...\n",
      " $ Variance: num  0.00909 0.00654 0.0147 0.01129 0.05393 ...\n",
      " $ Skewness: num  -1.547 2.44 0.498 -3.343 1.841 ...\n",
      " $ IQR     : num  0.1127 0.0908 0.168 0.085 0.2497 ...\n",
      " $ Q5      : num  0.545 0 0 0.688 0 ...\n",
      " $ Q10     : num  0.574 0 0 0.766 0 ...\n",
      " $ Q15     : num  0.5932 0 0.0433 0.8029 0 ...\n",
      " $ Q20     : num  0.6088 0 0.0604 0.8278 0 ...\n",
      " $ Q25     : num  0.62286 0.00151 0.09219 0.84558 0 ...\n",
      " $ Q30     : num  0.63541 0.00326 0.1134 0.85963 0 ...\n",
      " $ Q35     : num  0.6471 0.0047 0.133 0.871 0 ...\n",
      " $ Q40     : num  0.6586 0.0129 0.1501 0.8808 0 ...\n",
      " $ Q45     : num  0.6696 0.0193 0.166 0.8893 0.0502 ...\n",
      " $ Q50     : num  0.6806 0.03 0.1808 0.8969 0.0663 ...\n",
      " $ Q55     : num  0.6915 0.0403 0.1956 0.9038 0.0955 ...\n",
      " $ Q60     : num  0.702 0.052 0.21 0.911 0.126 ...\n",
      " $ Q65     : num  0.7132 0.0638 0.2256 0.9173 0.1604 ...\n",
      " $ Q70     : num  0.724 0.077 0.242 0.924 0.2 ...\n",
      " $ Q75     : num  0.7355 0.0923 0.2602 0.9306 0.2497 ...\n",
      " $ Q80     : num  0.748 0.11 0.28 0.937 0.308 ...\n",
      " $ Q85     : num  0.764 0.13 0.304 0.945 0.379 ...\n",
      " $ Q90     : num  0.786 0.158 0.335 0.954 0.481 ...\n",
      " $ Q95     : num  0.818 0.208 0.383 0.965 0.674 ...\n",
      " $ Onset   : num  0.00241 0.24253 0.13029 0.00195 0.40833 ...\n",
      "'data.frame':\t24972 obs. of  26 variables:\n",
      " $ X10193             : int  130813 126147 8733 6620 105370646 100996645 29777 4668 55055 101927685 ...\n",
      " $ X39863             : int  39863 39863 39863 39863 39863 39863 39863 39863 39863 39863 ...\n",
      " $ X0.628315011188312 : num  0.0379 0.1353 0.7877 0.1661 0.0151 ...\n",
      " $ X0.0232253007567076: num  0.0036 0.01629 0.04155 0.06981 0.00401 ...\n",
      " $ X.1.77420707980669 : num  2.55 1.22 -2.02 1.96 6.62 ...\n",
      " $ X0.138322          : num  0.056 0.214 0.166 0.224 0 ...\n",
      " $ X0.328588          : num  0 0 0.327 0 0 ...\n",
      " $ X0.474645          : num  0 0 0.498 0 0 ...\n",
      " $ X0.529158          : num  0 0 0.612 0 0 ...\n",
      " $ X0.559428          : num  0 0 0.691 0 0 ...\n",
      " $ X0.580592          : num  0 0 0.748 0 0 ...\n",
      " $ X0.597521          : num  0 0.0294 0.7869 0 0 ...\n",
      " $ X0.612089          : num  0 0.0614 0.8155 0 0 ...\n",
      " $ X0.625178          : num  0.00144 0.085 0.83588 0 0 ...\n",
      " $ X0.637678          : num  0.00427 0.1073 0.85167 0 0 ...\n",
      " $ X0.650235          : num  0.00795 0.12715 0.86479 0.03703 0 ...\n",
      " $ X0.663126          : num  0.0143 0.146 0.8766 0.0657 0 ...\n",
      " $ X0.676672          : num  0.0212 0.1631 0.8868 0.0932 0 ...\n",
      " $ X0.690777          : num  0.0309 0.1797 0.8965 0.1288 0 ...\n",
      " $ X0.704651          : num  0.0426 0.1965 0.9056 0.1719 0 ...\n",
      " $ X0.718914          : num  0.056 0.214 0.914 0.224 0 ...\n",
      " $ X0.734794          : num  0.0718 0.2329 0.9234 0.2947 0 ...\n",
      " $ X0.755164          : num  0.0909 0.2556 0.9329 0.3768 0 ...\n",
      " $ X0.779503          : num  0.116 0.287 0.944 0.517 0 ...\n",
      " $ X0.814036          : num  0.16 0.343 0.957 0.936 0.132 ...\n",
      " $ X0.0114642651079949: num  0.3865 0.2895 0.0184 0.4837 0.9178 ...\n"
     ]
    }
   ],
   "source": [
    "str(dee2)\n",
    "str(recount2)"
   ]
  },
  {
   "cell_type": "code",
   "execution_count": null,
   "metadata": {},
   "outputs": [],
   "source": []
  }
 ],
 "metadata": {
  "kernelspec": {
   "display_name": "R",
   "language": "R",
   "name": "ir"
  },
  "language_info": {
   "codemirror_mode": "r",
   "file_extension": ".r",
   "mimetype": "text/x-r-source",
   "name": "R",
   "pygments_lexer": "r",
   "version": "3.6.1"
  }
 },
 "nbformat": 4,
 "nbformat_minor": 4
}
