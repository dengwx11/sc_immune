{
 "cells": [
  {
   "cell_type": "code",
   "execution_count": 4,
   "metadata": {},
   "outputs": [],
   "source": [
    "dir <- '/gpfs/loomis/pi/zhao2/cs2629/SARC_BAL'\n",
    "bulk.rawcount <- read.table(paste0(dir,\"/rawcounts_matrix_corrected_BAL209_withAnnot.txt\"),header=T)"
   ]
  },
  {
   "cell_type": "code",
   "execution_count": 7,
   "metadata": {},
   "outputs": [],
   "source": [
    "library('biomaRt')\n",
    "#ensembl = useMart(\"ensembl\", dataset=\"hsapiens_gene_ensembl\")\n",
    "#gb <- getBM(attributes=c(\"affy_hg_u95av2\",\"ensembl_transcript_id\",\"gene_biotype\",\"hgnc_symbol\"),filters = c(\"biotype\"), values=list('protein_coding'), mart=ensembl)\n",
    "\n",
    "#protein_coding_gene <- rownames(seur)[protein_coding_idx]\n",
    "\n",
    "mart <- useMart(\"ENSEMBL_MART_ENSEMBL\")\n",
    "mart <- useDataset(\"hsapiens_gene_ensembl\", mart)\n",
    "annotLookup <- getBM(\n",
    "  mart=mart,\n",
    "  attributes=c(\n",
    "    \"gene_biotype\",\n",
    "    \"hgnc_symbol\"),\n",
    "  values = bulk.rawcount$GeneID, uniqueRows=TRUE)\n",
    "\n"
   ]
  },
  {
   "cell_type": "code",
   "execution_count": 12,
   "metadata": {},
   "outputs": [],
   "source": [
    "annotLookup <- annotLookup[annotLookup$gene_biotype %in% c('protein_coding'),]"
   ]
  },
  {
   "cell_type": "code",
   "execution_count": 14,
   "metadata": {},
   "outputs": [
    {
     "name": "stdout",
     "output_type": "stream",
     "text": [
      "'data.frame':\t19373 obs. of  2 variables:\n",
      " $ gene_biotype: chr  \"protein_coding\" \"protein_coding\" \"protein_coding\" \"protein_coding\" ...\n",
      " $ hgnc_symbol : chr  \"MT-ND1\" \"MT-ND2\" \"MT-CO1\" \"MT-CO2\" ...\n"
     ]
    }
   ],
   "source": [
    "str(annotLookup)"
   ]
  },
  {
   "cell_type": "code",
   "execution_count": 15,
   "metadata": {},
   "outputs": [],
   "source": [
    "bulk.rawcount <- bulk.rawcount[bulk.rawcount$GeneID %in% annotLookup$hgnc_symbol,]"
   ]
  },
  {
   "cell_type": "code",
   "execution_count": 16,
   "metadata": {},
   "outputs": [
    {
     "data": {
      "text/html": [
       "<table>\n",
       "<caption>A data.frame: 6 × 215</caption>\n",
       "<thead>\n",
       "\t<tr><th></th><th scope=col>GeneID</th><th scope=col>Chr</th><th scope=col>Start</th><th scope=col>End</th><th scope=col>Strand</th><th scope=col>Length</th><th scope=col>X01B9020_010</th><th scope=col>X01B9021_011</th><th scope=col>X01B9022_001</th><th scope=col>X01B9023_012</th><th scope=col>⋯</th><th scope=col>X09B9421_012</th><th scope=col>X09B9422_015</th><th scope=col>X09B9423_003</th><th scope=col>X09B9426_003</th><th scope=col>X09B9427_012</th><th scope=col>X09B9428_010</th><th scope=col>X09B9431_015</th><th scope=col>X09B9436_013</th><th scope=col>X09B9439_016</th><th scope=col>X10B9379_003</th></tr>\n",
       "\t<tr><th></th><th scope=col>&lt;fct&gt;</th><th scope=col>&lt;fct&gt;</th><th scope=col>&lt;fct&gt;</th><th scope=col>&lt;fct&gt;</th><th scope=col>&lt;fct&gt;</th><th scope=col>&lt;int&gt;</th><th scope=col>&lt;int&gt;</th><th scope=col>&lt;int&gt;</th><th scope=col>&lt;int&gt;</th><th scope=col>&lt;int&gt;</th><th scope=col>⋯</th><th scope=col>&lt;int&gt;</th><th scope=col>&lt;int&gt;</th><th scope=col>&lt;int&gt;</th><th scope=col>&lt;int&gt;</th><th scope=col>&lt;int&gt;</th><th scope=col>&lt;int&gt;</th><th scope=col>&lt;int&gt;</th><th scope=col>&lt;int&gt;</th><th scope=col>&lt;int&gt;</th><th scope=col>&lt;int&gt;</th></tr>\n",
       "</thead>\n",
       "<tbody>\n",
       "\t<tr><th scope=row>14</th><td>OR4F5 </td><td>chr1                                                                                          </td><td>69091                                                                                                                               </td><td>70008                                                                                                                               </td><td>+                                    </td><td> 918</td><td>  0</td><td>   2</td><td>   0</td><td>   0</td><td>⋯</td><td>   1</td><td>  1</td><td>  0</td><td>   0</td><td>  0</td><td>  0</td><td>   0</td><td>   1</td><td>   0</td><td>  0</td></tr>\n",
       "\t<tr><th scope=row>17</th><td>OR4F29</td><td>chr1;chr1;chr5                                                                                </td><td>450740;685716;181367287                                                                                                             </td><td>451678;686654;181368225                                                                                                             </td><td>-;-;+                                </td><td>2817</td><td>  1</td><td>   2</td><td>   3</td><td>   3</td><td>⋯</td><td>   3</td><td>  0</td><td>  0</td><td>   0</td><td>  3</td><td>  3</td><td>   0</td><td>   1</td><td>   2</td><td>  0</td></tr>\n",
       "\t<tr><th scope=row>18</th><td>OR4F3 </td><td>chr1;chr1;chr5                                                                                </td><td>450740;685716;181367287                                                                                                             </td><td>451678;686654;181368225                                                                                                             </td><td>-;-;+                                </td><td>2817</td><td>  1</td><td>   2</td><td>   3</td><td>   3</td><td>⋯</td><td>   3</td><td>  0</td><td>  0</td><td>   0</td><td>  3</td><td>  3</td><td>   0</td><td>   1</td><td>   2</td><td>  0</td></tr>\n",
       "\t<tr><th scope=row>19</th><td>OR4F16</td><td>chr1;chr1;chr5                                                                                </td><td>450740;685716;181367287                                                                                                             </td><td>451678;686654;181368225                                                                                                             </td><td>-;-;+                                </td><td>2817</td><td>  1</td><td>   2</td><td>   3</td><td>   3</td><td>⋯</td><td>   3</td><td>  0</td><td>  0</td><td>   0</td><td>  3</td><td>  3</td><td>   0</td><td>   1</td><td>   2</td><td>  0</td></tr>\n",
       "\t<tr><th scope=row>31</th><td>SAMD11</td><td>chr1;chr1;chr1;chr1;chr1;chr1;chr1;chr1;chr1;chr1;chr1;chr1;chr1;chr1                         </td><td>925741;925922;930155;931039;935772;939040;939275;941144;942136;942410;942559;943253;943698;943908                                   </td><td>925800;926013;930336;931089;935896;939129;939460;941306;942251;942488;943058;943377;943808;944581                                   </td><td>+;+;+;+;+;+;+;+;+;+;+;+;+;+          </td><td>2554</td><td> 73</td><td>  64</td><td> 107</td><td> 138</td><td>⋯</td><td> 128</td><td>112</td><td> 40</td><td> 151</td><td>175</td><td> 45</td><td> 210</td><td> 188</td><td> 160</td><td> 78</td></tr>\n",
       "\t<tr><th scope=row>32</th><td>NOC2L </td><td>chr1;chr1;chr1;chr1;chr1;chr1;chr1;chr1;chr1;chr1;chr1;chr1;chr1;chr1;chr1;chr1;chr1;chr1;chr1</td><td>944203;945057;945518;946173;946402;948131;948490;951127;952000;952412;953175;953782;954004;955923;956095;956894;957099;958929;959215</td><td>944800;945146;945653;946286;946545;948232;948603;951238;952139;952600;953288;953892;954082;956013;956215;957025;957273;959081;959299</td><td>-;-;-;-;-;-;-;-;-;-;-;-;-;-;-;-;-;-;-</td><td>2800</td><td>702</td><td>1068</td><td>1514</td><td>1859</td><td>⋯</td><td>1162</td><td>599</td><td>622</td><td>1010</td><td>908</td><td>477</td><td>1529</td><td>1299</td><td>1050</td><td>978</td></tr>\n",
       "</tbody>\n",
       "</table>\n"
      ],
      "text/latex": [
       "A data.frame: 6 × 215\n",
       "\\begin{tabular}{r|lllllllllllllllllllll}\n",
       "  & GeneID & Chr & Start & End & Strand & Length & X01B9020\\_010 & X01B9021\\_011 & X01B9022\\_001 & X01B9023\\_012 & ⋯ & X09B9421\\_012 & X09B9422\\_015 & X09B9423\\_003 & X09B9426\\_003 & X09B9427\\_012 & X09B9428\\_010 & X09B9431\\_015 & X09B9436\\_013 & X09B9439\\_016 & X10B9379\\_003\\\\\n",
       "  & <fct> & <fct> & <fct> & <fct> & <fct> & <int> & <int> & <int> & <int> & <int> & ⋯ & <int> & <int> & <int> & <int> & <int> & <int> & <int> & <int> & <int> & <int>\\\\\n",
       "\\hline\n",
       "\t14 & OR4F5  & chr1                                                                                           & 69091                                                                                                                                & 70008                                                                                                                                & +                                     &  918 &   0 &    2 &    0 &    0 & ⋯ &    1 &   1 &   0 &    0 &   0 &   0 &    0 &    1 &    0 &   0\\\\\n",
       "\t17 & OR4F29 & chr1;chr1;chr5                                                                                 & 450740;685716;181367287                                                                                                              & 451678;686654;181368225                                                                                                              & -;-;+                                 & 2817 &   1 &    2 &    3 &    3 & ⋯ &    3 &   0 &   0 &    0 &   3 &   3 &    0 &    1 &    2 &   0\\\\\n",
       "\t18 & OR4F3  & chr1;chr1;chr5                                                                                 & 450740;685716;181367287                                                                                                              & 451678;686654;181368225                                                                                                              & -;-;+                                 & 2817 &   1 &    2 &    3 &    3 & ⋯ &    3 &   0 &   0 &    0 &   3 &   3 &    0 &    1 &    2 &   0\\\\\n",
       "\t19 & OR4F16 & chr1;chr1;chr5                                                                                 & 450740;685716;181367287                                                                                                              & 451678;686654;181368225                                                                                                              & -;-;+                                 & 2817 &   1 &    2 &    3 &    3 & ⋯ &    3 &   0 &   0 &    0 &   3 &   3 &    0 &    1 &    2 &   0\\\\\n",
       "\t31 & SAMD11 & chr1;chr1;chr1;chr1;chr1;chr1;chr1;chr1;chr1;chr1;chr1;chr1;chr1;chr1                          & 925741;925922;930155;931039;935772;939040;939275;941144;942136;942410;942559;943253;943698;943908                                    & 925800;926013;930336;931089;935896;939129;939460;941306;942251;942488;943058;943377;943808;944581                                    & +;+;+;+;+;+;+;+;+;+;+;+;+;+           & 2554 &  73 &   64 &  107 &  138 & ⋯ &  128 & 112 &  40 &  151 & 175 &  45 &  210 &  188 &  160 &  78\\\\\n",
       "\t32 & NOC2L  & chr1;chr1;chr1;chr1;chr1;chr1;chr1;chr1;chr1;chr1;chr1;chr1;chr1;chr1;chr1;chr1;chr1;chr1;chr1 & 944203;945057;945518;946173;946402;948131;948490;951127;952000;952412;953175;953782;954004;955923;956095;956894;957099;958929;959215 & 944800;945146;945653;946286;946545;948232;948603;951238;952139;952600;953288;953892;954082;956013;956215;957025;957273;959081;959299 & -;-;-;-;-;-;-;-;-;-;-;-;-;-;-;-;-;-;- & 2800 & 702 & 1068 & 1514 & 1859 & ⋯ & 1162 & 599 & 622 & 1010 & 908 & 477 & 1529 & 1299 & 1050 & 978\\\\\n",
       "\\end{tabular}\n"
      ],
      "text/markdown": [
       "\n",
       "A data.frame: 6 × 215\n",
       "\n",
       "| <!--/--> | GeneID &lt;fct&gt; | Chr &lt;fct&gt; | Start &lt;fct&gt; | End &lt;fct&gt; | Strand &lt;fct&gt; | Length &lt;int&gt; | X01B9020_010 &lt;int&gt; | X01B9021_011 &lt;int&gt; | X01B9022_001 &lt;int&gt; | X01B9023_012 &lt;int&gt; | ⋯ ⋯ | X09B9421_012 &lt;int&gt; | X09B9422_015 &lt;int&gt; | X09B9423_003 &lt;int&gt; | X09B9426_003 &lt;int&gt; | X09B9427_012 &lt;int&gt; | X09B9428_010 &lt;int&gt; | X09B9431_015 &lt;int&gt; | X09B9436_013 &lt;int&gt; | X09B9439_016 &lt;int&gt; | X10B9379_003 &lt;int&gt; |\n",
       "|---|---|---|---|---|---|---|---|---|---|---|---|---|---|---|---|---|---|---|---|---|---|\n",
       "| 14 | OR4F5  | chr1                                                                                           | 69091                                                                                                                                | 70008                                                                                                                                | +                                     |  918 |   0 |    2 |    0 |    0 | ⋯ |    1 |   1 |   0 |    0 |   0 |   0 |    0 |    1 |    0 |   0 |\n",
       "| 17 | OR4F29 | chr1;chr1;chr5                                                                                 | 450740;685716;181367287                                                                                                              | 451678;686654;181368225                                                                                                              | -;-;+                                 | 2817 |   1 |    2 |    3 |    3 | ⋯ |    3 |   0 |   0 |    0 |   3 |   3 |    0 |    1 |    2 |   0 |\n",
       "| 18 | OR4F3  | chr1;chr1;chr5                                                                                 | 450740;685716;181367287                                                                                                              | 451678;686654;181368225                                                                                                              | -;-;+                                 | 2817 |   1 |    2 |    3 |    3 | ⋯ |    3 |   0 |   0 |    0 |   3 |   3 |    0 |    1 |    2 |   0 |\n",
       "| 19 | OR4F16 | chr1;chr1;chr5                                                                                 | 450740;685716;181367287                                                                                                              | 451678;686654;181368225                                                                                                              | -;-;+                                 | 2817 |   1 |    2 |    3 |    3 | ⋯ |    3 |   0 |   0 |    0 |   3 |   3 |    0 |    1 |    2 |   0 |\n",
       "| 31 | SAMD11 | chr1;chr1;chr1;chr1;chr1;chr1;chr1;chr1;chr1;chr1;chr1;chr1;chr1;chr1                          | 925741;925922;930155;931039;935772;939040;939275;941144;942136;942410;942559;943253;943698;943908                                    | 925800;926013;930336;931089;935896;939129;939460;941306;942251;942488;943058;943377;943808;944581                                    | +;+;+;+;+;+;+;+;+;+;+;+;+;+           | 2554 |  73 |   64 |  107 |  138 | ⋯ |  128 | 112 |  40 |  151 | 175 |  45 |  210 |  188 |  160 |  78 |\n",
       "| 32 | NOC2L  | chr1;chr1;chr1;chr1;chr1;chr1;chr1;chr1;chr1;chr1;chr1;chr1;chr1;chr1;chr1;chr1;chr1;chr1;chr1 | 944203;945057;945518;946173;946402;948131;948490;951127;952000;952412;953175;953782;954004;955923;956095;956894;957099;958929;959215 | 944800;945146;945653;946286;946545;948232;948603;951238;952139;952600;953288;953892;954082;956013;956215;957025;957273;959081;959299 | -;-;-;-;-;-;-;-;-;-;-;-;-;-;-;-;-;-;- | 2800 | 702 | 1068 | 1514 | 1859 | ⋯ | 1162 | 599 | 622 | 1010 | 908 | 477 | 1529 | 1299 | 1050 | 978 |\n",
       "\n"
      ],
      "text/plain": [
       "   GeneID\n",
       "14 OR4F5 \n",
       "17 OR4F29\n",
       "18 OR4F3 \n",
       "19 OR4F16\n",
       "31 SAMD11\n",
       "32 NOC2L \n",
       "   Chr                                                                                           \n",
       "14 chr1                                                                                          \n",
       "17 chr1;chr1;chr5                                                                                \n",
       "18 chr1;chr1;chr5                                                                                \n",
       "19 chr1;chr1;chr5                                                                                \n",
       "31 chr1;chr1;chr1;chr1;chr1;chr1;chr1;chr1;chr1;chr1;chr1;chr1;chr1;chr1                         \n",
       "32 chr1;chr1;chr1;chr1;chr1;chr1;chr1;chr1;chr1;chr1;chr1;chr1;chr1;chr1;chr1;chr1;chr1;chr1;chr1\n",
       "   Start                                                                                                                               \n",
       "14 69091                                                                                                                               \n",
       "17 450740;685716;181367287                                                                                                             \n",
       "18 450740;685716;181367287                                                                                                             \n",
       "19 450740;685716;181367287                                                                                                             \n",
       "31 925741;925922;930155;931039;935772;939040;939275;941144;942136;942410;942559;943253;943698;943908                                   \n",
       "32 944203;945057;945518;946173;946402;948131;948490;951127;952000;952412;953175;953782;954004;955923;956095;956894;957099;958929;959215\n",
       "   End                                                                                                                                 \n",
       "14 70008                                                                                                                               \n",
       "17 451678;686654;181368225                                                                                                             \n",
       "18 451678;686654;181368225                                                                                                             \n",
       "19 451678;686654;181368225                                                                                                             \n",
       "31 925800;926013;930336;931089;935896;939129;939460;941306;942251;942488;943058;943377;943808;944581                                   \n",
       "32 944800;945146;945653;946286;946545;948232;948603;951238;952139;952600;953288;953892;954082;956013;956215;957025;957273;959081;959299\n",
       "   Strand                                Length X01B9020_010 X01B9021_011\n",
       "14 +                                      918     0             2        \n",
       "17 -;-;+                                 2817     1             2        \n",
       "18 -;-;+                                 2817     1             2        \n",
       "19 -;-;+                                 2817     1             2        \n",
       "31 +;+;+;+;+;+;+;+;+;+;+;+;+;+           2554    73            64        \n",
       "32 -;-;-;-;-;-;-;-;-;-;-;-;-;-;-;-;-;-;- 2800   702          1068        \n",
       "   X01B9022_001 X01B9023_012 ⋯ X09B9421_012 X09B9422_015 X09B9423_003\n",
       "14    0            0         ⋯    1           1            0         \n",
       "17    3            3         ⋯    3           0            0         \n",
       "18    3            3         ⋯    3           0            0         \n",
       "19    3            3         ⋯    3           0            0         \n",
       "31  107          138         ⋯  128         112           40         \n",
       "32 1514         1859         ⋯ 1162         599          622         \n",
       "   X09B9426_003 X09B9427_012 X09B9428_010 X09B9431_015 X09B9436_013\n",
       "14    0           0            0             0            1        \n",
       "17    0           3            3             0            1        \n",
       "18    0           3            3             0            1        \n",
       "19    0           3            3             0            1        \n",
       "31  151         175           45           210          188        \n",
       "32 1010         908          477          1529         1299        \n",
       "   X09B9439_016 X10B9379_003\n",
       "14    0           0         \n",
       "17    2           0         \n",
       "18    2           0         \n",
       "19    2           0         \n",
       "31  160          78         \n",
       "32 1050         978         "
      ]
     },
     "metadata": {},
     "output_type": "display_data"
    }
   ],
   "source": [
    "head(bulk.rawcount)"
   ]
  },
  {
   "cell_type": "code",
   "execution_count": 17,
   "metadata": {},
   "outputs": [],
   "source": [
    "truth <- readRDS(paste0(dir,\"/celldiff.rds\"))"
   ]
  },
  {
   "cell_type": "code",
   "execution_count": 19,
   "metadata": {},
   "outputs": [],
   "source": [
    "match_table = read.csv(\"/gpfs/ysm/pi/zhao-data/wd262/sc_immune/sc_immune/Real_application/BAL/matchID.csv\")\n",
    "bulkIDs = colnames(bulk.rawcount)[-c(1:7)]\n",
    "bulkIDs = substr(bulkIDs,2,8)\n",
    "match_table2 <- match_table[match(bulkIDs,match_table$BAL.Kits),]\n",
    "\n",
    "truth2 <- truth[match(match_table2$GRADS.ID,truth$GRADSID),]"
   ]
  },
  {
   "cell_type": "code",
   "execution_count": 57,
   "metadata": {},
   "outputs": [],
   "source": [
    "bulk_clean <- bulk.rawcount[,-c(1:7)]\n",
    "colnames(bulk_clean) <- truth2$GRADSID\n",
    "saveRDS(bulk_clean, '/gpfs/ysm/pi/zhao-data/wd262/sc_immune/sc_immune/data/BAL/bulk.rawcount.rds'),"
   ]
  },
  {
   "cell_type": "code",
   "execution_count": 60,
   "metadata": {},
   "outputs": [],
   "source": [
    "saveRDS(truth2,'/gpfs/ysm/pi/zhao-data/wd262/sc_immune/sc_immune/data/BAL/prop.truth.rds')"
   ]
  },
  {
   "cell_type": "code",
   "execution_count": 61,
   "metadata": {},
   "outputs": [],
   "source": [
    "## single cell\n",
    "lung.sc <- readRDS('/gpfs/loomis/pi/zhao2/wd262/shared_data/HCL/seurat_object/integrate_seurat_obj/protein_coding_new_celltype/Adult-Lung_protein_coding_integrated_rmbatch.rds')"
   ]
  },
  {
   "cell_type": "code",
   "execution_count": 65,
   "metadata": {},
   "outputs": [
    {
     "data": {
      "text/plain": [
       "\n",
       "    Alveolar bipotent              AT1 cell              AT2 cell \n",
       "                  271                  1329                  4808 \n",
       "               B cell Bronchial chondrocyte         Ciliated cell \n",
       "                  227                    29                    70 \n",
       "           Clara cell               DELETED        Dendritic cell \n",
       "                  592                   436                  1086 \n",
       "     Endothelial cell       Epithelial cell            Macrophage \n",
       "                 3667                   364                  5015 \n",
       "            Mast cell         Megakaryocyte          Myeloid cell \n",
       "                  789                    16                   325 \n",
       "  Natural killer cell            Neutrophil              NKT cell \n",
       "                 2037                  1131                   143 \n",
       "           Plasmocyte    Proliferating cell  Proliferating T cell \n",
       "                  149                   188                    65 \n",
       "   Smooth muscle cell          Stromal cell                T cell \n",
       "                  593                    72                   649 "
      ]
     },
     "metadata": {},
     "output_type": "display_data"
    }
   ],
   "source": [
    "table(lung.sc$Celltype_used)"
   ]
  },
  {
   "cell_type": "code",
   "execution_count": 66,
   "metadata": {},
   "outputs": [],
   "source": [
    "#lung.atlas <- readRDS('/gpfs/loomis/pi/zhao2/wd262/shared_data/LungAtlas/manuscriptVersion.Seuratv3.09222020.ProteinCoding.rds')"
   ]
  },
  {
   "cell_type": "code",
   "execution_count": 72,
   "metadata": {},
   "outputs": [],
   "source": [
    "lung.bal <- readRDS('/gpfs/loomis/pi/zhao2/cs2629/SARC_BAL/BAL_SCTransform_embedded_05_14_19.rds')"
   ]
  },
  {
   "cell_type": "code",
   "execution_count": 75,
   "metadata": {},
   "outputs": [
    {
     "data": {
      "text/plain": [
       "\n",
       "Alveolar_Macrophages             AM_CCL2+             AM_CCL4+ \n",
       "              114089                 2719                 2326 \n",
       "       AM_Cell_cycle           AM_CXCL10+         AM_Ferritin+ \n",
       "                4610                 4060                 4423 \n",
       "            AM_PPBP+             AM_SPP1+              B_cells \n",
       "                3530                 2928                  277 \n",
       "                cDC2           Cell_cycle            DC_mature \n",
       "                 985                  110                  394 \n",
       "   Dendritic_cells_C             Doublets     Epithelial_cells \n",
       "                1037                  434                  213 \n",
       "          Mast_cells            Multiplet                   NK \n",
       "                1003                 1187                  436 \n",
       "        Plasma_cells          T_cytotoxic             T_helper \n",
       "                 342                 4078                 7130 \n",
       "        T_regulatory \n",
       "                 365 "
      ]
     },
     "metadata": {},
     "output_type": "display_data"
    }
   ],
   "source": [
    "table(lung.bal$celltype)"
   ]
  },
  {
   "cell_type": "code",
   "execution_count": null,
   "metadata": {},
   "outputs": [],
   "source": []
  }
 ],
 "metadata": {
  "kernelspec": {
   "display_name": "R",
   "language": "R",
   "name": "ir"
  },
  "language_info": {
   "codemirror_mode": "r",
   "file_extension": ".r",
   "mimetype": "text/x-r-source",
   "name": "R",
   "pygments_lexer": "r",
   "version": "3.6.1"
  }
 },
 "nbformat": 4,
 "nbformat_minor": 4
}
