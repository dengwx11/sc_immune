{
 "cells": [
  {
   "cell_type": "code",
   "execution_count": 1,
   "metadata": {},
   "outputs": [],
   "source": [
    "bulk <- readRDS('/gpfs/loomis/pi/zhao2/wd262/shared_data/bulk/GEO/metabulk.rds')"
   ]
  },
  {
   "cell_type": "code",
   "execution_count": 6,
   "metadata": {},
   "outputs": [
    {
     "ename": "ERROR",
     "evalue": "Error in library(MetaIntegrator): there is no package called ‘MetaIntegrator’\n",
     "output_type": "error",
     "traceback": [
      "Error in library(MetaIntegrator): there is no package called ‘MetaIntegrator’\nTraceback:\n",
      "1. library(MetaIntegrator)"
     ]
    }
   ],
   "source": [
    "library(MetaIntegrator)"
   ]
  },
  {
   "cell_type": "code",
   "execution_count": 14,
   "metadata": {},
   "outputs": [
    {
     "name": "stdout",
     "output_type": "stream",
     "text": [
      "List of 10\n",
      " $ name         : chr \"GSE37912\"\n",
      " $ load_comment : chr \"Loaded with GEOquery\"\n",
      " $ class        : Named num [1:74] 0 0 0 0 0 0 0 0 0 0 ...\n",
      "  ..- attr(*, \"names\")= chr [1:74] \"GSM929799\" \"GSM929800\" \"GSM929801\" \"GSM929802\" ...\n",
      " $ keys         : Named chr [1:21788] \"TTLL10\" \"B3GALT6\" \"SCNN1D\" \"PUSL1\" ...\n",
      "  ..- attr(*, \"names\")= chr [1:21788] \"2315554\" \"2315633\" \"2315674\" \"2315739\" ...\n",
      " $ key_comment  : chr \"//[GENE NAME]// format\"\n",
      " $ pheno        :'data.frame':\t74 obs. of  35 variables:\n",
      "  ..$ title                  : Factor w/ 74 levels \"Control 11\",\"Control 12\",..: 1 2 3 5 6 8 9 24 38 39 ...\n",
      "  ..$ geo_accession          : chr [1:74] \"GSM929799\" \"GSM929800\" \"GSM929801\" \"GSM929802\" ...\n",
      "  ..$ status                 : Factor w/ 1 level \"Public on Jul 01 2012\": 1 1 1 1 1 1 1 1 1 1 ...\n",
      "  ..$ submission_date        : Factor w/ 1 level \"May 10 2012\": 1 1 1 1 1 1 1 1 1 1 ...\n",
      "  ..$ last_update_date       : Factor w/ 1 level \"Jul 01 2012\": 1 1 1 1 1 1 1 1 1 1 ...\n",
      "  ..$ type                   : Factor w/ 1 level \"RNA\": 1 1 1 1 1 1 1 1 1 1 ...\n",
      "  ..$ channel_count          : Factor w/ 1 level \"1\": 1 1 1 1 1 1 1 1 1 1 ...\n",
      "  ..$ source_name_ch1        : Factor w/ 6 levels \"AA_Complicated sarcoidosis_PBMCs\",..: 2 2 2 2 2 2 2 2 3 3 ...\n",
      "  ..$ organism_ch1           : Factor w/ 1 level \"Homo sapiens\": 1 1 1 1 1 1 1 1 1 1 ...\n",
      "  ..$ characteristics_ch1    : Factor w/ 2 levels \"ethnicity: African descent American (AA)\",..: 1 1 1 1 1 1 1 1 1 1 ...\n",
      "  ..$ characteristics_ch1.1  : Factor w/ 1 level \"cell type: peripheral blood mononuclear cells\": 1 1 1 1 1 1 1 1 1 1 ...\n",
      "  ..$ characteristics_ch1.2  : Factor w/ 3 levels \"diagnosis: Complicated sarcoidosis\",..: 2 2 2 2 2 2 2 2 3 3 ...\n",
      "  ..$ molecule_ch1           : Factor w/ 1 level \"total RNA\": 1 1 1 1 1 1 1 1 1 1 ...\n",
      "  ..$ extract_protocol_ch1   : Factor w/ 1 level \"Trizol extraction of total RNA was performed according to the manufacturer's instructions.\": 1 1 1 1 1 1 1 1 1 1 ...\n",
      "  ..$ label_ch1              : Factor w/ 1 level \"biotin\": 1 1 1 1 1 1 1 1 1 1 ...\n",
      "  ..$ label_protocol_ch1     : Factor w/ 1 level \"Biotinylated cRNA were prepared according to the standard Affymetrix protocol.\": 1 1 1 1 1 1 1 1 1 1 ...\n",
      "  ..$ taxid_ch1              : Factor w/ 1 level \"9606\": 1 1 1 1 1 1 1 1 1 1 ...\n",
      "  ..$ hyb_protocol           : Factor w/ 1 level \"Samples were hybridized with Affymetrix GeneChip Human Exon 1.0 ST Arrays per manufacturer’s instructions.\": 1 1 1 1 1 1 1 1 1 1 ...\n",
      "  ..$ scan_protocol          : Factor w/ 1 level \"Array scanning was performed according to the manufacturer's instruction by the University of Chicago Functiona\"| __truncated__: 1 1 1 1 1 1 1 1 1 1 ...\n",
      "  ..$ description            : Factor w/ 1 level \"Gene expression data from PBMC total RNA from healthy controls.\": 1 1 1 1 1 1 1 1 1 1 ...\n",
      "  ..$ description.1          : Factor w/ 74 levels \"Healthy_control_11\",..: 1 2 3 5 6 8 9 24 38 39 ...\n",
      "  ..$ data_processing        : Factor w/ 1 level \"The transcript expression data were summarized by RMA using the Affymetrix Power Tools (v.1.12.0) and were late\"| __truncated__: 1 1 1 1 1 1 1 1 1 1 ...\n",
      "  ..$ platform_id            : Factor w/ 1 level \"GPL5175\": 1 1 1 1 1 1 1 1 1 1 ...\n",
      "  ..$ contact_name           : Factor w/ 1 level \"Tong,,Zhou\": 1 1 1 1 1 1 1 1 1 1 ...\n",
      "  ..$ contact_institute      : Factor w/ 1 level \"University of Nevada School of Medicine\": 1 1 1 1 1 1 1 1 1 1 ...\n",
      "  ..$ contact_address        : Factor w/ 1 level \"1664 N Virginia St\": 1 1 1 1 1 1 1 1 1 1 ...\n",
      "  ..$ contact_city           : Factor w/ 1 level \"Reno\": 1 1 1 1 1 1 1 1 1 1 ...\n",
      "  ..$ contact_state          : Factor w/ 1 level \"NV\": 1 1 1 1 1 1 1 1 1 1 ...\n",
      "  ..$ contact_zip/postal_code: Factor w/ 1 level \"89557\": 1 1 1 1 1 1 1 1 1 1 ...\n",
      "  ..$ contact_country        : Factor w/ 1 level \"USA\": 1 1 1 1 1 1 1 1 1 1 ...\n",
      "  ..$ supplementary_file     : Factor w/ 74 levels \"ftp://ftp.ncbi.nlm.nih.gov/geo/samples/GSM929nnn/GSM929799/suppl/GSM929799_C11.CEL.gz\",..: 1 2 3 4 5 6 7 8 9 10 ...\n",
      "  ..$ data_row_count         : Factor w/ 1 level \"21788\": 1 1 1 1 1 1 1 1 1 1 ...\n",
      "  ..$ cell type:ch1          : chr [1:74] \"peripheral blood mononuclear cells\" \"peripheral blood mononuclear cells\" \"peripheral blood mononuclear cells\" \"peripheral blood mononuclear cells\" ...\n",
      "  ..$ diagnosis:ch1          : chr [1:74] \"Healthy\" \"Healthy\" \"Healthy\" \"Healthy\" ...\n",
      "  ..$ ethnicity:ch1          : chr [1:74] \"African descent American (AA)\" \"African descent American (AA)\" \"African descent American (AA)\" \"African descent American (AA)\" ...\n",
      " $ platform     : chr \"GPL5175\"\n",
      " $ expr         : num [1:21788, 1:74] 5.96 6.23 6.42 6.97 7.55 ...\n",
      "  ..- attr(*, \"dimnames\")=List of 2\n",
      "  .. ..$ : chr [1:21788] \"2315554\" \"2315633\" \"2315674\" \"2315739\" ...\n",
      "  .. ..$ : chr [1:74] \"GSM929799\" \"GSM929800\" \"GSM929801\" \"GSM929802\" ...\n",
      " $ exp_comment  : chr \"Data in log scale\"\n",
      " $ formattedName: chr \"GSE37912\"\n"
     ]
    }
   ],
   "source": [
    "str(bulk[[1]][2][[1]])"
   ]
  },
  {
   "cell_type": "code",
   "execution_count": 18,
   "metadata": {},
   "outputs": [
    {
     "data": {
      "text/html": [
       "15768"
      ],
      "text/latex": [
       "15768"
      ],
      "text/markdown": [
       "15768"
      ],
      "text/plain": [
       "[1] 15768"
      ]
     },
     "metadata": {},
     "output_type": "display_data"
    }
   ],
   "source": [
    "intersect(bulk[[1]][2][[1]]$keys,bulk[[1]][2][[1]]$keys)"
   ]
  },
  {
   "cell_type": "code",
   "execution_count": 15,
   "metadata": {},
   "outputs": [
    {
     "data": {
      "text/html": [
       "<style>\n",
       ".dl-inline {width: auto; margin:0; padding: 0}\n",
       ".dl-inline>dt, .dl-inline>dd {float: none; width: auto; display: inline-block}\n",
       ".dl-inline>dt::after {content: \":\\0020\"; padding-right: .5ex}\n",
       ".dl-inline>dt:not(:first-of-type) {padding-left: .5ex}\n",
       "</style><dl class=dl-inline><dt>2315554</dt><dd>'TTLL10'</dd><dt>2315633</dt><dd>'B3GALT6'</dd><dt>2315674</dt><dd>'SCNN1D'</dd><dt>2315739</dt><dd>'PUSL1'</dd><dt>2315894</dt><dd>'VWA1'</dd><dt>2315918</dt><dd>'ATAD3C'</dd></dl>\n"
      ],
      "text/latex": [
       "\\begin{description*}\n",
       "\\item[2315554] 'TTLL10'\n",
       "\\item[2315633] 'B3GALT6'\n",
       "\\item[2315674] 'SCNN1D'\n",
       "\\item[2315739] 'PUSL1'\n",
       "\\item[2315894] 'VWA1'\n",
       "\\item[2315918] 'ATAD3C'\n",
       "\\end{description*}\n"
      ],
      "text/markdown": [
       "2315554\n",
       ":   'TTLL10'2315633\n",
       ":   'B3GALT6'2315674\n",
       ":   'SCNN1D'2315739\n",
       ":   'PUSL1'2315894\n",
       ":   'VWA1'2315918\n",
       ":   'ATAD3C'\n",
       "\n"
      ],
      "text/plain": [
       "  2315554   2315633   2315674   2315739   2315894   2315918 \n",
       " \"TTLL10\" \"B3GALT6\"  \"SCNN1D\"   \"PUSL1\"    \"VWA1\"  \"ATAD3C\" "
      ]
     },
     "metadata": {},
     "output_type": "display_data"
    }
   ],
   "source": [
    "head(bulk[[1]][2][[1]]$keys)"
   ]
  },
  {
   "cell_type": "code",
   "execution_count": null,
   "metadata": {},
   "outputs": [],
   "source": []
  }
 ],
 "metadata": {
  "kernelspec": {
   "display_name": "R",
   "language": "R",
   "name": "ir"
  },
  "language_info": {
   "codemirror_mode": "r",
   "file_extension": ".r",
   "mimetype": "text/x-r-source",
   "name": "R",
   "pygments_lexer": "r",
   "version": "3.6.1"
  }
 },
 "nbformat": 4,
 "nbformat_minor": 4
}
