{
 "cells": [
  {
   "cell_type": "code",
   "execution_count": 1,
   "metadata": {},
   "outputs": [],
   "source": [
    "T <- 4\n",
    "D <- 500\n",
    "K <- 8\n",
    "corrupt_pi <- .6\n",
    "tau_w_para <- 1\n",
    "tau_xd_beta_para <- 1\n",
    "mcmc_samples_theta1 <- 15\n",
    "seed <- 2021"
   ]
  },
  {
   "cell_type": "code",
   "execution_count": 20,
   "metadata": {
    "scrolled": true
   },
   "outputs": [],
   "source": [
    "set.seed(seed)\n",
    "library(nnls)\n",
    "library(MuSiC)\n",
    "library(xbioc)\n",
    "library(ggplot2)\n",
    "library(Biobase)\n",
    "library(plotROC)\n",
    "#set.seed(2021)\n",
    "setwd('/gpfs/ysm/pi/zhao-data/wd262/sc_immune/sc_immune')\n",
    "source('SAME/run_same.v2.R')\n",
    "source('SAME/run_Simulation.R')\n",
    "source('Simulation_Results/prepare_simulation.R')\n",
    "#source('Batch_Correction/platform_batch_correction_combat.R')"
   ]
  },
  {
   "cell_type": "code",
   "execution_count": 12,
   "metadata": {},
   "outputs": [],
   "source": [
    "pi_ber = 0.3\n",
    "N = 200 # bulk Y sample size\n",
    "Iteration = 500 ## iteration number to get the largest angle between the vectors"
   ]
  },
  {
   "cell_type": "code",
   "execution_count": 13,
   "metadata": {},
   "outputs": [
    {
     "name": "stdout",
     "output_type": "stream",
     "text": [
      "[1] 0.4304184\n"
     ]
    }
   ],
   "source": [
    "same_input <- generate_same_input(T,D,K,pi_ber,N,Iteration,corrupt_pi=corrupt_pi)"
   ]
  },
  {
   "cell_type": "code",
   "execution_count": 21,
   "metadata": {},
   "outputs": [],
   "source": [
    "output_directory <- paste0(\"/gpfs/loomis/scratch60/zhao/wd262/sc_immune/simulation/corrupt/\",corrupt_pi*100)\n",
    "prepare_same_input_in_simulation(same_input, output_directory)"
   ]
  },
  {
   "cell_type": "code",
   "execution_count": 26,
   "metadata": {},
   "outputs": [
    {
     "data": {
      "text/html": [
       "<style>\n",
       ".list-inline {list-style: none; margin:0; padding: 0}\n",
       ".list-inline>li {display: inline-block}\n",
       ".list-inline>li:not(:last-child)::after {content: \"\\00b7\"; padding: 0 .5ex}\n",
       "</style>\n",
       "<ol class=list-inline><li>'1'</li><li>'2'</li><li>'3'</li><li>'4'</li></ol>\n"
      ],
      "text/latex": [
       "\\begin{enumerate*}\n",
       "\\item '1'\n",
       "\\item '2'\n",
       "\\item '3'\n",
       "\\item '4'\n",
       "\\end{enumerate*}\n"
      ],
      "text/markdown": [
       "1. '1'\n",
       "2. '2'\n",
       "3. '3'\n",
       "4. '4'\n",
       "\n",
       "\n"
      ],
      "text/plain": [
       "[1] \"1\" \"2\" \"3\" \"4\""
      ]
     },
     "metadata": {},
     "output_type": "display_data"
    }
   ],
   "source": [
    "as.character(c(1:T))"
   ]
  },
  {
   "cell_type": "code",
   "execution_count": 27,
   "metadata": {},
   "outputs": [],
   "source": [
    "target_tissue <- '1'\n",
    "files = list.files(path = output_directory,pattern = \"X_*\", full.names = TRUE)\n",
    "tissue_list <- as.character(c(1:T))\n",
    "celltype_used_list <- paste0(\"celltype \",c(1:K))\n",
    "YSG <- as.character(c(1:D))\n",
    "output_path = \"\"\n",
    "mcmc_samples_theta1=5\n",
    "Y0 <- read.table(paste0(output_directory, \"/Y0.txt\"), sep = \" \")"
   ]
  },
  {
   "cell_type": "code",
   "execution_count": 28,
   "metadata": {},
   "outputs": [
    {
     "name": "stdout",
     "output_type": "stream",
     "text": [
      "[1] 0 1\n",
      "[1] 1 1 1\n",
      "\n",
      "   0    1 \n",
      "3351  649 \n",
      "[1] 0 1 2\n",
      "[1] 2 3 2\n",
      "\n",
      "   0    1 \n",
      "2217 1783 \n",
      "[1] 0 1 2 3\n",
      "[1] 4 6 3\n",
      "\n",
      "   0    1 \n",
      "2277 1723 \n",
      "[1] 0 1 2 3 4\n",
      "[1]  7 10  4\n",
      "\n",
      "   0    1 \n",
      "2252 1748 \n",
      "[1] 0 1 2 3 4 5\n",
      "[1] 11 15  5\n",
      "\n",
      "   0    1 \n",
      "2212 1788 \n",
      "   user  system elapsed \n",
      " 13.343   0.296  13.659 \n"
     ]
    }
   ],
   "source": [
    "rst <- run_SAME(target_tissue,tissue_list,celltype_used_list,files,YSG,empirical_pi=0.3,mcmc_samples_theta1,\n",
    "                liger.turnon=FALSE,output_path)"
   ]
  },
  {
   "cell_type": "code",
   "execution_count": 34,
   "metadata": {},
   "outputs": [
    {
     "data": {
      "text/html": [
       "<style>\n",
       ".list-inline {list-style: none; margin:0; padding: 0}\n",
       ".list-inline>li {display: inline-block}\n",
       ".list-inline>li:not(:last-child)::after {content: \"\\00b7\"; padding: 0 .5ex}\n",
       "</style>\n",
       "<ol class=list-inline><li>'theta1'</li><li>'theta2'</li><li>'vg'</li><li>'averg_gamma'</li><li>'w_tissue_indicator'</li><li>'YSG'</li><li>'X'</li></ol>\n"
      ],
      "text/latex": [
       "\\begin{enumerate*}\n",
       "\\item 'theta1'\n",
       "\\item 'theta2'\n",
       "\\item 'vg'\n",
       "\\item 'averg\\_gamma'\n",
       "\\item 'w\\_tissue\\_indicator'\n",
       "\\item 'YSG'\n",
       "\\item 'X'\n",
       "\\end{enumerate*}\n"
      ],
      "text/markdown": [
       "1. 'theta1'\n",
       "2. 'theta2'\n",
       "3. 'vg'\n",
       "4. 'averg_gamma'\n",
       "5. 'w_tissue_indicator'\n",
       "6. 'YSG'\n",
       "7. 'X'\n",
       "\n",
       "\n"
      ],
      "text/plain": [
       "[1] \"theta1\"             \"theta2\"             \"vg\"                \n",
       "[4] \"averg_gamma\"        \"w_tissue_indicator\" \"YSG\"               \n",
       "[7] \"X\"                 "
      ]
     },
     "metadata": {},
     "output_type": "display_data"
    }
   ],
   "source": [
    "names(rst)"
   ]
  },
  {
   "cell_type": "code",
   "execution_count": 30,
   "metadata": {},
   "outputs": [
    {
     "name": "stdout",
     "output_type": "stream",
     "text": [
      "List of 11\n",
      " $ Y0     : num [1:500, 1:200] 1.07323 0.00181 0.01578 1.26291 0.03972 ...\n",
      " $ X      :List of 4\n",
      "  ..$ :Formal class 'Seurat' [package \"Seurat\"] with 12 slots\n",
      "  .. .. ..@ assays      :List of 1\n",
      "  .. .. .. ..$ RNA:Formal class 'Assay' [package \"Seurat\"] with 8 slots\n",
      "  .. .. .. .. .. ..@ counts       :Formal class 'dgCMatrix' [package \"Matrix\"] with 6 slots\n",
      "  .. .. .. .. .. .. .. ..@ i       : int [1:2374347] 1 2 4 5 6 7 9 10 11 12 ...\n",
      "  .. .. .. .. .. .. .. ..@ p       : int [1:5805] 0 415 830 1245 1660 2075 2490 2905 3320 3735 ...\n",
      "  .. .. .. .. .. .. .. ..@ Dim     : int [1:2] 500 5804\n",
      "  .. .. .. .. .. .. .. ..@ Dimnames:List of 2\n",
      "  .. .. .. .. .. .. .. .. ..$ : chr [1:500] \"1\" \"2\" \"3\" \"4\" ...\n",
      "  .. .. .. .. .. .. .. .. ..$ : chr [1:5804] \"1\" \"2\" \"3\" \"4\" ...\n",
      "  .. .. .. .. .. .. .. ..@ x       : num [1:2374347] 0.001 1.618 0.169 0.001 0.001 ...\n",
      "  .. .. .. .. .. .. .. ..@ factors : list()\n",
      "  .. .. .. .. .. ..@ data         :Formal class 'dgCMatrix' [package \"Matrix\"] with 6 slots\n",
      "  .. .. .. .. .. .. .. ..@ i       : int [1:2374347] 1 2 4 5 6 7 9 10 11 12 ...\n",
      "  .. .. .. .. .. .. .. ..@ p       : int [1:5805] 0 415 830 1245 1660 2075 2490 2905 3320 3735 ...\n",
      "  .. .. .. .. .. .. .. ..@ Dim     : int [1:2] 500 5804\n",
      "  .. .. .. .. .. .. .. ..@ Dimnames:List of 2\n",
      "  .. .. .. .. .. .. .. .. ..$ : chr [1:500] \"1\" \"2\" \"3\" \"4\" ...\n",
      "  .. .. .. .. .. .. .. .. ..$ : chr [1:5804] \"1\" \"2\" \"3\" \"4\" ...\n",
      "  .. .. .. .. .. .. .. ..@ x       : num [1:2374347] 0.001 1.618 0.169 0.001 0.001 ...\n",
      "  .. .. .. .. .. .. .. ..@ factors : list()\n",
      "  .. .. .. .. .. ..@ scale.data   : num[0 , 0 ] \n",
      "  .. .. .. .. .. ..@ key          : chr \"rna_\"\n",
      "  .. .. .. .. .. ..@ assay.orig   : NULL\n",
      "  .. .. .. .. .. ..@ var.features : logi(0) \n",
      "  .. .. .. .. .. ..@ meta.features:'data.frame':\t500 obs. of  0 variables\n",
      "  .. .. .. .. .. ..@ misc         : NULL\n",
      "  .. .. ..@ meta.data   :'data.frame':\t5804 obs. of  4 variables:\n",
      "  .. .. .. ..$ orig.ident   : Factor w/ 1 level \"SeuratProject\": 1 1 1 1 1 1 1 1 1 1 ...\n",
      "  .. .. .. ..$ nCount_RNA   : num [1:5804] 469 476 494 507 443 ...\n",
      "  .. .. .. ..$ nFeature_RNA : int [1:5804] 415 415 415 415 415 415 415 415 415 415 ...\n",
      "  .. .. .. ..$ Celltype_used: chr [1:5804] \"celltype 1\" \"celltype 1\" \"celltype 1\" \"celltype 1\" ...\n",
      "  .. .. ..@ active.assay: chr \"RNA\"\n",
      "  .. .. ..@ active.ident: Factor w/ 1 level \"SeuratProject\": 1 1 1 1 1 1 1 1 1 1 ...\n",
      "  .. .. .. ..- attr(*, \"names\")= chr [1:5804] \"1\" \"2\" \"3\" \"4\" ...\n",
      "  .. .. ..@ graphs      : list()\n",
      "  .. .. ..@ neighbors   : list()\n",
      "  .. .. ..@ reductions  : list()\n",
      "  .. .. ..@ project.name: chr \"SeuratProject\"\n",
      "  .. .. ..@ misc        : list()\n",
      "  .. .. ..@ version     :Classes 'package_version', 'numeric_version'  hidden list of 1\n",
      "  .. .. .. ..$ : int [1:3] 3 1 5\n",
      "  .. .. ..@ commands    : list()\n",
      "  .. .. ..@ tools       : list()\n",
      "  ..$ :Formal class 'Seurat' [package \"Seurat\"] with 12 slots\n",
      "  .. .. ..@ assays      :List of 1\n",
      "  .. .. .. ..$ RNA:Formal class 'Assay' [package \"Seurat\"] with 8 slots\n",
      "  .. .. .. .. .. ..@ counts       :Formal class 'dgCMatrix' [package \"Matrix\"] with 6 slots\n",
      "  .. .. .. .. .. .. .. ..@ i       : int [1:2353919] 1 2 3 4 5 6 7 9 11 13 ...\n",
      "  .. .. .. .. .. .. .. ..@ p       : int [1:5773] 0 415 830 1245 1660 2075 2490 2905 3320 3735 ...\n",
      "  .. .. .. .. .. .. .. ..@ Dim     : int [1:2] 500 5772\n",
      "  .. .. .. .. .. .. .. ..@ Dimnames:List of 2\n",
      "  .. .. .. .. .. .. .. .. ..$ : chr [1:500] \"1\" \"2\" \"3\" \"4\" ...\n",
      "  .. .. .. .. .. .. .. .. ..$ : chr [1:5772] \"1\" \"2\" \"3\" \"4\" ...\n",
      "  .. .. .. .. .. .. .. ..@ x       : num [1:2353919] 0.001 0.001 2.031 0.161 2.567 ...\n",
      "  .. .. .. .. .. .. .. ..@ factors : list()\n",
      "  .. .. .. .. .. ..@ data         :Formal class 'dgCMatrix' [package \"Matrix\"] with 6 slots\n",
      "  .. .. .. .. .. .. .. ..@ i       : int [1:2353919] 1 2 3 4 5 6 7 9 11 13 ...\n",
      "  .. .. .. .. .. .. .. ..@ p       : int [1:5773] 0 415 830 1245 1660 2075 2490 2905 3320 3735 ...\n",
      "  .. .. .. .. .. .. .. ..@ Dim     : int [1:2] 500 5772\n",
      "  .. .. .. .. .. .. .. ..@ Dimnames:List of 2\n",
      "  .. .. .. .. .. .. .. .. ..$ : chr [1:500] \"1\" \"2\" \"3\" \"4\" ...\n",
      "  .. .. .. .. .. .. .. .. ..$ : chr [1:5772] \"1\" \"2\" \"3\" \"4\" ...\n",
      "  .. .. .. .. .. .. .. ..@ x       : num [1:2353919] 0.001 0.001 2.031 0.161 2.567 ...\n",
      "  .. .. .. .. .. .. .. ..@ factors : list()\n",
      "  .. .. .. .. .. ..@ scale.data   : num[0 , 0 ] \n",
      "  .. .. .. .. .. ..@ key          : chr \"rna_\"\n",
      "  .. .. .. .. .. ..@ assay.orig   : NULL\n",
      "  .. .. .. .. .. ..@ var.features : logi(0) \n",
      "  .. .. .. .. .. ..@ meta.features:'data.frame':\t500 obs. of  0 variables\n",
      "  .. .. .. .. .. ..@ misc         : NULL\n",
      "  .. .. ..@ meta.data   :'data.frame':\t5772 obs. of  4 variables:\n",
      "  .. .. .. ..$ orig.ident   : Factor w/ 1 level \"SeuratProject\": 1 1 1 1 1 1 1 1 1 1 ...\n",
      "  .. .. .. ..$ nCount_RNA   : num [1:5772] 492 479 482 437 469 ...\n",
      "  .. .. .. ..$ nFeature_RNA : int [1:5772] 415 415 415 415 415 415 415 415 415 415 ...\n",
      "  .. .. .. ..$ Celltype_used: chr [1:5772] \"celltype 1\" \"celltype 1\" \"celltype 1\" \"celltype 1\" ...\n",
      "  .. .. ..@ active.assay: chr \"RNA\"\n",
      "  .. .. ..@ active.ident: Factor w/ 1 level \"SeuratProject\": 1 1 1 1 1 1 1 1 1 1 ...\n",
      "  .. .. .. ..- attr(*, \"names\")= chr [1:5772] \"1\" \"2\" \"3\" \"4\" ...\n",
      "  .. .. ..@ graphs      : list()\n",
      "  .. .. ..@ neighbors   : list()\n",
      "  .. .. ..@ reductions  : list()\n",
      "  .. .. ..@ project.name: chr \"SeuratProject\"\n",
      "  .. .. ..@ misc        : list()\n",
      "  .. .. ..@ version     :Classes 'package_version', 'numeric_version'  hidden list of 1\n",
      "  .. .. .. ..$ : int [1:3] 3 1 5\n",
      "  .. .. ..@ commands    : list()\n",
      "  .. .. ..@ tools       : list()\n",
      "  ..$ :Formal class 'Seurat' [package \"Seurat\"] with 12 slots\n",
      "  .. .. ..@ assays      :List of 1\n",
      "  .. .. .. ..$ RNA:Formal class 'Assay' [package \"Seurat\"] with 8 slots\n",
      "  .. .. .. .. .. ..@ counts       :Formal class 'dgCMatrix' [package \"Matrix\"] with 6 slots\n",
      "  .. .. .. .. .. .. .. ..@ i       : int [1:2589046] 1 2 3 4 5 6 7 9 11 13 ...\n",
      "  .. .. .. .. .. .. .. ..@ p       : int [1:6346] 0 415 830 1245 1660 2075 2490 2905 3320 3735 ...\n",
      "  .. .. .. .. .. .. .. ..@ Dim     : int [1:2] 500 6345\n",
      "  .. .. .. .. .. .. .. ..@ Dimnames:List of 2\n",
      "  .. .. .. .. .. .. .. .. ..$ : chr [1:500] \"1\" \"2\" \"3\" \"4\" ...\n",
      "  .. .. .. .. .. .. .. .. ..$ : chr [1:6345] \"1\" \"2\" \"3\" \"4\" ...\n",
      "  .. .. .. .. .. .. .. ..@ x       : num [1:2589046] 0.001 0.367 1.74 0.001 0.001 ...\n",
      "  .. .. .. .. .. .. .. ..@ factors : list()\n",
      "  .. .. .. .. .. ..@ data         :Formal class 'dgCMatrix' [package \"Matrix\"] with 6 slots\n",
      "  .. .. .. .. .. .. .. ..@ i       : int [1:2589046] 1 2 3 4 5 6 7 9 11 13 ...\n",
      "  .. .. .. .. .. .. .. ..@ p       : int [1:6346] 0 415 830 1245 1660 2075 2490 2905 3320 3735 ...\n",
      "  .. .. .. .. .. .. .. ..@ Dim     : int [1:2] 500 6345\n",
      "  .. .. .. .. .. .. .. ..@ Dimnames:List of 2\n",
      "  .. .. .. .. .. .. .. .. ..$ : chr [1:500] \"1\" \"2\" \"3\" \"4\" ...\n",
      "  .. .. .. .. .. .. .. .. ..$ : chr [1:6345] \"1\" \"2\" \"3\" \"4\" ...\n",
      "  .. .. .. .. .. .. .. ..@ x       : num [1:2589046] 0.001 0.367 1.74 0.001 0.001 ...\n",
      "  .. .. .. .. .. .. .. ..@ factors : list()\n",
      "  .. .. .. .. .. ..@ scale.data   : num[0 , 0 ] \n",
      "  .. .. .. .. .. ..@ key          : chr \"rna_\"\n",
      "  .. .. .. .. .. ..@ assay.orig   : NULL\n",
      "  .. .. .. .. .. ..@ var.features : logi(0) \n",
      "  .. .. .. .. .. ..@ meta.features:'data.frame':\t500 obs. of  0 variables\n",
      "  .. .. .. .. .. ..@ misc         : NULL\n",
      "  .. .. ..@ meta.data   :'data.frame':\t6345 obs. of  4 variables:\n",
      "  .. .. .. ..$ orig.ident   : Factor w/ 1 level \"SeuratProject\": 1 1 1 1 1 1 1 1 1 1 ...\n",
      "  .. .. .. ..$ nCount_RNA   : num [1:6345] 485 451 529 452 497 ...\n",
      "  .. .. .. ..$ nFeature_RNA : int [1:6345] 415 415 415 415 415 415 415 415 415 415 ...\n",
      "  .. .. .. ..$ Celltype_used: chr [1:6345] \"celltype 1\" \"celltype 1\" \"celltype 1\" \"celltype 1\" ...\n",
      "  .. .. ..@ active.assay: chr \"RNA\"\n",
      "  .. .. ..@ active.ident: Factor w/ 1 level \"SeuratProject\": 1 1 1 1 1 1 1 1 1 1 ...\n",
      "  .. .. .. ..- attr(*, \"names\")= chr [1:6345] \"1\" \"2\" \"3\" \"4\" ...\n",
      "  .. .. ..@ graphs      : list()\n",
      "  .. .. ..@ neighbors   : list()\n",
      "  .. .. ..@ reductions  : list()\n",
      "  .. .. ..@ project.name: chr \"SeuratProject\"\n",
      "  .. .. ..@ misc        : list()\n",
      "  .. .. ..@ version     :Classes 'package_version', 'numeric_version'  hidden list of 1\n",
      "  .. .. .. ..$ : int [1:3] 3 1 5\n",
      "  .. .. ..@ commands    : list()\n",
      "  .. .. ..@ tools       : list()\n",
      "  ..$ :Formal class 'Seurat' [package \"Seurat\"] with 12 slots\n",
      "  .. .. ..@ assays      :List of 1\n",
      "  .. .. .. ..$ RNA:Formal class 'Assay' [package \"Seurat\"] with 8 slots\n",
      "  .. .. .. .. .. ..@ counts       :Formal class 'dgCMatrix' [package \"Matrix\"] with 6 slots\n",
      "  .. .. .. .. .. .. .. ..@ i       : int [1:2363722] 1 2 3 4 5 6 7 8 9 10 ...\n",
      "  .. .. .. .. .. .. .. ..@ p       : int [1:5776] 0 411 822 1233 1644 2055 2466 2877 3288 3699 ...\n",
      "  .. .. .. .. .. .. .. ..@ Dim     : int [1:2] 500 5775\n",
      "  .. .. .. .. .. .. .. ..@ Dimnames:List of 2\n",
      "  .. .. .. .. .. .. .. .. ..$ : chr [1:500] \"1\" \"2\" \"3\" \"4\" ...\n",
      "  .. .. .. .. .. .. .. .. ..$ : chr [1:5775] \"1\" \"2\" \"3\" \"4\" ...\n",
      "  .. .. .. .. .. .. .. ..@ x       : num [1:2363722] 0.001 0.001 2.798 0.001 0.001 ...\n",
      "  .. .. .. .. .. .. .. ..@ factors : list()\n",
      "  .. .. .. .. .. ..@ data         :Formal class 'dgCMatrix' [package \"Matrix\"] with 6 slots\n",
      "  .. .. .. .. .. .. .. ..@ i       : int [1:2363722] 1 2 3 4 5 6 7 8 9 10 ...\n",
      "  .. .. .. .. .. .. .. ..@ p       : int [1:5776] 0 411 822 1233 1644 2055 2466 2877 3288 3699 ...\n",
      "  .. .. .. .. .. .. .. ..@ Dim     : int [1:2] 500 5775\n",
      "  .. .. .. .. .. .. .. ..@ Dimnames:List of 2\n",
      "  .. .. .. .. .. .. .. .. ..$ : chr [1:500] \"1\" \"2\" \"3\" \"4\" ...\n",
      "  .. .. .. .. .. .. .. .. ..$ : chr [1:5775] \"1\" \"2\" \"3\" \"4\" ...\n",
      "  .. .. .. .. .. .. .. ..@ x       : num [1:2363722] 0.001 0.001 2.798 0.001 0.001 ...\n",
      "  .. .. .. .. .. .. .. ..@ factors : list()\n",
      "  .. .. .. .. .. ..@ scale.data   : num[0 , 0 ] \n",
      "  .. .. .. .. .. ..@ key          : chr \"rna_\"\n",
      "  .. .. .. .. .. ..@ assay.orig   : NULL\n",
      "  .. .. .. .. .. ..@ var.features : logi(0) \n",
      "  .. .. .. .. .. ..@ meta.features:'data.frame':\t500 obs. of  0 variables\n",
      "  .. .. .. .. .. ..@ misc         : NULL\n",
      "  .. .. ..@ meta.data   :'data.frame':\t5775 obs. of  4 variables:\n",
      "  .. .. .. ..$ orig.ident   : Factor w/ 1 level \"SeuratProject\": 1 1 1 1 1 1 1 1 1 1 ...\n",
      "  .. .. .. ..$ nCount_RNA   : num [1:5775] 520 457 470 455 440 ...\n",
      "  .. .. .. ..$ nFeature_RNA : int [1:5775] 411 411 411 411 411 411 411 411 411 411 ...\n",
      "  .. .. .. ..$ Celltype_used: chr [1:5775] \"celltype 1\" \"celltype 1\" \"celltype 1\" \"celltype 1\" ...\n",
      "  .. .. ..@ active.assay: chr \"RNA\"\n",
      "  .. .. ..@ active.ident: Factor w/ 1 level \"SeuratProject\": 1 1 1 1 1 1 1 1 1 1 ...\n",
      "  .. .. .. ..- attr(*, \"names\")= chr [1:5775] \"1\" \"2\" \"3\" \"4\" ...\n",
      "  .. .. ..@ graphs      : list()\n",
      "  .. .. ..@ neighbors   : list()\n",
      "  .. .. ..@ reductions  : list()\n",
      "  .. .. ..@ project.name: chr \"SeuratProject\"\n",
      "  .. .. ..@ misc        : list()\n",
      "  .. .. ..@ version     :Classes 'package_version', 'numeric_version'  hidden list of 1\n",
      "  .. .. .. ..$ : int [1:3] 3 1 5\n",
      "  .. .. ..@ commands    : list()\n",
      "  .. .. ..@ tools       : list()\n",
      " $ T      : num 4\n",
      " $ K      : num 8\n",
      " $ D      : num 500\n",
      " $ true_Z : num [1:8, 1:200] 0.979346 0.009721 0.004514 0.005311 0.000104 ...\n",
      " $ true_w :List of 4\n",
      "  ..$ v      : num [1:500, 1:8] 1.05 2.37 2.13 1.27 1.81 ...\n",
      "  ..$ gamma  : int [1:500, 1:8] 1 0 0 1 0 0 0 0 1 0 ...\n",
      "  ..$ max_cos: num 0.43\n",
      "  ..$ w      :List of 4\n",
      "  .. ..$ : num [1:500, 1:8] 1.315 0.137 0.001 1.391 0.001 ...\n",
      "  .. ..$ : num [1:500, 1:8] 2.903 0.001 0.001 2.088 0.001 ...\n",
      "  .. ..$ : num [1:500, 1:8] 1.686 0.001 0.001 0.876 0.001 ...\n",
      "  .. ..$ : num [1:500, 1:8] 2.788 0.001 0.001 0.353 0.001 ...\n",
      " $ raw_X  :List of 4\n",
      "  ..$ :List of 6\n",
      "  .. ..$ counts       : num [1:500, 1:5804] 0 0.001 1.618 0 0.169 ...\n",
      "  .. .. ..- attr(*, \"dimnames\")=List of 2\n",
      "  .. .. .. ..$ : chr [1:500] \"1\" \"2\" \"3\" \"4\" ...\n",
      "  .. .. .. ..$ : chr [1:5804] \"1\" \"2\" \"3\" \"4\" ...\n",
      "  .. ..$ Celltype_used: chr [1:5804] \"celltype 1\" \"celltype 1\" \"celltype 1\" \"celltype 1\" ...\n",
      "  .. ..$ tau_xd       : num [1:500] 0.065 0.581 1.042 0.643 0.411 ...\n",
      "  .. ..$ c_k          : int [1:8] 825 869 544 670 672 773 644 807\n",
      "  .. ..$ w_tilde      : num [1:500, 1:8] 0 0.599 0.378 0 0.619 ...\n",
      "  .. ..$ Celltype_list: chr [1:8] \"celltype 1\" \"celltype 2\" \"celltype 3\" \"celltype 4\" ...\n",
      "  ..$ :List of 6\n",
      "  .. ..$ counts       : num [1:500, 1:5772] 0 0.001 0.001 2.031 0.161 ...\n",
      "  .. .. ..- attr(*, \"dimnames\")=List of 2\n",
      "  .. .. .. ..$ : chr [1:500] \"1\" \"2\" \"3\" \"4\" ...\n",
      "  .. .. .. ..$ : chr [1:5772] \"1\" \"2\" \"3\" \"4\" ...\n",
      "  .. ..$ Celltype_used: chr [1:5772] \"celltype 1\" \"celltype 1\" \"celltype 1\" \"celltype 1\" ...\n",
      "  .. ..$ tau_xd       : num [1:500] 0.065 0.581 1.042 0.643 0.411 ...\n",
      "  .. ..$ c_k          : int [1:8] 766 861 585 891 599 717 602 751\n",
      "  .. ..$ w_tilde      : num [1:500, 1:8] 0 0.474 0.436 2.133 0.594 ...\n",
      "  .. ..$ Celltype_list: chr [1:8] \"celltype 1\" \"celltype 2\" \"celltype 3\" \"celltype 4\" ...\n",
      "  ..$ :List of 6\n",
      "  .. ..$ counts       : num [1:500, 1:6345] 0 0.001 0.367 1.74 0.001 ...\n",
      "  .. .. ..- attr(*, \"dimnames\")=List of 2\n",
      "  .. .. .. ..$ : chr [1:500] \"1\" \"2\" \"3\" \"4\" ...\n",
      "  .. .. .. ..$ : chr [1:6345] \"1\" \"2\" \"3\" \"4\" ...\n",
      "  .. ..$ Celltype_used: chr [1:6345] \"celltype 1\" \"celltype 1\" \"celltype 1\" \"celltype 1\" ...\n",
      "  .. ..$ tau_xd       : num [1:500] 0.065 0.581 1.042 0.643 0.411 ...\n",
      "  .. ..$ c_k          : int [1:8] 549 825 791 947 851 829 692 861\n",
      "  .. ..$ w_tilde      : num [1:500, 1:8] 0 0.565 0.387 1.057 0.679 ...\n",
      "  .. ..$ Celltype_list: chr [1:8] \"celltype 1\" \"celltype 2\" \"celltype 3\" \"celltype 4\" ...\n",
      "  ..$ :List of 6\n",
      "  .. ..$ counts       : num [1:500, 1:5775] 0 0.001 0.001 2.798 0.001 ...\n",
      "  .. .. ..- attr(*, \"dimnames\")=List of 2\n",
      "  .. .. .. ..$ : chr [1:500] \"1\" \"2\" \"3\" \"4\" ...\n",
      "  .. .. .. ..$ : chr [1:5775] \"1\" \"2\" \"3\" \"4\" ...\n",
      "  .. ..$ Celltype_used: chr [1:5775] \"celltype 1\" \"celltype 1\" \"celltype 1\" \"celltype 1\" ...\n",
      "  .. ..$ tau_xd       : num [1:500] 0.065 0.581 1.042 0.643 0.411 ...\n",
      "  .. ..$ c_k          : int [1:8] 898 592 765 708 759 676 531 846\n",
      "  .. ..$ w_tilde      : num [1:500, 1:8] 0 0.494 0.4 0.687 0.648 ...\n",
      "  .. ..$ Celltype_list: chr [1:8] \"celltype 1\" \"celltype 2\" \"celltype 3\" \"celltype 4\" ...\n",
      " $ c_k    : int [1:8, 1:4] 825 869 544 670 672 773 644 807 766 861 ...\n",
      " $ W_tilde: num [1:500, 1:8] 0 0.599 0.378 0 0.619 ...\n",
      " $ YSG    : int [1:500] 1 2 3 4 5 6 7 8 9 10 ...\n"
     ]
    }
   ],
   "source": [
    "str(same_input)"
   ]
  },
  {
   "cell_type": "code",
   "execution_count": 33,
   "metadata": {},
   "outputs": [
    {
     "data": {
      "text/html": [
       "0"
      ],
      "text/latex": [
       "0"
      ],
      "text/markdown": [
       "0"
      ],
      "text/plain": [
       "[1] 0"
      ]
     },
     "metadata": {},
     "output_type": "display_data"
    }
   ],
   "source": [
    "sum(abs(GetAssayData(same_input$X[[1]])[,1]-same_input$raw_X[[1]]$counts[,1]))"
   ]
  },
  {
   "cell_type": "code",
   "execution_count": null,
   "metadata": {},
   "outputs": [],
   "source": []
  }
 ],
 "metadata": {
  "kernelspec": {
   "display_name": "R",
   "language": "R",
   "name": "ir"
  },
  "language_info": {
   "codemirror_mode": "r",
   "file_extension": ".r",
   "mimetype": "text/x-r-source",
   "name": "R",
   "pygments_lexer": "r",
   "version": "3.6.1"
  }
 },
 "nbformat": 4,
 "nbformat_minor": 4
}
